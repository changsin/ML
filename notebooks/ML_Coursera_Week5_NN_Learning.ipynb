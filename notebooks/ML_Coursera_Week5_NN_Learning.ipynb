{
  "nbformat": 4,
  "nbformat_minor": 0,
  "metadata": {
    "colab": {
      "name": "ML_Coursera_Week5_NN_Learning.ipynb",
      "provenance": [],
      "authorship_tag": "ABX9TyN2H1Zt3O21qrWJjXwh6Bcp",
      "include_colab_link": true
    },
    "kernelspec": {
      "name": "python3",
      "display_name": "Python 3"
    },
    "language_info": {
      "name": "python"
    }
  },
  "cells": [
    {
      "cell_type": "markdown",
      "metadata": {
        "id": "view-in-github",
        "colab_type": "text"
      },
      "source": [
        "<a href=\"https://colab.research.google.com/github/changsin/ML/blob/main/notebooks/ML_Coursera_Week5_NN_Learning.ipynb\" target=\"_parent\"><img src=\"https://colab.research.google.com/assets/colab-badge.svg\" alt=\"Open In Colab\"/></a>"
      ]
    },
    {
      "cell_type": "markdown",
      "metadata": {
        "id": "cMKloU0lRTCG"
      },
      "source": [
        "# Week5 Neural Networks: Learning\n",
        "\n",
        "## Question: Gradient Checking\n",
        "Let $ J(\\theta) = \\theta^3 $. Furthermore let $ \\theta = 1 $ and $ \\epsilon = 0.01 $. You use the formula $ \\frac{J(\\theta + \\epsilon) - J(\\theta - \\epsilon)}{2\\epsilon} $ to approximate the derivative. What value do you get using this approximation? (when $ \\theta = 1 $, the true, exact derivative is $ \\frac{\\delta}{\\delta \\theta} J (\\theta) = 3 $)"
      ]
    },
    {
      "cell_type": "code",
      "metadata": {
        "colab": {
          "base_uri": "https://localhost:8080/"
        },
        "id": "wLp8KRdTRKrt",
        "outputId": "f85265f9-86e2-47e9-fd27-591c1e6b144a"
      },
      "source": [
        "theta = 1\n",
        "epsilon = 0.01\n",
        "\n",
        "def gradient_check(J, theta, epsilon):\n",
        "  return (J(theta + epsilon) - J(theta - epsilon))/(2*epsilon)\n",
        "\n",
        "\n",
        "gradient_check(lambda x: x*x*x, theta, epsilon)"
      ],
      "execution_count": 2,
      "outputs": [
        {
          "output_type": "execute_result",
          "data": {
            "text/plain": [
              "3.0000999999999998"
            ]
          },
          "metadata": {},
          "execution_count": 2
        }
      ]
    },
    {
      "cell_type": "code",
      "metadata": {
        "colab": {
          "base_uri": "https://localhost:8080/"
        },
        "id": "0WHrZUucT7gK",
        "outputId": "a74e4c89-7d1c-453d-da3a-4e6d82eab6fe"
      },
      "source": [
        "gradient_check(lambda x: 3*x*x*x*x + 4, theta, epsilon)"
      ],
      "execution_count": 3,
      "outputs": [
        {
          "output_type": "execute_result",
          "data": {
            "text/plain": [
              "12.00120000000009"
            ]
          },
          "metadata": {},
          "execution_count": 3
        }
      ]
    }
  ]
}
