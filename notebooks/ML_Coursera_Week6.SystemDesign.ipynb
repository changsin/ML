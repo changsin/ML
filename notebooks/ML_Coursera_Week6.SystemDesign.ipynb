{
  "nbformat": 4,
  "nbformat_minor": 0,
  "metadata": {
    "colab": {
      "name": "ML_Coursera_Week6.SystemDesign.ipynb",
      "provenance": [],
      "authorship_tag": "ABX9TyMz4C/YPtzKGiXDSIyAjpzf",
      "include_colab_link": true
    },
    "kernelspec": {
      "name": "python3",
      "display_name": "Python 3"
    },
    "language_info": {
      "name": "python"
    }
  },
  "cells": [
    {
      "cell_type": "markdown",
      "metadata": {
        "id": "view-in-github",
        "colab_type": "text"
      },
      "source": [
        "<a href=\"https://colab.research.google.com/github/changsin/ML/blob/main/notebooks/ML_Coursera_Week6.SystemDesign.ipynb\" target=\"_parent\"><img src=\"https://colab.research.google.com/assets/colab-badge.svg\" alt=\"Open In Colab\"/></a>"
      ]
    },
    {
      "cell_type": "markdown",
      "metadata": {
        "id": "cMKloU0lRTCG"
      },
      "source": [
        "# Week6 Machine Learning System Design\n",
        "\n",
        "## Quiz\n",
        "\n",
        "1. You are working on a spam classification system using regularized logistic regression. \"Spam\" is a positive class (y = 1) and \"not spam\" is the negative class (y = 0). You have trained your classifier and there are m = 1000 examples in the cross-validation set. The chart of predicted class vs. actual class is:\n",
        "\t\n",
        "|   | Actual Class: 1 | Actual Class: 0 |\n",
        "| --- | --- | --- |\n",
        "| Predicted Class: 1 | 85 | 890 |\n",
        "| Predicted Class: 0 | 15 | 10 |\n",
        "\n",
        "For reference:\n",
        "- Accuracy = (true positives + true negatives) / (total examples)\n",
        "- Precision = (true positives) / (true positives + false positives)\n",
        "- Recall = (true positives) / (true positives + false negatives)\n",
        "- $ F_1 $ score = (2 * precision * recall) / (precision + recall)\n",
        "\n",
        "\n",
        "\n"
      ]
    },
    {
      "cell_type": "code",
      "metadata": {
        "colab": {
          "base_uri": "https://localhost:8080/"
        },
        "id": "wLp8KRdTRKrt",
        "outputId": "2378ac11-424e-4e24-9ff4-f8f57d9418ff"
      },
      "source": [
        "class Metrics:\n",
        "  def __init__(self, TP, FP, FN, TN):\n",
        "    self.TP = TP\n",
        "    self.FP = FP\n",
        "    self.FN = FN\n",
        "    self.TN = TN\n",
        "\n",
        "  def calc_accuracy(self):\n",
        "    return (self.TP + self.TN)/(self.TP + self.FP + self.FN + self.TN)\n",
        "\n",
        "  def calc_precision(self):\n",
        "    return (self.TP)/(self.TP + self.FP)\n",
        "\n",
        "  def calc_recall(self):\n",
        "    return (self.TP)/(self.TP + self.FN)\n",
        "\n",
        "  def calc_f1(self):\n",
        "    precision = self.calc_precision()\n",
        "    recall = self.calc_recall()\n",
        "    return 2 * (precision * recall)/(precision + recall)\n",
        "\n",
        "TP = 85\n",
        "FP = 890\n",
        "FN = 15\n",
        "TN = 10\n",
        "\n",
        "metrics = Metrics(TP, FP, FN, TN)\n",
        "metrics.calc_f1()"
      ],
      "execution_count": 2,
      "outputs": [
        {
          "output_type": "execute_result",
          "data": {
            "text/plain": [
              "0.1581395348837209"
            ]
          },
          "metadata": {},
          "execution_count": 2
        }
      ]
    },
    {
      "cell_type": "code",
      "metadata": {
        "id": "CBUyBeHsa1Pa"
      },
      "source": [
        ""
      ],
      "execution_count": null,
      "outputs": []
    }
  ]
}
