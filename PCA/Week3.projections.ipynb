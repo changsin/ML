{
  "nbformat": 4,
  "nbformat_minor": 0,
  "metadata": {
    "colab": {
      "name": "Week3.projections.ipynb",
      "provenance": [],
      "collapsed_sections": [],
      "toc_visible": true,
      "include_colab_link": true
    },
    "kernelspec": {
      "display_name": "Python 3",
      "name": "python3"
    }
  },
  "cells": [
    {
      "cell_type": "markdown",
      "metadata": {
        "id": "view-in-github",
        "colab_type": "text"
      },
      "source": [
        "<a href=\"https://colab.research.google.com/github/changsin/ML/blob/main/PCA/Week3.projections.ipynb\" target=\"_parent\"><img src=\"https://colab.research.google.com/assets/colab-badge.svg\" alt=\"Open In Colab\"/></a>"
      ]
    },
    {
      "cell_type": "markdown",
      "source": [
        "# PCA: Week 3 - Projections\n",
        "\n"
      ],
      "metadata": {
        "id": "RjcXllndCECU"
      }
    },
    {
      "cell_type": "markdown",
      "source": [
        "## Projection onto 1D subspaces\n",
        "1. Dot product is inner product of matrices.\n",
        "$$ \\pi_u (x) = \\frac{x^Tb}{||b||^2}b $$\n"
      ],
      "metadata": {
        "id": "7Hl1fif2AGvO"
      }
    },
    {
      "cell_type": "markdown",
      "source": [
        "## Assignment\n",
        "\n",
        "Recall that for projection of a vector $\\boldsymbol x$ onto a 1-dimensional subspace $U$ with basis vector $\\boldsymbol b$ we have\n",
        "\n",
        "$${\\pi_U}(\\boldsymbol x) = \\frac{\\boldsymbol b\\boldsymbol b^T}{{\\lVert\\boldsymbol  b \\rVert}^2}\\boldsymbol x $$\n",
        "\n",
        "And for the general projection onto an M-dimensional subspace $U$ with basis vectors $\\boldsymbol b_1,\\dotsc, \\boldsymbol b_M$ we have\n",
        "\n",
        "$${\\pi_U}(\\boldsymbol x) = \\boldsymbol B(\\boldsymbol B^T\\boldsymbol B)^{-1}\\boldsymbol B^T\\boldsymbol x $$\n",
        "\n",
        "where \n",
        "\n",
        "$$\\boldsymbol B = [\\boldsymbol b_1,...,\\boldsymbol b_M]$$\n",
        "\n",
        "\n",
        "Your task is to implement orthogonal projections. We can split this into two steps\n",
        "1. Find the projection matrix $\\boldsymbol P$ that projects any $\\boldsymbol x$ onto $U$.\n",
        "2. The projected vector $\\pi_U(\\boldsymbol x)$ of $\\boldsymbol x$ can then be written as $\\pi_U(\\boldsymbol x) = \\boldsymbol P\\boldsymbol x$.\n",
        "\n",
        "To perform step 1, you need to complete the function `projection_matrix_1d` and `projection_matrix_general`. To perform step 2, complete `project_1d` and `project_general`."
      ],
      "metadata": {
        "id": "SsGpg4FrsN5j"
      }
    },
    {
      "cell_type": "markdown",
      "source": [
        "### Quiz"
      ],
      "metadata": {
        "id": "4k1bJvcXCczr"
      }
    },
    {
      "cell_type": "markdown",
      "source": [
        "#### Question 1\n",
        "Compute the projection matrix that allows us to project any vector $ \\mathbf{x}\\in\\mathbb{R}^3 $ onto the subspace spanned by the basis vector $ \\mathbf{b} = \\begin{bmatrix} 1 \\\\ 2 \\\\ 2 \\end{bmatrix} $​"
      ],
      "metadata": {
        "id": "gg9Jeb9t-l0O"
      }
    },
    {
      "cell_type": "code",
      "source": [
        "import numpy as np\n",
        "def length(x):\n",
        "  return np.dot(x.T, x)\n",
        "\n",
        "def projection_matrix(b):\n",
        "  return np.matmul(b, b.T)/(length(b)*length(b))\n",
        "\n",
        "b = np.array([[1], [2], [2]])\n",
        "projection_matrix(b)"
      ],
      "metadata": {
        "id": "fSfLbZzdCIZQ",
        "outputId": "ce62e1c5-b8ca-4065-92c8-d63f4fa869b0",
        "colab": {
          "base_uri": "https://localhost:8080/"
        }
      },
      "execution_count": 25,
      "outputs": [
        {
          "output_type": "execute_result",
          "data": {
            "text/plain": [
              "array([[0.01234568, 0.02469136, 0.02469136],\n",
              "       [0.02469136, 0.04938272, 0.04938272],\n",
              "       [0.02469136, 0.04938272, 0.04938272]])"
            ]
          },
          "metadata": {},
          "execution_count": 25
        }
      ]
    },
    {
      "cell_type": "code",
      "source": [
        "b = np.array([1, 2, 2])"
      ],
      "metadata": {
        "id": "D4F_SpRxudyV"
      },
      "execution_count": 3,
      "outputs": []
    },
    {
      "cell_type": "code",
      "source": [
        "np.outer(b, b.T)"
      ],
      "metadata": {
        "id": "28iSeIrFS8rh",
        "outputId": "cee2704c-feee-429c-82ce-0869e69da557",
        "colab": {
          "base_uri": "https://localhost:8080/"
        }
      },
      "execution_count": 11,
      "outputs": [
        {
          "output_type": "execute_result",
          "data": {
            "text/plain": [
              "array([[1, 2, 2],\n",
              "       [2, 4, 4],\n",
              "       [2, 4, 4]])"
            ]
          },
          "metadata": {},
          "execution_count": 11
        }
      ]
    },
    {
      "cell_type": "code",
      "source": [
        "b = np.array([1, 2, 2])\n",
        "np.outer(b, b)"
      ],
      "metadata": {
        "id": "DXX0C2W2PM2f",
        "outputId": "6325304e-ab14-45d8-c9c1-3425669dfad3",
        "colab": {
          "base_uri": "https://localhost:8080/"
        }
      },
      "execution_count": 10,
      "outputs": [
        {
          "output_type": "execute_result",
          "data": {
            "text/plain": [
              "array([[1, 2, 2],\n",
              "       [2, 4, 4],\n",
              "       [2, 4, 4]])"
            ]
          },
          "metadata": {},
          "execution_count": 10
        }
      ]
    },
    {
      "cell_type": "code",
      "source": [
        "np.linalg.norm(b)"
      ],
      "metadata": {
        "id": "Wauagcb51Gnw",
        "outputId": "f21032a4-248f-43e6-fd34-f1a5d39bcdcc",
        "colab": {
          "base_uri": "https://localhost:8080/"
        }
      },
      "execution_count": 12,
      "outputs": [
        {
          "output_type": "execute_result",
          "data": {
            "text/plain": [
              "3.0"
            ]
          },
          "metadata": {},
          "execution_count": 12
        }
      ]
    },
    {
      "cell_type": "code",
      "source": [
        "b"
      ],
      "metadata": {
        "id": "GvO4Wy2uRJLW",
        "outputId": "1b775861-345c-47df-ea17-c3d5336cfff5",
        "colab": {
          "base_uri": "https://localhost:8080/"
        }
      },
      "execution_count": 27,
      "outputs": [
        {
          "output_type": "execute_result",
          "data": {
            "text/plain": [
              "array([[1],\n",
              "       [2],\n",
              "       [2]])"
            ]
          },
          "metadata": {},
          "execution_count": 27
        }
      ]
    },
    {
      "cell_type": "code",
      "source": [
        "np.linalg.inv(b)"
      ],
      "metadata": {
        "id": "8-pUfr-SRL4j",
        "outputId": "8ee112b1-3379-4792-e7db-c249f42ff8de",
        "colab": {
          "base_uri": "https://localhost:8080/",
          "height": 346
        }
      },
      "execution_count": 28,
      "outputs": [
        {
          "output_type": "error",
          "ename": "LinAlgError",
          "evalue": "ignored",
          "traceback": [
            "\u001b[0;31m---------------------------------------------------------------------------\u001b[0m",
            "\u001b[0;31mLinAlgError\u001b[0m                               Traceback (most recent call last)",
            "\u001b[0;32m<ipython-input-28-148e33efb734>\u001b[0m in \u001b[0;36m<module>\u001b[0;34m()\u001b[0m\n\u001b[0;32m----> 1\u001b[0;31m \u001b[0mnp\u001b[0m\u001b[0;34m.\u001b[0m\u001b[0mlinalg\u001b[0m\u001b[0;34m.\u001b[0m\u001b[0minv\u001b[0m\u001b[0;34m(\u001b[0m\u001b[0mb\u001b[0m\u001b[0;34m)\u001b[0m\u001b[0;34m\u001b[0m\u001b[0;34m\u001b[0m\u001b[0m\n\u001b[0m",
            "\u001b[0;32m<__array_function__ internals>\u001b[0m in \u001b[0;36minv\u001b[0;34m(*args, **kwargs)\u001b[0m\n",
            "\u001b[0;32m/usr/local/lib/python3.7/dist-packages/numpy/linalg/linalg.py\u001b[0m in \u001b[0;36minv\u001b[0;34m(a)\u001b[0m\n\u001b[1;32m    539\u001b[0m     \u001b[0ma\u001b[0m\u001b[0;34m,\u001b[0m \u001b[0mwrap\u001b[0m \u001b[0;34m=\u001b[0m \u001b[0m_makearray\u001b[0m\u001b[0;34m(\u001b[0m\u001b[0ma\u001b[0m\u001b[0;34m)\u001b[0m\u001b[0;34m\u001b[0m\u001b[0;34m\u001b[0m\u001b[0m\n\u001b[1;32m    540\u001b[0m     \u001b[0m_assert_stacked_2d\u001b[0m\u001b[0;34m(\u001b[0m\u001b[0ma\u001b[0m\u001b[0;34m)\u001b[0m\u001b[0;34m\u001b[0m\u001b[0;34m\u001b[0m\u001b[0m\n\u001b[0;32m--> 541\u001b[0;31m     \u001b[0m_assert_stacked_square\u001b[0m\u001b[0;34m(\u001b[0m\u001b[0ma\u001b[0m\u001b[0;34m)\u001b[0m\u001b[0;34m\u001b[0m\u001b[0;34m\u001b[0m\u001b[0m\n\u001b[0m\u001b[1;32m    542\u001b[0m     \u001b[0mt\u001b[0m\u001b[0;34m,\u001b[0m \u001b[0mresult_t\u001b[0m \u001b[0;34m=\u001b[0m \u001b[0m_commonType\u001b[0m\u001b[0;34m(\u001b[0m\u001b[0ma\u001b[0m\u001b[0;34m)\u001b[0m\u001b[0;34m\u001b[0m\u001b[0;34m\u001b[0m\u001b[0m\n\u001b[1;32m    543\u001b[0m \u001b[0;34m\u001b[0m\u001b[0m\n",
            "\u001b[0;32m/usr/local/lib/python3.7/dist-packages/numpy/linalg/linalg.py\u001b[0m in \u001b[0;36m_assert_stacked_square\u001b[0;34m(*arrays)\u001b[0m\n\u001b[1;32m    202\u001b[0m         \u001b[0mm\u001b[0m\u001b[0;34m,\u001b[0m \u001b[0mn\u001b[0m \u001b[0;34m=\u001b[0m \u001b[0ma\u001b[0m\u001b[0;34m.\u001b[0m\u001b[0mshape\u001b[0m\u001b[0;34m[\u001b[0m\u001b[0;34m-\u001b[0m\u001b[0;36m2\u001b[0m\u001b[0;34m:\u001b[0m\u001b[0;34m]\u001b[0m\u001b[0;34m\u001b[0m\u001b[0;34m\u001b[0m\u001b[0m\n\u001b[1;32m    203\u001b[0m         \u001b[0;32mif\u001b[0m \u001b[0mm\u001b[0m \u001b[0;34m!=\u001b[0m \u001b[0mn\u001b[0m\u001b[0;34m:\u001b[0m\u001b[0;34m\u001b[0m\u001b[0;34m\u001b[0m\u001b[0m\n\u001b[0;32m--> 204\u001b[0;31m             \u001b[0;32mraise\u001b[0m \u001b[0mLinAlgError\u001b[0m\u001b[0;34m(\u001b[0m\u001b[0;34m'Last 2 dimensions of the array must be square'\u001b[0m\u001b[0;34m)\u001b[0m\u001b[0;34m\u001b[0m\u001b[0;34m\u001b[0m\u001b[0m\n\u001b[0m\u001b[1;32m    205\u001b[0m \u001b[0;34m\u001b[0m\u001b[0m\n\u001b[1;32m    206\u001b[0m \u001b[0;32mdef\u001b[0m \u001b[0m_assert_finite\u001b[0m\u001b[0;34m(\u001b[0m\u001b[0;34m*\u001b[0m\u001b[0marrays\u001b[0m\u001b[0;34m)\u001b[0m\u001b[0;34m:\u001b[0m\u001b[0;34m\u001b[0m\u001b[0;34m\u001b[0m\u001b[0m\n",
            "\u001b[0;31mLinAlgError\u001b[0m: Last 2 dimensions of the array must be square"
          ]
        }
      ]
    },
    {
      "cell_type": "code",
      "source": [
        "np.linalg.inv([[3, 3],[3, 5]])"
      ],
      "metadata": {
        "id": "v7ivWwb7Sj7D",
        "outputId": "161f03d5-2b85-46e5-df0b-83365164ebbd",
        "colab": {
          "base_uri": "https://localhost:8080/"
        }
      },
      "execution_count": 21,
      "outputs": [
        {
          "output_type": "execute_result",
          "data": {
            "text/plain": [
              "array([[ 0.83333333, -0.5       ],\n",
              "       [-0.5       ,  0.5       ]])"
            ]
          },
          "metadata": {},
          "execution_count": 21
        }
      ]
    },
    {
      "cell_type": "markdown",
      "source": [
        "### Question 2\n",
        "Given the projection matrix\n",
        "$ \\displaystyle\\frac{1}{25}\n",
        " \\begin{bmatrix} \n",
        "  9 & 0 & 12 \\\\\n",
        "  0 & 0 & 0 \\\\\n",
        "  12 & 0 & 16\n",
        "  \\end{bmatrix}\n",
        "$\n",
        "\n",
        "project $\n",
        " \\begin{bmatrix} \n",
        "  1 \\\\ 1 \\\\ 1\n",
        "  \\end{bmatrix}\n",
        "$​ onto the corresponding subspace, which is spanned by\n",
        "$ \\mathbf{b} = \\begin{bmatrix} 3 \\\\ 0 \\\\ 4 \\end{bmatrix} $\n"
      ],
      "metadata": {
        "id": "VFM_E--7-imq"
      }
    },
    {
      "cell_type": "markdown",
      "source": [
        "#### Question 3\n",
        "Now, we compute the reconstruction error, i.e., the distance between the original data point and its projection onto a lower-dimensional subspace.\n",
        "\n",
        "Assume our original data point is \n",
        "$\n",
        " \\begin{bmatrix} \n",
        "  1 \\\\ 1 \\\\ 1\n",
        "  \\end{bmatrix}\n",
        "$​ and its projection\n",
        "$\\frac{1}{9}\n",
        " \\begin{bmatrix} \n",
        "  5 \\\\ 10 \\\\ 10\n",
        "  \\end{bmatrix}\n",
        "$​. What is the reconstruction error?"
      ],
      "metadata": {
        "id": "AUorlIYZA6GK"
      }
    },
    {
      "cell_type": "code",
      "source": [
        "def distance(x, y):\n",
        "  delta = x - y\n",
        "  return np.sqrt(np.matmul(delta.T, delta))\n",
        "\n",
        "x = np.array([1, 1, 1])\n",
        "xp = (1/9) * np.array([5, 10, 10])\n",
        "\n",
        "distance(x, xp)"
      ],
      "metadata": {
        "id": "TQaE9B4HyvT6",
        "outputId": "90752811-1868-4d00-e365-4e39c7bf6b27",
        "colab": {
          "base_uri": "https://localhost:8080/"
        }
      },
      "execution_count": 15,
      "outputs": [
        {
          "output_type": "execute_result",
          "data": {
            "text/plain": [
              "0.4714045207910317"
            ]
          },
          "metadata": {},
          "execution_count": 15
        }
      ]
    },
    {
      "cell_type": "markdown",
      "source": [
        "## Practice Quiz\n"
      ],
      "metadata": {
        "id": "-JCX5nY6TVUg"
      }
    },
    {
      "cell_type": "markdown",
      "source": [
        "#### Question 1"
      ],
      "metadata": {
        "id": "Py5GdO08TZaf"
      }
    },
    {
      "cell_type": "code",
      "source": [
        "x = np.array([[6], [0], [0]])\n",
        "b1 = np.array([[1], [1], [1]])\n",
        "b2 = np.array([[0], [1], [2]])\n",
        "B = np.array([[1, 0], [1, 1], [1, 2]])\n",
        "B"
      ],
      "metadata": {
        "id": "ssEhyFK8OdHT",
        "outputId": "80027736-c9a9-4ab4-9d4f-71bfe2244689",
        "colab": {
          "base_uri": "https://localhost:8080/"
        }
      },
      "execution_count": 15,
      "outputs": [
        {
          "output_type": "execute_result",
          "data": {
            "text/plain": [
              "array([[1, 0],\n",
              "       [1, 1],\n",
              "       [1, 2]])"
            ]
          },
          "metadata": {},
          "execution_count": 15
        }
      ]
    },
    {
      "cell_type": "code",
      "source": [
        "proj_matrix = np.matmul(np.matmul(B, np.matmul(B.T, B)), B.T)"
      ],
      "metadata": {
        "id": "DBBf1Lw9ToJ5"
      },
      "execution_count": 16,
      "outputs": []
    },
    {
      "cell_type": "code",
      "source": [
        "np.matmul(proj_matrix, x)"
      ],
      "metadata": {
        "id": "PUFgkXdkUN5n",
        "outputId": "2240f539-d41a-41fb-c1d3-340c56126a01",
        "colab": {
          "base_uri": "https://localhost:8080/"
        }
      },
      "execution_count": 17,
      "outputs": [
        {
          "output_type": "execute_result",
          "data": {
            "text/plain": [
              "array([[18],\n",
              "       [36],\n",
              "       [54]])"
            ]
          },
          "metadata": {},
          "execution_count": 17
        }
      ]
    },
    {
      "cell_type": "code",
      "source": [
        "proj_matrix @ x"
      ],
      "metadata": {
        "id": "ykbeUFhI1fhH",
        "outputId": "83c28429-6f97-480a-8d02-5659845ee1b2",
        "colab": {
          "base_uri": "https://localhost:8080/"
        }
      },
      "execution_count": 18,
      "outputs": [
        {
          "output_type": "execute_result",
          "data": {
            "text/plain": [
              "array([[18],\n",
              "       [36],\n",
              "       [54]])"
            ]
          },
          "metadata": {},
          "execution_count": 18
        }
      ]
    },
    {
      "cell_type": "markdown",
      "source": [
        "#### Question 2"
      ],
      "metadata": {
        "id": "tkxWoxl_WcEv"
      }
    },
    {
      "cell_type": "code",
      "source": [
        "def project(x, B):\n",
        "  # proj_matrix = np.matmul(np.matmul(B, np.matmul(B.T, B)), B.T)\n",
        "\n",
        "  # proj_matrix = B @ np.linalg.inv(B.T @ B) @ B.T\n",
        "  proj_matrix = B @ (np.linalg.inv(B.T @ B)) @ B.T\n",
        "  return np.matmul(proj_matrix, x)\n",
        "\n",
        "x = np.array([[3], [2], [2]])\n",
        "B = np.array([[1, 0], [0, 1], [0, 1]])\n",
        "project(x, B)"
      ],
      "metadata": {
        "id": "K_dhigHQVH03",
        "outputId": "d11c5a3f-e57c-4233-ad22-7bf30eba9ddd",
        "colab": {
          "base_uri": "https://localhost:8080/"
        }
      },
      "execution_count": 33,
      "outputs": [
        {
          "output_type": "execute_result",
          "data": {
            "text/plain": [
              "array([[3.],\n",
              "       [2.],\n",
              "       [2.]])"
            ]
          },
          "metadata": {},
          "execution_count": 33
        }
      ]
    },
    {
      "cell_type": "markdown",
      "source": [
        "#### Question 3\n",
        "project x to B"
      ],
      "metadata": {
        "id": "HGTnyDbGWeWQ"
      }
    },
    {
      "cell_type": "code",
      "source": [
        "x = np.array([[12], [0], [0]])\n",
        "B = np.array([[1, 0], [1, 1], [1, 2]])\n",
        "project(x, B)"
      ],
      "metadata": {
        "id": "ea3R3njrWJ48",
        "outputId": "4361d084-b353-48d5-c2ee-90b60fed99d2",
        "colab": {
          "base_uri": "https://localhost:8080/"
        }
      },
      "execution_count": 34,
      "outputs": [
        {
          "output_type": "execute_result",
          "data": {
            "text/plain": [
              "array([[10.],\n",
              "       [ 4.],\n",
              "       [-2.]])"
            ]
          },
          "metadata": {},
          "execution_count": 34
        }
      ]
    },
    {
      "cell_type": "markdown",
      "source": [
        "project the projected result onto"
      ],
      "metadata": {
        "id": "_70_AstOW99f"
      }
    },
    {
      "cell_type": "code",
      "source": [
        "b3 = np.array([[-10*np.sqrt(6)], [-4*np.sqrt(6)], [2*np.sqrt(6)]])"
      ],
      "metadata": {
        "id": "53udSxUbW0pV"
      },
      "execution_count": 35,
      "outputs": []
    },
    {
      "cell_type": "code",
      "source": [
        ""
      ],
      "metadata": {
        "id": "m0e3FdY6XX1s"
      },
      "execution_count": null,
      "outputs": []
    }
  ]
}