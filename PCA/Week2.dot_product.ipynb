{
  "nbformat": 4,
  "nbformat_minor": 0,
  "metadata": {
    "colab": {
      "name": "Week1.variances_covariances.ipynb",
      "provenance": [],
      "collapsed_sections": [],
      "toc_visible": true,
      "include_colab_link": true
    },
    "kernelspec": {
      "display_name": "Python 3",
      "name": "python3"
    }
  },
  "cells": [
    {
      "cell_type": "markdown",
      "metadata": {
        "id": "view-in-github",
        "colab_type": "text"
      },
      "source": [
        "<a href=\"https://colab.research.google.com/github/changsin/ML/blob/main/PCA/Week2.dot_product.ipynb\" target=\"_parent\"><img src=\"https://colab.research.google.com/assets/colab-badge.svg\" alt=\"Open In Colab\"/></a>"
      ]
    },
    {
      "cell_type": "markdown",
      "source": [
        "# PCA: Week 2 - Dot Product\n",
        "\n",
        "1. Dot product is inner product of matrices.\n",
        "$$ x^Ty = \\sum\\limits_{i=1}^{N}x_i y_i (x, y \\in \\mathbb{R}^N) $$\n",
        "\n",
        "2. length of a vector\n",
        "$$ || x || = \\sqrt{x^Tx} = \\sqrt{\\sum\\limits_{i=1}^{N}x_i^2 } $$\n",
        "\n",
        "3. distance of two vectors\n",
        "$$ d(x, y) = ||x - y || = \\sqrt{(x-y)^T(x-y)} $$\n",
        "\n",
        "4. cosine of two vectors\n",
        "$$ \\text{cos}(\\alpha) = \\frac{x^Ty}{||x|| \\cdot ||y||} $$\n"
      ],
      "metadata": {
        "id": "RjcXllndCECU"
      }
    },
    {
      "cell_type": "markdown",
      "source": [
        "## Quiz\n",
        "\n"
      ],
      "metadata": {
        "id": "4k1bJvcXCczr"
      }
    },
    {
      "cell_type": "code",
      "source": [
        "import numpy as np\n",
        "\n",
        "def length(x):\n",
        "  return np.sqrt(np.matmul(x.T, x))\n",
        "\n",
        "def distance(x, y):\n",
        "  delta = x - y\n",
        "  return np.sqrt(np.matmul(delta.T, delta))\n",
        "\n",
        "def cosine(x, y):\n",
        "  return np.matmul(x.T, y)/(length(x)*length(y))\n",
        "\n",
        "def angle_rad(x, y):\n",
        "  cos = cosine(x, y)\n",
        "  return np.arccos(cos)\n",
        "\n",
        "x = np.array([1, 2])\n",
        "y = np.array([2, 1])\n",
        "cosine(x, y)\n",
        "angle_rad(x, y)"
      ],
      "metadata": {
        "id": "fSfLbZzdCIZQ",
        "outputId": "b91f8637-1baf-4452-fcce-fa74e5cd5047",
        "colab": {
          "base_uri": "https://localhost:8080/"
        }
      },
      "execution_count": 31,
      "outputs": [
        {
          "output_type": "execute_result",
          "data": {
            "text/plain": [
              "0.6435011087932847"
            ]
          },
          "metadata": {},
          "execution_count": 31
        }
      ]
    },
    {
      "cell_type": "code",
      "source": [
        "np.matmul(x.T, y)\n",
        "length(x)"
      ],
      "metadata": {
        "id": "TQaE9B4HyvT6",
        "outputId": "64eb70f0-2a1d-420b-8188-4b49a62c2f50",
        "colab": {
          "base_uri": "https://localhost:8080/"
        }
      },
      "execution_count": 12,
      "outputs": [
        {
          "output_type": "execute_result",
          "data": {
            "text/plain": [
              "2.23606797749979"
            ]
          },
          "metadata": {},
          "execution_count": 12
        }
      ]
    },
    {
      "cell_type": "code",
      "source": [
        "import math\n",
        "\n",
        "math.acos(4/5)"
      ],
      "metadata": {
        "id": "2kux9L7Cy3fg",
        "outputId": "e10ea148-4bc6-478b-c851-aa800d805ad3",
        "colab": {
          "base_uri": "https://localhost:8080/"
        }
      },
      "execution_count": 24,
      "outputs": [
        {
          "output_type": "execute_result",
          "data": {
            "text/plain": [
              "0.6435011087932843"
            ]
          },
          "metadata": {},
          "execution_count": 24
        }
      ]
    },
    {
      "cell_type": "code",
      "source": [
        "np.arccos(4/5)"
      ],
      "metadata": {
        "id": "2fMrsKxt67kf",
        "outputId": "6a42680c-e286-48d8-f10b-227a6d76f9b4",
        "colab": {
          "base_uri": "https://localhost:8080/"
        }
      },
      "execution_count": 30,
      "outputs": [
        {
          "output_type": "execute_result",
          "data": {
            "text/plain": [
              "0.6435011087932843"
            ]
          },
          "metadata": {},
          "execution_count": 30
        }
      ]
    },
    {
      "cell_type": "code",
      "source": [
        "x = np.array([1, -1, 3])\n",
        "length(x)"
      ],
      "metadata": {
        "id": "Aq3hCBWUvOse",
        "outputId": "8d16393c-019a-4174-b948-c110f8cf4ec6",
        "colab": {
          "base_uri": "https://localhost:8080/"
        }
      },
      "execution_count": 8,
      "outputs": [
        {
          "output_type": "execute_result",
          "data": {
            "text/plain": [
              "3.3166247903554"
            ]
          },
          "metadata": {},
          "execution_count": 8
        }
      ]
    },
    {
      "cell_type": "markdown",
      "source": [
        "### 2. Compute the angle (in rad) between $ \\mathbf{x} = \n",
        "[3 \\ 4] $ and $ \\mathbf{y} = \n",
        "[−1−1] $ using the dot product."
      ],
      "metadata": {
        "id": "d6G5fSfKCjF8"
      }
    },
    {
      "cell_type": "code",
      "source": [
        "x = np.array([3, 4])\n",
        "y = np.array([-1, -1])\n",
        "\n",
        "\n",
        "print(\"length:\", length(x))\n",
        "print(\"agnle_rad(x, y)\", angle_rad(x, y))\n",
        "print(\"distance(x, y)\", distance(x, y))"
      ],
      "metadata": {
        "id": "xC4jdqSyu7st",
        "outputId": "d4e59629-6e91-45a4-e39d-9a42b954e770",
        "colab": {
          "base_uri": "https://localhost:8080/"
        }
      },
      "execution_count": 32,
      "outputs": [
        {
          "output_type": "stream",
          "name": "stdout",
          "text": [
            "length: 5.0\n",
            "agnle_rad(x, y) 2.9996955989856287\n",
            "distance(x, y) 6.4031242374328485\n"
          ]
        }
      ]
    },
    {
      "cell_type": "markdown",
      "source": [
        "## 2. Compute the distance between $ \\mathbf{x} = \n",
        "[3 \\ 4] $ and $ \\mathbf{y} = \n",
        "[1 −1] $ using the dot product."
      ],
      "metadata": {
        "id": "_o-3kRgx7jxs"
      }
    },
    {
      "cell_type": "code",
      "source": [
        "x = np.array([3, 4])\n",
        "y = np.array([1, -1])\n",
        "\n",
        "\n",
        "print(\"length:\", length(x))\n",
        "print(\"agnle_rad(x, y)\", angle_rad(x, y))\n",
        "print(\"distance(x, y)\", distance(x, y))"
      ],
      "metadata": {
        "id": "sjDqEbgw7gKQ",
        "outputId": "69f97e04-d10a-437d-d955-899fe11f5cd1",
        "colab": {
          "base_uri": "https://localhost:8080/"
        }
      },
      "execution_count": 33,
      "outputs": [
        {
          "output_type": "stream",
          "name": "stdout",
          "text": [
            "length: 5.0\n",
            "agnle_rad(x, y) 1.7126933813990606\n",
            "distance(x, y) 5.385164807134504\n"
          ]
        }
      ]
    },
    {
      "cell_type": "markdown",
      "source": [
        "## 5. Compute the angle between x, and x - y"
      ],
      "metadata": {
        "id": "lHuxU0e55Pku"
      }
    },
    {
      "cell_type": "code",
      "source": [
        "x = np.array([1, 2, 3])\n",
        "y = np.array([-1, 0, 8])\n",
        "\n",
        "angle_rad(x, y)"
      ],
      "metadata": {
        "id": "yAjnX-8vDMbE",
        "outputId": "d6f0bd73-e575-48f7-ab42-a8bcfbd709e1",
        "colab": {
          "base_uri": "https://localhost:8080/"
        }
      },
      "execution_count": 28,
      "outputs": [
        {
          "output_type": "execute_result",
          "data": {
            "text/plain": [
              "0.7037166543507564"
            ]
          },
          "metadata": {},
          "execution_count": 28
        }
      ]
    },
    {
      "cell_type": "code",
      "source": [
        "angle_rad(x, x - y)"
      ],
      "metadata": {
        "id": "Fc4fkcu0uZL-",
        "outputId": "6323a47f-b650-44c8-e4e1-0fed4267c533",
        "colab": {
          "base_uri": "https://localhost:8080/"
        }
      },
      "execution_count": 29,
      "outputs": [
        {
          "output_type": "execute_result",
          "data": {
            "text/plain": [
              "2.002829357226812"
            ]
          },
          "metadata": {},
          "execution_count": 29
        }
      ]
    },
    {
      "cell_type": "code",
      "source": [
        ""
      ],
      "metadata": {
        "id": "GQjEaTDf5Jmj"
      },
      "execution_count": null,
      "outputs": []
    }
  ]
}