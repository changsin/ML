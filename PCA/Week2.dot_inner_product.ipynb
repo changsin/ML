{
  "nbformat": 4,
  "nbformat_minor": 0,
  "metadata": {
    "colab": {
      "name": "Week2.dot_inner_product.ipynb",
      "provenance": [],
      "collapsed_sections": [],
      "toc_visible": true,
      "include_colab_link": true
    },
    "kernelspec": {
      "display_name": "Python 3",
      "name": "python3"
    }
  },
  "cells": [
    {
      "cell_type": "markdown",
      "metadata": {
        "id": "view-in-github",
        "colab_type": "text"
      },
      "source": [
        "<a href=\"https://colab.research.google.com/github/changsin/ML/blob/main/PCA/Week2.dot_inner_product.ipynb\" target=\"_parent\"><img src=\"https://colab.research.google.com/assets/colab-badge.svg\" alt=\"Open In Colab\"/></a>"
      ]
    },
    {
      "cell_type": "markdown",
      "source": [
        "# PCA: Week 2 - Dot & Inner Product\n",
        "\n"
      ],
      "metadata": {
        "id": "RjcXllndCECU"
      }
    },
    {
      "cell_type": "markdown",
      "source": [
        "## Dot Product\n",
        "1. Dot product is inner product of matrices.\n",
        "$$ x^Ty = \\sum\\limits_{i=1}^{N}x_i y_i (x, y \\in \\mathbb{R}^N) $$\n",
        "\n",
        "2. length of a vector\n",
        "$$ || x || = \\sqrt{x^Tx} = \\sqrt{\\sum\\limits_{i=1}^{N}x_i^2 } $$\n",
        "\n",
        "3. distance of two vectors\n",
        "$$ d(x, y) = ||x - y || = \\sqrt{(x-y)^T(x-y)} $$\n",
        "\n",
        "4. cosine of two vectors\n",
        "$$ \\text{cos}(\\alpha) = \\frac{x^Ty}{||x|| \\cdot ||y||} $$"
      ],
      "metadata": {
        "id": "7Hl1fif2AGvO"
      }
    },
    {
      "cell_type": "markdown",
      "source": [
        "### Quiz\n",
        "\n"
      ],
      "metadata": {
        "id": "4k1bJvcXCczr"
      }
    },
    {
      "cell_type": "code",
      "source": [
        "import numpy as np\n",
        "\n",
        "def length(x):\n",
        "  return np.sqrt(np.matmul(x.T, x))\n",
        "\n",
        "def distance(x, y):\n",
        "  delta = x - y\n",
        "  return np.sqrt(np.matmul(delta.T, delta))\n",
        "\n",
        "def cosine(x, y):\n",
        "  return np.matmul(x.T, y)/(length(x)*length(y))\n",
        "\n",
        "def angle_rad(x, y):\n",
        "  cos = cosine(x, y)\n",
        "  return np.arccos(cos)\n",
        "\n",
        "x = np.array([1, 2])\n",
        "y = np.array([2, 1])\n",
        "cosine(x, y)\n",
        "angle_rad(x, y)"
      ],
      "metadata": {
        "id": "fSfLbZzdCIZQ",
        "outputId": "c638d7bd-5b9e-49b8-81cc-1a36f3ef0e2d",
        "colab": {
          "base_uri": "https://localhost:8080/"
        }
      },
      "execution_count": 94,
      "outputs": [
        {
          "output_type": "execute_result",
          "data": {
            "text/plain": [
              "0.6435011087932847"
            ]
          },
          "metadata": {},
          "execution_count": 94
        }
      ]
    },
    {
      "cell_type": "code",
      "source": [
        "np.matmul(x.T, y)\n",
        "length(x)"
      ],
      "metadata": {
        "id": "TQaE9B4HyvT6",
        "outputId": "64eb70f0-2a1d-420b-8188-4b49a62c2f50",
        "colab": {
          "base_uri": "https://localhost:8080/"
        }
      },
      "execution_count": null,
      "outputs": [
        {
          "output_type": "execute_result",
          "data": {
            "text/plain": [
              "2.23606797749979"
            ]
          },
          "metadata": {},
          "execution_count": 12
        }
      ]
    },
    {
      "cell_type": "code",
      "source": [
        "import math\n",
        "\n",
        "math.acos(4/5)"
      ],
      "metadata": {
        "id": "2kux9L7Cy3fg",
        "outputId": "e10ea148-4bc6-478b-c851-aa800d805ad3",
        "colab": {
          "base_uri": "https://localhost:8080/"
        }
      },
      "execution_count": null,
      "outputs": [
        {
          "output_type": "execute_result",
          "data": {
            "text/plain": [
              "0.6435011087932843"
            ]
          },
          "metadata": {},
          "execution_count": 24
        }
      ]
    },
    {
      "cell_type": "code",
      "source": [
        "np.arccos(4/5)"
      ],
      "metadata": {
        "id": "2fMrsKxt67kf",
        "outputId": "6a42680c-e286-48d8-f10b-227a6d76f9b4",
        "colab": {
          "base_uri": "https://localhost:8080/"
        }
      },
      "execution_count": null,
      "outputs": [
        {
          "output_type": "execute_result",
          "data": {
            "text/plain": [
              "0.6435011087932843"
            ]
          },
          "metadata": {},
          "execution_count": 30
        }
      ]
    },
    {
      "cell_type": "code",
      "source": [
        "x = np.array([1, -1, 3])\n",
        "length(x)"
      ],
      "metadata": {
        "id": "Aq3hCBWUvOse",
        "outputId": "8d16393c-019a-4174-b948-c110f8cf4ec6",
        "colab": {
          "base_uri": "https://localhost:8080/"
        }
      },
      "execution_count": null,
      "outputs": [
        {
          "output_type": "execute_result",
          "data": {
            "text/plain": [
              "3.3166247903554"
            ]
          },
          "metadata": {},
          "execution_count": 8
        }
      ]
    },
    {
      "cell_type": "markdown",
      "source": [
        "#### 2. Compute the angle (in rad) between $ \\mathbf{x} = \n",
        "[3 \\ 4] $ and $ \\mathbf{y} = \n",
        "[−1−1] $ using the dot product."
      ],
      "metadata": {
        "id": "d6G5fSfKCjF8"
      }
    },
    {
      "cell_type": "code",
      "source": [
        "x = np.array([3, 4])\n",
        "y = np.array([-1, -1])\n",
        "\n",
        "\n",
        "print(\"length:\", length(x))\n",
        "print(\"agnle_rad(x, y)\", angle_rad(x, y))\n",
        "print(\"distance(x, y)\", distance(x, y))"
      ],
      "metadata": {
        "id": "xC4jdqSyu7st",
        "outputId": "d4e59629-6e91-45a4-e39d-9a42b954e770",
        "colab": {
          "base_uri": "https://localhost:8080/"
        }
      },
      "execution_count": null,
      "outputs": [
        {
          "output_type": "stream",
          "name": "stdout",
          "text": [
            "length: 5.0\n",
            "agnle_rad(x, y) 2.9996955989856287\n",
            "distance(x, y) 6.4031242374328485\n"
          ]
        }
      ]
    },
    {
      "cell_type": "markdown",
      "source": [
        "#### 2. Compute the distance between $ \\mathbf{x} = \n",
        "[3 \\ 4] $ and $ \\mathbf{y} = \n",
        "[1 −1] $ using the dot product."
      ],
      "metadata": {
        "id": "_o-3kRgx7jxs"
      }
    },
    {
      "cell_type": "code",
      "source": [
        "x = np.array([3, 4])\n",
        "y = np.array([1, -1])\n",
        "\n",
        "\n",
        "print(\"length:\", length(x))\n",
        "print(\"agnle_rad(x, y)\", angle_rad(x, y))\n",
        "print(\"distance(x, y)\", distance(x, y))"
      ],
      "metadata": {
        "id": "sjDqEbgw7gKQ",
        "outputId": "69f97e04-d10a-437d-d955-899fe11f5cd1",
        "colab": {
          "base_uri": "https://localhost:8080/"
        }
      },
      "execution_count": null,
      "outputs": [
        {
          "output_type": "stream",
          "name": "stdout",
          "text": [
            "length: 5.0\n",
            "agnle_rad(x, y) 1.7126933813990606\n",
            "distance(x, y) 5.385164807134504\n"
          ]
        }
      ]
    },
    {
      "cell_type": "markdown",
      "source": [
        "#### 5. Compute the angle between x, and x - y"
      ],
      "metadata": {
        "id": "lHuxU0e55Pku"
      }
    },
    {
      "cell_type": "code",
      "source": [
        "x = np.array([1, 2, 3])\n",
        "y = np.array([-1, 0, 8])\n",
        "\n",
        "angle_rad(x, y)"
      ],
      "metadata": {
        "id": "yAjnX-8vDMbE",
        "outputId": "d6f0bd73-e575-48f7-ab42-a8bcfbd709e1",
        "colab": {
          "base_uri": "https://localhost:8080/"
        }
      },
      "execution_count": null,
      "outputs": [
        {
          "output_type": "execute_result",
          "data": {
            "text/plain": [
              "0.7037166543507564"
            ]
          },
          "metadata": {},
          "execution_count": 28
        }
      ]
    },
    {
      "cell_type": "code",
      "source": [
        "angle_rad(x, x - y)"
      ],
      "metadata": {
        "id": "Fc4fkcu0uZL-",
        "outputId": "6323a47f-b650-44c8-e4e1-0fed4267c533",
        "colab": {
          "base_uri": "https://localhost:8080/"
        }
      },
      "execution_count": null,
      "outputs": [
        {
          "output_type": "execute_result",
          "data": {
            "text/plain": [
              "2.002829357226812"
            ]
          },
          "metadata": {},
          "execution_count": 29
        }
      ]
    },
    {
      "cell_type": "markdown",
      "source": [
        "## Inner Product\n",
        "An inner product is defined as a symmetric, positive definite, bilinear mapping.\n",
        "\n",
        "$$ x, y \\in V $$\n",
        "$$ <'i'>: V \\text{x} V \\implies \\mathbb R $$\n",
        "\n",
        "1. Symmetric\n",
        "$$ <x, y> = <y, x> $$\n",
        "\n",
        "2. Positive definite\n",
        "$$ <x, x> \\ge 0, <x, x> = 0 \\iff x = 0 $$\n",
        "\n",
        "3. Bilinear: linearity in both arguments\n",
        "$$ x, y, z \\in V, \\lambda \\in R $$\n",
        "$$ <\\lambda x + z, y> = \\lambda<x, y> + <z, y> $$\n",
        "$$ <x, \\lambda y + z> = \\lambda<x, y> + <x, y> $$"
      ],
      "metadata": {
        "id": "0FQv9Sv7APvW"
      }
    },
    {
      "cell_type": "markdown",
      "source": [
        "### Quiz: Properties of inner products"
      ],
      "metadata": {
        "id": "3QEO8s0TKiMY"
      }
    },
    {
      "cell_type": "markdown",
      "source": [
        "#### Question 1\n",
        "The function \n",
        "\n",
        "$$ \\beta(\\mathbf{x}, \\mathbf{y}) = \\mathbf{x}^T\n",
        "\\begin{bmatrix}\n",
        "2 & −1 \\\\\n",
        " −1 & 1 \n",
        "\\end{bmatrix}\n",
        "\\mathbf{y}\n",
        " $$ is"
      ],
      "metadata": {
        "id": "o4zBqGq5KxrQ"
      }
    },
    {
      "cell_type": "code",
      "source": [
        "import numpy as np\n",
        "\n",
        "def inner_product(x, y):\n",
        "  return np.dot(x, y)\n",
        "\n",
        "\n",
        "x = np.array([1, 2])\n",
        "y = np.array([2, 2])\n",
        "\n",
        "inner_product(x, y)\n",
        "inner_product(y, x)\n"
      ],
      "metadata": {
        "id": "8H7JpdftAR8q",
        "outputId": "53d9724c-36de-4f79-f8a8-5c67d2fde79b",
        "colab": {
          "base_uri": "https://localhost:8080/"
        }
      },
      "execution_count": 5,
      "outputs": [
        {
          "output_type": "execute_result",
          "data": {
            "text/plain": [
              "6"
            ]
          },
          "metadata": {},
          "execution_count": 5
        }
      ]
    },
    {
      "cell_type": "code",
      "source": [
        "def beta(x, y, z=np.array([[2, -1], [-1, 1]])):\n",
        "  temp = np.matmul(x.T, z)\n",
        "  return np.matmul(temp, y)\n"
      ],
      "metadata": {
        "id": "xdfze73BPybI"
      },
      "execution_count": 25,
      "outputs": []
    },
    {
      "cell_type": "markdown",
      "source": [
        "symmetric"
      ],
      "metadata": {
        "id": "M1ltQ17qSV_g"
      }
    },
    {
      "cell_type": "code",
      "source": [
        "z = np.array([[2, -1], [-1, 1]])\n",
        "print(\"beta(x, y)\", beta(x, y, z=z))\n",
        "print(\"beta(y, x)\", beta(y, x, z=z))"
      ],
      "metadata": {
        "id": "A2wc5yRlOy3N",
        "outputId": "c4a976fa-cec2-4ec5-f9d3-caff42f29e43",
        "colab": {
          "base_uri": "https://localhost:8080/"
        }
      },
      "execution_count": 75,
      "outputs": [
        {
          "output_type": "stream",
          "name": "stdout",
          "text": [
            "beta(x, y) 2\n",
            "beta(y, x) 2\n"
          ]
        }
      ]
    },
    {
      "cell_type": "markdown",
      "source": [
        "positive definite\n",
        "\n",
        "Yes, the matrix has only positive eigenvalues and \n",
        "\n",
        "$ \\beta (\\mathbf{x}, \\mathbf{x}) > 0 $\n",
        " for all $ \\mathbf{x}\\neq\\mathbf{0} $\n",
        "and $ \\beta (\\mathbf{x}, \\mathbf{x})=0\\iff \\mathbf{x}=\\mathbf{0}$"
      ],
      "metadata": {
        "id": "UiMbepptQcdi"
      }
    },
    {
      "cell_type": "code",
      "source": [
        "print(\"beta(x, x)\", beta(x, x))"
      ],
      "metadata": {
        "id": "L-v6fZPQPXQO",
        "outputId": "323faf3d-cb90-4b1a-a5a9-824c800eff32",
        "colab": {
          "base_uri": "https://localhost:8080/"
        }
      },
      "execution_count": 76,
      "outputs": [
        {
          "output_type": "stream",
          "name": "stdout",
          "text": [
            "beta(x, x) 2\n"
          ]
        }
      ]
    },
    {
      "cell_type": "code",
      "source": [
        "zeros = np.zeros(2)\n",
        "print(\"beta(x, x)\", beta(zeros, zeros))"
      ],
      "metadata": {
        "id": "-mRwrmMcPhzr",
        "outputId": "5b8cb385-a003-462c-c0b8-58d557904f9b",
        "colab": {
          "base_uri": "https://localhost:8080/"
        }
      },
      "execution_count": 77,
      "outputs": [
        {
          "output_type": "stream",
          "name": "stdout",
          "text": [
            "beta(x, x) 0.0\n"
          ]
        }
      ]
    },
    {
      "cell_type": "markdown",
      "source": [
        "bilinear\n",
        "\n",
        "f(u + v, w) = f(u, w) + f(v, w)\n",
        "\n",
        "f(u, v + w) = f(u, v) + f(u, w)"
      ],
      "metadata": {
        "id": "AgeTdA41SZfd"
      }
    },
    {
      "cell_type": "code",
      "source": [
        "v = np.array([1, 1])\n",
        "beta(x + v, y)"
      ],
      "metadata": {
        "id": "JFdAQ-2vQieJ",
        "outputId": "2c45ec29-6e76-48f5-f097-dcb6159e49dd",
        "colab": {
          "base_uri": "https://localhost:8080/"
        }
      },
      "execution_count": 78,
      "outputs": [
        {
          "output_type": "execute_result",
          "data": {
            "text/plain": [
              "4"
            ]
          },
          "metadata": {},
          "execution_count": 78
        }
      ]
    },
    {
      "cell_type": "code",
      "source": [
        "beta(x, y) + beta(v, y)"
      ],
      "metadata": {
        "id": "etbSiejnUkao",
        "outputId": "12a091f1-21c1-4055-8535-8839e0611b0d",
        "colab": {
          "base_uri": "https://localhost:8080/"
        }
      },
      "execution_count": 79,
      "outputs": [
        {
          "output_type": "execute_result",
          "data": {
            "text/plain": [
              "4"
            ]
          },
          "metadata": {},
          "execution_count": 79
        }
      ]
    },
    {
      "cell_type": "code",
      "source": [
        "beta(x, v + y) + beta(x, v)"
      ],
      "metadata": {
        "id": "9N6-4FlIUqMT",
        "outputId": "16e9597c-00aa-4c6a-e351-78028a23bffe",
        "colab": {
          "base_uri": "https://localhost:8080/"
        }
      },
      "execution_count": 80,
      "outputs": [
        {
          "output_type": "execute_result",
          "data": {
            "text/plain": [
              "4"
            ]
          },
          "metadata": {},
          "execution_count": 80
        }
      ]
    },
    {
      "cell_type": "markdown",
      "source": [
        "#### Question 2\n",
        "The function \n",
        "\n",
        "$$ \\beta(\\mathbf{x}, \\mathbf{y}) = \\mathbf{x}^T\n",
        "\\begin{bmatrix}\n",
        "1 & −1 \\\\\n",
        " −1 & 1 \n",
        "\\end{bmatrix}\n",
        "\\mathbf{y}\n",
        " $$ is"
      ],
      "metadata": {
        "id": "iJDvL44vVVo1"
      }
    },
    {
      "cell_type": "code",
      "source": [
        "z = np.array([[1, -1], [-1, 1]])\n",
        "print(\"beta(x, y)\", beta(x, y, z=z))\n",
        "print(\"beta(y, x)\", beta(y, x, z=z))"
      ],
      "metadata": {
        "id": "Nm6gSpd_V0_F",
        "outputId": "86351265-4b5f-4231-8d0e-3f91879f9cec",
        "colab": {
          "base_uri": "https://localhost:8080/"
        }
      },
      "execution_count": 81,
      "outputs": [
        {
          "output_type": "stream",
          "name": "stdout",
          "text": [
            "beta(x, y) 0\n",
            "beta(y, x) 0\n"
          ]
        }
      ]
    },
    {
      "cell_type": "code",
      "source": [
        "print(\"beta(x, x)\", beta(x, x, z=z))\n",
        "zeros = np.zeros(2)\n",
        "print(\"beta(x, x)\", beta(zeros, zeros, z=z))"
      ],
      "metadata": {
        "id": "iM2scbpFV-G2",
        "outputId": "3313ea0c-8a20-4128-c767-e5a47babe89f",
        "colab": {
          "base_uri": "https://localhost:8080/"
        }
      },
      "execution_count": 82,
      "outputs": [
        {
          "output_type": "stream",
          "name": "stdout",
          "text": [
            "beta(x, x) 1\n",
            "beta(x, x) 0.0\n"
          ]
        }
      ]
    },
    {
      "cell_type": "code",
      "source": [
        "v = np.array([1, 2])\n",
        "print(\"bilinear?\", beta(x + v, y, z=z), beta(x, y, z=z) + beta(v, y, z=z))\n",
        "print(\"bilinear?\", beta(x, v + y, z=z), beta(x, v, z=z) + beta(x, y, z=z))"
      ],
      "metadata": {
        "id": "vyedVg6EW6IJ",
        "outputId": "60a92b3d-e515-45b2-8eca-3a61853c40b6",
        "colab": {
          "base_uri": "https://localhost:8080/"
        }
      },
      "execution_count": 83,
      "outputs": [
        {
          "output_type": "stream",
          "name": "stdout",
          "text": [
            "bilinear? 0 0\n",
            "bilinear? 1 1\n"
          ]
        }
      ]
    },
    {
      "cell_type": "markdown",
      "source": [
        "#### Question 3\n",
        "The function \n",
        "\n",
        "$$ \\beta(\\mathbf{x}, \\mathbf{y}) = \\mathbf{x}^T\n",
        "\\begin{bmatrix}\n",
        "2 & 1 \\\\\n",
        " −1 & 1 \n",
        "\\end{bmatrix}\n",
        "\\mathbf{y}\n",
        " $$ is"
      ],
      "metadata": {
        "id": "TWLUfeCAXoG4"
      }
    },
    {
      "cell_type": "code",
      "source": [
        "z = np.array([[2, 1], [-1, 1]])\n",
        "print(\"beta(x, y)\", beta(x, y, z=z))\n",
        "print(\"beta(y, x)\", beta(y, x, z=z))"
      ],
      "metadata": {
        "id": "1GG49rxKXSrE",
        "outputId": "19a63190-d163-484e-dd67-4277676ea61d",
        "colab": {
          "base_uri": "https://localhost:8080/"
        }
      },
      "execution_count": 84,
      "outputs": [
        {
          "output_type": "stream",
          "name": "stdout",
          "text": [
            "beta(x, y) 6\n",
            "beta(y, x) 10\n"
          ]
        }
      ]
    },
    {
      "cell_type": "code",
      "source": [
        "print(\"beta(x, x)\", beta(x, x, z=z))\n",
        "zeros = np.zeros(2)\n",
        "print(\"beta(x, x)\", beta(zeros, zeros, z=z))"
      ],
      "metadata": {
        "id": "huX22wL1X875",
        "outputId": "b9ea7928-ccbd-418c-f861-1df4180afff9",
        "colab": {
          "base_uri": "https://localhost:8080/"
        }
      },
      "execution_count": 85,
      "outputs": [
        {
          "output_type": "stream",
          "name": "stdout",
          "text": [
            "beta(x, x) 6\n",
            "beta(x, x) 0.0\n"
          ]
        }
      ]
    },
    {
      "cell_type": "code",
      "source": [
        "v = np.array([1, 2])\n",
        "print(\"bilinear?\", beta(x + v, y, z=z), beta(x, y, z=z) + beta(v, y, z=z))\n",
        "print(\"bilinear?\", beta(x, v + y, z=z), beta(x, v, z=z) + beta(x, y, z=z))"
      ],
      "metadata": {
        "id": "VKvZISJXYAvr",
        "outputId": "f171ab11-257f-4ee8-db4c-13815aa48636",
        "colab": {
          "base_uri": "https://localhost:8080/"
        }
      },
      "execution_count": 86,
      "outputs": [
        {
          "output_type": "stream",
          "name": "stdout",
          "text": [
            "bilinear? 12 12\n",
            "bilinear? 12 12\n"
          ]
        }
      ]
    },
    {
      "cell_type": "markdown",
      "source": [
        "#### Question 4\n",
        "The function \n",
        "\n",
        "$$ \\beta(\\mathbf{x}, \\mathbf{y}) = \\mathbf{x}^T\n",
        "\\begin{bmatrix}\n",
        "1 & 0 \\\\\n",
        " 0 & 1 \n",
        "\\end{bmatrix}\n",
        "\\mathbf{y}\n",
        " $$ is"
      ],
      "metadata": {
        "id": "PWZPwH7EYOQ8"
      }
    },
    {
      "cell_type": "code",
      "source": [
        "z = np.array([[1, 0], [0, 1]])\n",
        "print(\"beta(x, y)\", beta(x, y, z=z))\n",
        "print(\"beta(y, x)\", beta(y, x, z=z))"
      ],
      "metadata": {
        "id": "f5KoMnaeYUZy",
        "outputId": "119c8040-5442-4d11-c673-9103e7d14dea",
        "colab": {
          "base_uri": "https://localhost:8080/"
        }
      },
      "execution_count": 87,
      "outputs": [
        {
          "output_type": "stream",
          "name": "stdout",
          "text": [
            "beta(x, y) 6\n",
            "beta(y, x) 6\n"
          ]
        }
      ]
    },
    {
      "cell_type": "code",
      "source": [
        "print(\"beta(x, x)\", beta(x, x, z=z))\n",
        "zeros = np.zeros(2)\n",
        "print(\"beta(x, x)\", beta(zeros, zeros, z=z))"
      ],
      "metadata": {
        "id": "icEl6aoSYZjA",
        "outputId": "0f849a79-ed28-432b-8c9d-94a3c2b326e7",
        "colab": {
          "base_uri": "https://localhost:8080/"
        }
      },
      "execution_count": 88,
      "outputs": [
        {
          "output_type": "stream",
          "name": "stdout",
          "text": [
            "beta(x, x) 5\n",
            "beta(x, x) 0.0\n"
          ]
        }
      ]
    },
    {
      "cell_type": "code",
      "source": [
        "v = np.array([1, 2])\n",
        "print(\"bilinear?\", beta(x + v, y, z=z), beta(x, y, z=z) + beta(v, y, z=z))\n",
        "print(\"bilinear?\", beta(x, v + y, z=z), beta(x, v, z=z) + beta(x, y, z=z))"
      ],
      "metadata": {
        "id": "c9KTZjxBYdjc",
        "outputId": "8c330b93-5d64-4fb4-a5bc-9eb17fc12e7f",
        "colab": {
          "base_uri": "https://localhost:8080/"
        }
      },
      "execution_count": 89,
      "outputs": [
        {
          "output_type": "stream",
          "name": "stdout",
          "text": [
            "bilinear? 12 12\n",
            "bilinear? 11 11\n"
          ]
        }
      ]
    },
    {
      "cell_type": "markdown",
      "source": [
        "### Quiz\n",
        "\n",
        "What is the length of \n",
        "$ \\begin{bmatrix} 1 & 1 \\end{bmatrix} $\n",
        " using the inner product defined as $ <\\mathbf{x},\\mathbf{y}> = \\mathbf{x}^T \\begin{bmatrix} 1 & −0.5 \\\\ −0.5 & 1 \\end{bmatrix} \\mathbf{y} $ ?"
      ],
      "metadata": {
        "id": "4bNaw5dkvQ4w"
      }
    },
    {
      "cell_type": "code",
      "source": [
        "x = np.array([1, 1])\n",
        "z = np.array([[1, -0.5], [-0.5, 1]])\n",
        "beta(x, x, z=z)"
      ],
      "metadata": {
        "id": "R04a1ow3Ygba",
        "outputId": "3418e21b-770a-40df-e754-82278575838c",
        "colab": {
          "base_uri": "https://localhost:8080/"
        }
      },
      "execution_count": 92,
      "outputs": [
        {
          "output_type": "execute_result",
          "data": {
            "text/plain": [
              "1.0"
            ]
          },
          "metadata": {},
          "execution_count": 92
        }
      ]
    },
    {
      "cell_type": "code",
      "source": [
        "x = np.array([2, 3])\n",
        "y = np.array([4, 1])\n",
        "z = np.array([[1, -0.5], [-0.5, 1]])\n",
        "beta(x, y, z=z)"
      ],
      "metadata": {
        "id": "kNdv8mbpyxwO",
        "outputId": "6591c106-b136-4b08-8a45-a64721593f33",
        "colab": {
          "base_uri": "https://localhost:8080/"
        }
      },
      "execution_count": 93,
      "outputs": [
        {
          "output_type": "execute_result",
          "data": {
            "text/plain": [
              "4.0"
            ]
          },
          "metadata": {},
          "execution_count": 93
        }
      ]
    },
    {
      "cell_type": "markdown",
      "source": [
        "### Quiz: General inner products: lengths and distances\n",
        "\n"
      ],
      "metadata": {
        "id": "9Sj7CZIJjQNN"
      }
    },
    {
      "cell_type": "markdown",
      "source": [
        "#### Question 1\n",
        "Compute the length of\n",
        "$ \\mathbf{x} =  \\begin{bmatrix} 1 \\\\ −1 \\\\ 3 \\end{bmatrix} $\n",
        "​using the inner product defined\n",
        "$ < \\mathbf{a}, \\mathbf{b} > = \\mathbf{a}^T\n",
        "\\begin{bmatrix}\n",
        "2 & 1 & 0 \\\\\n",
        "1 & 2 & -1 \\\\\n",
        "0 & -1 & 2 \n",
        "\\end{bmatrix} \\mathbf{b}\n",
        "$ \n",
        "\n",
        "Do the exercise using pen and paper."
      ],
      "metadata": {
        "id": "clQ9zzAfjcyE"
      }
    },
    {
      "cell_type": "code",
      "source": [
        "import numpy as np\n",
        "\n",
        "x = np.array([1, -1, 3])\n",
        "z = np.array([[2, 1, 0], [1, 2, -1], [0, -1, 2]])\n",
        "\n",
        "def length(x, z=None):\n",
        "  if z is not None:\n",
        "    return np.sqrt(np.matmul(np.matmul(x.T, z), x))\n",
        "  return np.sqrt(np.matmul(x.T, x))\n",
        "\n",
        "length(x, z=z)"
      ],
      "metadata": {
        "id": "bA712v1h7ZSM",
        "outputId": "d6f23b5a-c6bb-4b8d-d910-bc2939e2ebd7",
        "colab": {
          "base_uri": "https://localhost:8080/"
        }
      },
      "execution_count": 3,
      "outputs": [
        {
          "output_type": "execute_result",
          "data": {
            "text/plain": [
              "5.0990195135927845"
            ]
          },
          "metadata": {},
          "execution_count": 3
        }
      ]
    },
    {
      "cell_type": "markdown",
      "source": [
        "#### Question 2\n",
        "\n",
        "Compute the squared distance between"
      ],
      "metadata": {
        "id": "7zXr10bGmQKz"
      }
    },
    {
      "cell_type": "code",
      "source": [
        "x = np.array([1/2, -1, -1/2])\n",
        "y = np.array([0, 1, 0])\n",
        "z = np.array([[2, 1, 0], [1, 2, -1], [0, -1, 2]])\n",
        "\n",
        "\n",
        "def squared_distance(x, y, z=None):\n",
        "  delta = x - y\n",
        "  # return np.sqrt(np.matmul(delta.T, delta))\n",
        "  if z is not None:\n",
        "    return np.dot(np.dot(delta.T, z), delta)\n",
        "  return np.sqrt(np.matmul(delta.T, delta))\n",
        "\n",
        "squared_distance(x, y, z=z)"
      ],
      "metadata": {
        "id": "RpGe9n9fl-EZ",
        "outputId": "da692d02-88a7-4394-a53c-297586dfd775",
        "colab": {
          "base_uri": "https://localhost:8080/"
        }
      },
      "execution_count": 5,
      "outputs": [
        {
          "output_type": "execute_result",
          "data": {
            "text/plain": [
              "5.0"
            ]
          },
          "metadata": {},
          "execution_count": 5
        }
      ]
    },
    {
      "cell_type": "markdown",
      "source": [
        "#### Question 3\n",
        "\n",
        "Compute the length of"
      ],
      "metadata": {
        "id": "sV3pB6-Eq5RC"
      }
    },
    {
      "cell_type": "code",
      "source": [
        "x = np.array([-1, 1])\n",
        "# z = (1/2)*np.array([[5, -1], [-1, 5]])\n",
        "z = np.array([[5, -1], [-1, 5]])\n",
        "\n",
        "length(x, z=z)"
      ],
      "metadata": {
        "id": "zJNYIIDeo_G4",
        "outputId": "fdf549fe-7f44-4425-cbb4-bc8e98fc5ea6",
        "colab": {
          "base_uri": "https://localhost:8080/"
        }
      },
      "execution_count": 7,
      "outputs": [
        {
          "output_type": "execute_result",
          "data": {
            "text/plain": [
              "3.4641016151377544"
            ]
          },
          "metadata": {},
          "execution_count": 7
        }
      ]
    },
    {
      "cell_type": "markdown",
      "source": [
        "#### Question 4 ???\n",
        "\n",
        "Compute the distance (not squared) of"
      ],
      "metadata": {
        "id": "n330o5wXreua"
      }
    },
    {
      "cell_type": "code",
      "source": [
        "x = np.array([4, 2, 1])\n",
        "y = np.array([0, 1, 0])\n",
        "z = np.array([[2, 1, 0], [1, 2, -1], [0, -1, 2]])\n",
        "\n",
        "\n",
        "def distance(x, y, z=None):\n",
        "  delta = x - y\n",
        "  # return np.sqrt(np.matmul(delta.T, delta))\n",
        "  if z is not None:\n",
        "    return np.dot(np.dot(delta.T, z), delta)\n",
        "  return np.sqrt(np.matmul(delta.T, delta))\n",
        "\n",
        "distance(x, y, z=z)"
      ],
      "metadata": {
        "id": "YS1dU89PrWVW",
        "outputId": "d3345824-ec2e-453f-9cb0-419ea1c06ed9",
        "colab": {
          "base_uri": "https://localhost:8080/"
        }
      },
      "execution_count": 8,
      "outputs": [
        {
          "output_type": "execute_result",
          "data": {
            "text/plain": [
              "42"
            ]
          },
          "metadata": {},
          "execution_count": 8
        }
      ]
    },
    {
      "cell_type": "markdown",
      "source": [
        "#### Question 5\n",
        "\n",
        "Compute the length of"
      ],
      "metadata": {
        "id": "or0bbo0Vr8HI"
      }
    },
    {
      "cell_type": "code",
      "source": [
        "x = np.array([-1, -1, -1])\n",
        "z = np.eye(3)\n",
        "length(x, z=z)"
      ],
      "metadata": {
        "id": "FmEl-SPDryR6",
        "outputId": "e36b95e8-0b3a-4811-c6b2-01e7326ae14a",
        "colab": {
          "base_uri": "https://localhost:8080/"
        }
      },
      "execution_count": 103,
      "outputs": [
        {
          "output_type": "execute_result",
          "data": {
            "text/plain": [
              "3.0"
            ]
          },
          "metadata": {},
          "execution_count": 103
        }
      ]
    },
    {
      "cell_type": "markdown",
      "source": [
        "### Quiz: angles & orthogonality"
      ],
      "metadata": {
        "id": "DOsR3-Gev1Ut"
      }
    },
    {
      "cell_type": "code",
      "source": [
        "def cosine(x, y):\n",
        "  return np.matmul(x.T, y)/(length(x)*length(y))\n",
        "\n",
        "def angle_rad(x, y, z=None):\n",
        "  cos = cosine(x, y)\n",
        "  return np.arccos(cos)\n",
        "\n",
        "x = np.array([1, 1]).T\n",
        "y = np.array([-1, 1]).T\n",
        "z = np.array([[2, 0], [0, 1]])\n",
        "\n"
      ],
      "metadata": {
        "id": "fns7X-6ysG6o"
      },
      "execution_count": null,
      "outputs": []
    },
    {
      "cell_type": "markdown",
      "source": [
        "### Quiz: Angles between vectors using a non-standard inner product"
      ],
      "metadata": {
        "id": "zjHBMJyJO-hT"
      }
    },
    {
      "cell_type": "markdown",
      "source": [
        "#### Question 1\n",
        "Compute the angle"
      ],
      "metadata": {
        "id": "0zKd0MqWPUGl"
      }
    },
    {
      "cell_type": "code",
      "source": [
        "x = np.array([1, 1])\n",
        "y = np.array([-1, 1])\n",
        "z = np.array([[2, -1], [-1, 4]])\n",
        "\n",
        "def length(x, z=None):\n",
        "  if z is not None:\n",
        "    return np.sqrt(np.matmul(np.matmul(x.T, z), x))\n",
        "  return np.sqrt(np.matmul(x.T, x))\n",
        "\n",
        "def angle(x, y, z=None):\n",
        "  nominator = np.matmul(x.T, y)\n",
        "  denominator = length(x) * length(y)\n",
        "  print(nominator, denominator)\n",
        "  return nominator/denominator\n",
        "\n",
        "np.arccos(angle(x, y, z=z))"
      ],
      "metadata": {
        "id": "MxqOWP7XPDnZ",
        "outputId": "3b4b6de4-d265-44dd-ea0e-2ea568eb0381",
        "colab": {
          "base_uri": "https://localhost:8080/"
        }
      },
      "execution_count": 11,
      "outputs": [
        {
          "output_type": "stream",
          "name": "stdout",
          "text": [
            "0 2.0000000000000004\n"
          ]
        },
        {
          "output_type": "execute_result",
          "data": {
            "text/plain": [
              "1.5707963267948966"
            ]
          },
          "metadata": {},
          "execution_count": 11
        }
      ]
    },
    {
      "cell_type": "markdown",
      "source": [
        "#### Question 2"
      ],
      "metadata": {
        "id": "4pIJ8ErhXALQ"
      }
    },
    {
      "cell_type": "code",
      "source": [
        "x = np.array([0, -1])\n",
        "y = np.array([1, 1])\n",
        "z = np.array([[1, -1/2], [-1/2, 5]])\n",
        "\n",
        "np.arccos(angle(x, y, z=z))"
      ],
      "metadata": {
        "id": "yj_Z_lHWQVfX",
        "outputId": "967900ee-2743-42be-a1a9-9949e9eefddd",
        "colab": {
          "base_uri": "https://localhost:8080/"
        }
      },
      "execution_count": 12,
      "outputs": [
        {
          "output_type": "stream",
          "name": "stdout",
          "text": [
            "-1 1.4142135623730951\n"
          ]
        },
        {
          "output_type": "execute_result",
          "data": {
            "text/plain": [
              "2.356194490192345"
            ]
          },
          "metadata": {},
          "execution_count": 12
        }
      ]
    },
    {
      "cell_type": "markdown",
      "source": [
        ""
      ],
      "metadata": {
        "id": "5DqAJJYrXdDi"
      }
    },
    {
      "cell_type": "code",
      "source": [
        "x = np.array([2, 2])\n",
        "y = np.array([-2, -2])\n",
        "z = np.array([[2, 1], [1, 4]])\n",
        "\n",
        "np.arccos(angle(x, y, z=z))"
      ],
      "metadata": {
        "id": "gqn9Q0_YXVsk",
        "outputId": "61d90028-cf4d-4b4b-904e-2f320080be8c",
        "colab": {
          "base_uri": "https://localhost:8080/"
        }
      },
      "execution_count": 13,
      "outputs": [
        {
          "output_type": "stream",
          "name": "stdout",
          "text": [
            "-8 8.000000000000002\n"
          ]
        },
        {
          "output_type": "execute_result",
          "data": {
            "text/plain": [
              "3.1415926325163688"
            ]
          },
          "metadata": {},
          "execution_count": 13
        }
      ]
    },
    {
      "cell_type": "code",
      "source": [
        "x = np.array([1, 1])\n",
        "y = np.array([1, -1])\n",
        "z = np.array([[1, 0], [0, 5]])\n",
        "\n",
        "np.arccos(angle(x, y, z=z))"
      ],
      "metadata": {
        "id": "4ggFFSz4X4WD",
        "outputId": "5d009b0c-af01-4dc5-c19f-ec741e0d7831",
        "colab": {
          "base_uri": "https://localhost:8080/"
        }
      },
      "execution_count": 14,
      "outputs": [
        {
          "output_type": "stream",
          "name": "stdout",
          "text": [
            "0 2.0000000000000004\n"
          ]
        },
        {
          "output_type": "execute_result",
          "data": {
            "text/plain": [
              "1.5707963267948966"
            ]
          },
          "metadata": {},
          "execution_count": 14
        }
      ]
    },
    {
      "cell_type": "code",
      "source": [
        "x = np.array([1, 1, 1])\n",
        "y = np.array([2, -1, 0])\n",
        "z = np.array([[1, 0, 0], [0, 2, -1], [0, -1, 3]])\n",
        "\n",
        "np.arccos(angle(x, y, z=z))"
      ],
      "metadata": {
        "id": "AmQsJQi2YHOC",
        "outputId": "e67818c0-2a1e-4f75-f3d2-59f0a935f38f",
        "colab": {
          "base_uri": "https://localhost:8080/"
        }
      },
      "execution_count": 15,
      "outputs": [
        {
          "output_type": "stream",
          "name": "stdout",
          "text": [
            "1 3.872983346207417\n"
          ]
        },
        {
          "output_type": "execute_result",
          "data": {
            "text/plain": [
              "1.3096389158918724"
            ]
          },
          "metadata": {},
          "execution_count": 15
        }
      ]
    },
    {
      "cell_type": "code",
      "source": [
        ""
      ],
      "metadata": {
        "id": "IADOsB2sYc3R"
      },
      "execution_count": null,
      "outputs": []
    }
  ]
}