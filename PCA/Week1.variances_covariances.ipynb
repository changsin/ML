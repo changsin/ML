{
  "nbformat": 4,
  "nbformat_minor": 0,
  "metadata": {
    "colab": {
      "name": "Week1.variances_covariances.ipynb",
      "provenance": [],
      "collapsed_sections": [],
      "toc_visible": true,
      "include_colab_link": true
    },
    "kernelspec": {
      "display_name": "Python 3",
      "name": "python3"
    }
  },
  "cells": [
    {
      "cell_type": "markdown",
      "metadata": {
        "id": "view-in-github",
        "colab_type": "text"
      },
      "source": [
        "<a href=\"https://colab.research.google.com/github/changsin/ML/blob/main/PCA/Week1.variances_covariances.ipynb\" target=\"_parent\"><img src=\"https://colab.research.google.com/assets/colab-badge.svg\" alt=\"Open In Colab\"/></a>"
      ]
    },
    {
      "cell_type": "markdown",
      "source": [
        "# PCA: Week 1\n"
      ],
      "metadata": {
        "id": "RjcXllndCECU"
      }
    },
    {
      "cell_type": "markdown",
      "source": [
        "## Quiz\n",
        "\n"
      ],
      "metadata": {
        "id": "4k1bJvcXCczr"
      }
    },
    {
      "cell_type": "markdown",
      "source": [
        "### 1. What is the variance of the following dataset? "
      ],
      "metadata": {
        "id": "d6G5fSfKCjF8"
      }
    },
    {
      "cell_type": "code",
      "source": [
        "import numpy as np\n",
        "\n",
        "D = np.array([1, 2, 3, 2])\n",
        "D = D * 2\n",
        "D_mean = D.mean()\n",
        "deltas = D - D_mean\n",
        "\n",
        "np.sum(deltas**2 / 4)"
      ],
      "metadata": {
        "id": "fSfLbZzdCIZQ",
        "outputId": "621ef4d1-2421-4810-e504-c348b44c9d42",
        "colab": {
          "base_uri": "https://localhost:8080/"
        }
      },
      "execution_count": 2,
      "outputs": [
        {
          "output_type": "execute_result",
          "data": {
            "text/plain": [
              "2.0"
            ]
          },
          "metadata": {},
          "execution_count": 2
        }
      ]
    },
    {
      "cell_type": "code",
      "source": [
        "D.std()"
      ],
      "metadata": {
        "id": "yAjnX-8vDMbE",
        "outputId": "181aa4b4-9a2e-4df8-ab6a-1fdb51c0b8bc",
        "colab": {
          "base_uri": "https://localhost:8080/"
        }
      },
      "execution_count": 3,
      "outputs": [
        {
          "output_type": "execute_result",
          "data": {
            "text/plain": [
              "1.4142135623730951"
            ]
          },
          "metadata": {},
          "execution_count": 3
        }
      ]
    },
    {
      "cell_type": "markdown",
      "source": [
        "### 5.\n",
        "Assuming we have mean $\\bar{x}_{n-1} $\n",
        " and variance $ \\sigma_{n-1}^2 $ for some dataset $ \\mathcal D_{n-1} $ with n-1 samples. What would be the  variance $ \\sigma_{n}^2 $ if we add a new element $ x_* $ to the dataset (assuming you have computed the new sample mean $ \\bar{x}_n $) ?\n",
        "\n",
        "$$ \\sigma_n^2 = \\frac{n-1}{n}\\sigma_{n-1}^2 + \\frac{1}{n}(x_* - \\bar{x}_{n-1}) (x_*-\\bar{x}_{n}) $$\n"
      ],
      "metadata": {
        "id": "zf38JJ95KOTx"
      }
    },
    {
      "cell_type": "code",
      "source": [
        ""
      ],
      "metadata": {
        "id": "HRAxfHCtE8VY"
      },
      "execution_count": null,
      "outputs": []
    },
    {
      "cell_type": "markdown",
      "source": [
        "Quiz\n",
        "\n",
        "We looked at datasets where every element is a two-dimensional vector with an (x,y)-component. We discovered that the covariance matrix of this dataset is a 2x2 matrix.\n",
        "\n",
        "What do you expect the size of a covariance matrix to be if every element is a three-dimensional vector with (x,y,z)-components?\n",
        "\n",
        "\n",
        "3x3\n",
        "\n",
        "Correct\n",
        "Absolutely! And the covariance matrix will look as follows:\n",
        "\n",
        "$$\n",
        "\\begin{bmatrix}\n",
        "var[x] & cov[y,x] & cov[z,x] \\\\\n",
        "cov[x,y] & var[y] & cov[z,y] \\\\\n",
        "cov[x,z] & cov[y,z] & var[z] \n",
        "\\end{bmatrix}\n",
        "$$\n",
        "\n",
        "Variances on the diagonal, cross-covariances on the off-diagonal.\n",
        "\n"
      ],
      "metadata": {
        "id": "sUmPfMh6ROiZ"
      }
    },
    {
      "cell_type": "markdown",
      "source": [
        "## Practice Quiz\n",
        "\n",
        "1.\n",
        "Question 1\n",
        "Compute the covariance matrix for the following dataset\n",
        "$$\n",
        "\\mathcal D = {{\n",
        "\\begin{bmatrix} 1 \\\\\n",
        "2​\n",
        "\\end{bmatrix},\n",
        "\\begin{bmatrix}\n",
        "5 \\\\\n",
        "4\n",
        "\\end{bmatrix}\n",
        "}}\n",
        "$$\n",
        "Here, every column vector represents a data point."
      ],
      "metadata": {
        "id": "CEPYo3Mxcmks"
      }
    },
    {
      "cell_type": "code",
      "source": [
        "d1 = np.array([1, 2])*2\n",
        "d2 = np.array([5, 4])*2\n",
        "\n",
        "x_mean = (d1[0] + d2[0])/2\n",
        "y_mean = (d1[1] + d2[1])/2\n",
        "\n",
        "x_var = ((d1[0] - x_mean)**2 + (d2[0] - x_mean)**2)/2\n",
        "y_var = ((d1[1] - y_mean)**2 + (d2[1] - y_mean)**2)/2\n",
        "print(x_var, y_var)"
      ],
      "metadata": {
        "id": "r69OVsrPbPPT",
        "outputId": "cc0bfd13-2650-4280-cf25-4dcfafcf1cdb",
        "colab": {
          "base_uri": "https://localhost:8080/"
        }
      },
      "execution_count": 10,
      "outputs": [
        {
          "output_type": "stream",
          "name": "stdout",
          "text": [
            "16.0 4.0\n"
          ]
        }
      ]
    },
    {
      "cell_type": "code",
      "source": [
        ""
      ],
      "metadata": {
        "id": "R-HKmGuRerEd",
        "outputId": "e395d672-c176-45d6-ed45-801c8b089d89",
        "colab": {
          "base_uri": "https://localhost:8080/"
        }
      },
      "execution_count": 5,
      "outputs": [
        {
          "output_type": "stream",
          "name": "stdout",
          "text": [
            "4.0 1.0\n"
          ]
        }
      ]
    },
    {
      "cell_type": "code",
      "source": [
        ""
      ],
      "metadata": {
        "id": "NKBpZdfAezXE"
      },
      "execution_count": null,
      "outputs": []
    }
  ]
}