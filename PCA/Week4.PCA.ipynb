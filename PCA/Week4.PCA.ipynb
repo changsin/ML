{
  "nbformat": 4,
  "nbformat_minor": 0,
  "metadata": {
    "colab": {
      "name": "Week4.PCA.ipynb",
      "provenance": [],
      "collapsed_sections": [],
      "toc_visible": true,
      "include_colab_link": true
    },
    "kernelspec": {
      "display_name": "Python 3",
      "name": "python3"
    }
  },
  "cells": [
    {
      "cell_type": "markdown",
      "metadata": {
        "id": "view-in-github",
        "colab_type": "text"
      },
      "source": [
        "<a href=\"https://colab.research.google.com/github/changsin/ML/blob/main/PCA/Week4.PCA.ipynb\" target=\"_parent\"><img src=\"https://colab.research.google.com/assets/colab-badge.svg\" alt=\"Open In Colab\"/></a>"
      ]
    },
    {
      "cell_type": "markdown",
      "source": [
        "# PCA: Week 4 - PCA\n",
        "\n"
      ],
      "metadata": {
        "id": "RjcXllndCECU"
      }
    },
    {
      "cell_type": "markdown",
      "source": [
        "## Practice Quiz: Chain Rule\n",
        "\n",
        "Product Rule:\n",
        "$$ \\frac{\\delta}{\\delta x}(f(x)g(x)) = \\frac{\\delta f(x)}{\\delta x}g(x) + \\frac{\\delta g(x)}{\\delta x}f(x)\n",
        "$$\n",
        "\n",
        "\n",
        "\n"
      ],
      "metadata": {
        "id": "-JCX5nY6TVUg"
      }
    },
    {
      "cell_type": "markdown",
      "source": [
        "#### Question 1\n",
        "\n",
        "Consider the function $ h: R \\rightarrow R $ where $h(t) = (f \\circ g)(t) = f(g(t) $ with\n",
        " $ g(t) = x = \\begin{bmatrix} t \\text{cos} t \\\\ t \\text{sin} t\\end{bmatrix} $, $ t \\in R $\n",
        "\n",
        "$ f(x) = \\text{exp}(x_1 x_2^2) $,\n",
        "$ x = \\begin{bmatrix} x_1 \\\\ x_2 \\end{bmatrix} $"
      ],
      "metadata": {
        "id": "Py5GdO08TZaf"
      }
    },
    {
      "cell_type": "markdown",
      "source": [
        "##### Answers\n",
        "- $ \\Large \\frac{\\delta h}{\\delta t} = \\frac{\\delta f}{\\delta g} \\frac{\\delta g}{\\delta t} $\n",
        "- $ \\frac{\\delta f}{\\delta t} = \\begin{bmatrix} x_2^2 \\text{exp}(x_1 x_2^2) & 2x_1x_2\\text{exp}(x_1 x_2^2) \\end{bmatrix} $\n",
        "\n",
        " Use the Chain Rule to take partial derivatives against $x_1$ and $x_2$\n",
        "on $ f(x) = \\text{exp}(x_1 x_2^2) $ $ \\frac{\\delta f}{\\delta t} = \\frac{\\delta f}{\\delta g} \\frac{\\delta g}{\\delta t}  $,\n",
        "Assuming $ f(x) = exp^g $, $ g = x_1 x_2^2 $\n",
        "\n",
        "- $ \\large \\frac{\\delta g}{\\delta t} = \\begin{bmatrix} \\text{cos}{t} - t \\text{sin} t \\\\  \\text{sin}{t} + t \\text{cos} t \\end{bmatrix} $ from the Product Rule.\n",
        "- $ \\frac{\\delta h}{\\delta t} = \\text{exp}(x_1 x_2^2) \\begin{bmatrix} x_2^2(\\text{cos}{t} - t \\text{sin} t) + 2x_1x_2(\\text{sin}t + t \\text{t}) \\end{bmatrix} $"
      ],
      "metadata": {
        "id": "3Y_A7vej78u9"
      }
    },
    {
      "cell_type": "markdown",
      "source": [
        "#### Question 2\n",
        "\n",
        "$ \\Large \\frac{\\delta f}{\\delta x} $?\n",
        "$ a = x^2, b = \\text{exp}(a), c = a + b, d = log(c), e = sin(c), f = d + 3 $\n"
      ],
      "metadata": {
        "id": "vKbpq1wXEvcl"
      }
    },
    {
      "cell_type": "markdown",
      "source": [
        ""
      ],
      "metadata": {
        "id": "TTPEd_tkFTfJ"
      }
    },
    {
      "cell_type": "markdown",
      "source": [
        "##### Answer\n",
        "\n",
        "$ \\Large \\frac{\\delta f}{\\delta x} = \\frac{(1 + \\text{cos}(x^2 + \\text{exp}(x^2))(x^2 + \\text{exp}(x^2))) (2x + 2x \\text{exp}(x^2))}{x^2 + \\text{exp}(x^2)}\n",
        "$"
      ],
      "metadata": {
        "id": "jhGjXV2NFUDR"
      }
    },
    {
      "cell_type": "code",
      "source": [
        ""
      ],
      "metadata": {
        "id": "fGZ_omQCEa5x"
      },
      "execution_count": null,
      "outputs": []
    }
  ]
}