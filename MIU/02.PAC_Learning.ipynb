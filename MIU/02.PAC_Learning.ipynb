{
  "nbformat": 4,
  "nbformat_minor": 0,
  "metadata": {
    "colab": {
      "name": "02.PAC_Learning.ipynb",
      "provenance": [],
      "collapsed_sections": [],
      "toc_visible": true,
      "include_colab_link": true
    },
    "kernelspec": {
      "display_name": "Python 3",
      "name": "python3"
    },
    "accelerator": "GPU"
  },
  "cells": [
    {
      "cell_type": "markdown",
      "metadata": {
        "id": "view-in-github",
        "colab_type": "text"
      },
      "source": [
        "<a href=\"https://colab.research.google.com/github/changsin/ML/blob/main/MIU/02.PAC_Learning.ipynb\" target=\"_parent\"><img src=\"https://colab.research.google.com/assets/colab-badge.svg\" alt=\"Open In Colab\"/></a>"
      ]
    },
    {
      "cell_type": "markdown",
      "metadata": {
        "id": "SQXhiZhJTcDQ"
      },
      "source": [
        "# PAC Learning\n",
        "\n",
        "PAC stands for 'Probably Approximately Correct'. PAC gives you the confidence and the correctness for the hypothesis.\n",
        "\n",
        "This short lecture is an excellent learning material for PAC Learning [Probably Approximately Correct (PAC)Learning ( KTU CS467 Machine Learning Module 2)](https://youtu.be/fTWm2S5tFCo)."
      ]
    },
    {
      "cell_type": "markdown",
      "metadata": {
        "id": "F4F22CuwUsv6"
      },
      "source": [
        "## Derivation of the PAC inequality\n",
        "\n",
        "The goal of PAC is to estimate the number of samples required for the given accuracy goal (1 - $ \\epsilon $) and confidence (1 - $ \\delta$).\n",
        "The PAC inequality is thus:\n",
        "\n",
        "$$ P \\{ C \\Delta h \\leq \\epsilon \\} \\geq 1 - \\delta $$\n",
        "\n",
        "- C: Class/Concept\n",
        "- h: hypothesis\n",
        "- $ C \\Delta h $: difference between C and h (Error)\n",
        "- $ \\epsilon $: error uppperbound\n",
        "  - $ (1 - \\epsilon) $: accuracy target\n",
        "- $ \\delta $: probability of failure\n",
        "  - $ (1 - \\delta) $: confidence\n",
        "\n",
        "In our example, assuming that we draw the tightest rectangle as the hypothesis (yellow rectangle) and the real class C is the outer rectangle (green rectangle), the error is the area between the two rectangles. Any data points falling in this area will be incorrectly classified by the hypothesis (false negative: the hypothesis says it is a negative case but is not).\n",
        "\n",
        "We want to make sure that The probability of a positive example falling in one of the error areas is at most $ \\epsilon / 4 $.\n",
        "\n",
        "- $ \\epsilon / 4 $: Since $ \\epsilon $ is the error upperbound, one strip of the error area needs to be at most $ \\epsilon / 4 $ (greyed area).\n",
        "- $ (1 - \\epsilon / 4) $: The probability that a randomly drawn sample to be not in one of the error strips.\n",
        "- $ (1 - \\epsilon / 4)^N $: The combined probability that N number of samples will miss one error strip since they are all independent.\n",
        "- $ 4(1 - \\epsilon / 4)^N $: The combined probability for all N samples to miss all 4 error strips.\n",
        "\n",
        "We would like $ 4(1 - \\epsilon / 4)^N $ to be at most $ \\delta $. Thus the inequality is:\n",
        "\n",
        "\n",
        "$$ 4(1 - \\epsilon / 4)^N \\leq \\delta $$\n",
        "\n",
        "Diving by 4 on both sides gives us:\n",
        "$$ (1 - \\epsilon / 4)^N \\leq \\delta / 4 $$\n",
        "\n",
        "What we need to know is N (number of required samples) so let's try to isolate N.\n",
        "\n",
        "To do that, let's use the inequality:\n",
        "\n",
        "$$ (1 - x) \\leq e^{-x} $$\n",
        "\n",
        "This can be quickly verified: "
      ]
    },
    {
      "cell_type": "code",
      "metadata": {
        "id": "UZyBwtm-YPdt",
        "colab": {
          "base_uri": "https://localhost:8080/"
        },
        "outputId": "7e5026f2-3380-460f-a808-dee21bcbe57c"
      },
      "source": [
        "import math\n",
        "\n",
        "x = -4\n",
        "print(\"{} <= {}\".format(1 - x, math.exp(-x)))\n",
        "\n",
        "x = -1\n",
        "print(\"{} <= {}\".format(1 - x, math.exp(-x)))\n",
        "\n",
        "x = 0\n",
        "print(\"{} <= {}\".format(1 - x, math.exp(-x)))\n",
        "\n",
        "x = 4\n",
        "print(\"{} <= {}\".format(1 - x, math.exp(-x)))"
      ],
      "execution_count": 13,
      "outputs": [
        {
          "output_type": "stream",
          "name": "stdout",
          "text": [
            "5 <= 54.598150033144236\n",
            "2 <= 2.718281828459045\n",
            "1 <= 1.0\n",
            "-3 <= 0.01831563888873418\n"
          ]
        }
      ]
    },
    {
      "cell_type": "markdown",
      "metadata": {
        "id": "qg-ApYp4YF9R"
      },
      "source": [
        "Substituting x with $ \\epsilon / 4 $ the lefthand of the inequality is replaced with the righthand of this inequality:\n",
        "\n",
        "$$ (1 - \\epsilon / 4)^N \\leq (e^{-\\epsilon / 4})^N $$\n",
        "\n",
        "Thus,\n",
        "$$ e^{-N (\\epsilon / 4)} \\leq \\frac{\\delta}{4} $$\n",
        "\n",
        "Taking the log on both sides gives us:\n",
        "\n",
        "$$ \\ln e^{-N (\\epsilon / 4)} \\leq \\ln \\frac{\\delta}{4} $$\n",
        "\n",
        "Now we need to solve the inequality involving logarithms. Here is a [cheat sheet](https://study.com/academy/lesson/how-to-solve-logarithmic-exponential-inequalities.html) on how to do it.\n",
        "\n",
        "Using the method, the inequality becomes:\n",
        "\n",
        "$$ -N (\\epsilon / 4)\\ln e \\leq \\ln \\frac{\\delta}{4} $$\n",
        "\n",
        "Since $ \\ln e = 1 $, we can simply it as:\n",
        "\n",
        "$$ -N (\\epsilon / 4) \\leq \\ln \\frac{\\delta}{4} $$\n",
        "\n",
        "THen multiplying both sides with $ 4/\\epsilon $ and getting rid of the negative sign on the left switches the inequality sign to arrive at this formula:\n",
        "\n",
        "$$ N \\geq \\frac{4}{\\epsilon} \\ln \\frac{\\delta}{4} $$\n",
        "\n",
        "Finally, we have a handy formula to calculate the number of sample required to achieve the target confidence ($1 - \\delta$) and the accuracy ($1 - \\epsilon$)."
      ]
    },
    {
      "cell_type": "markdown",
      "metadata": {
        "id": "PQQ3ncvPn0KB"
      },
      "source": [
        "## Plotting C & h"
      ]
    },
    {
      "cell_type": "code",
      "metadata": {
        "id": "T8QqASPls8qu"
      },
      "source": [
        "import matplotlib.patches as patches\n",
        "\n",
        "COLORS = [(0, 255/255, 0), (255/255, 255/255, 0), (255/255, 0, 0)]\n",
        "\n",
        "def create_patch_rectangle(y, color, fill=False):\n",
        "  width = (y[2] - y[0])\n",
        "  height = (y[3] - y[1])\n",
        "  if fill:\n",
        "    return patches.Rectangle((y[0], y[1]),\n",
        "                            width, height,\n",
        "                            edgecolor=color,\n",
        "                            facecolor='grey', fill=fill, alpha=0.3)\n",
        "  else:\n",
        "    return patches.Rectangle((y[0], y[1]),\n",
        "                            width, height,\n",
        "                            edgecolor=color, fill=fill)\n"
      ],
      "execution_count": 1,
      "outputs": []
    },
    {
      "cell_type": "code",
      "metadata": {
        "id": "C7EM_Ev1s9bS",
        "colab": {
          "base_uri": "https://localhost:8080/",
          "height": 282
        },
        "outputId": "e734f1ea-98f3-4308-eaee-40265b45d694"
      },
      "source": [
        "import numpy as np\n",
        "import matplotlib.pyplot as plt\n",
        "\n",
        "X = np.array([\n",
        "      # negative\n",
        "      [1.,    1.2],\n",
        "      [1.2,   .7],\n",
        "      [2.,    .8],    \n",
        "      [3.,    .85],\n",
        "      [3.1,   .5],\n",
        "      [2.9,   2.],\n",
        "      [1.7,    .2],    \n",
        "      [2.,    2.8],\n",
        "\n",
        "      # positive\n",
        "      [1.5,   1.5],\n",
        "      [2,     1.2],\n",
        "      [2.5,   1.7],\n",
        "      [2.,    2.],\n",
        "      [1.5,   2.]\n",
        "    ])\n",
        "y = np.array([0, 0, 0, 0, 0, 0, 0, 0, 1, 1, 1, 1, 1])\n",
        "\n",
        "import numpy as np\n",
        "import matplotlib.pyplot as plt\n",
        "\n",
        "def plot_data(X, y):\n",
        "  positives = X[y == 1]\n",
        "  negatives = X[y == 0]\n",
        "\n",
        "  fig, ax = plt.subplots()\n",
        "  ax.plot(positives[:, 0], positives[:, 1], marker='+', linestyle='', ms=12, label='+')\n",
        "  ax.plot(negatives[:, 0], negatives[:, 1], marker='_', linestyle='', ms=12, label='-')\n",
        "  return ax\n",
        "\n",
        "# plt.scatter(X[:, 0], X[:, 1])\n",
        "\n",
        "ax = plot_data(X, y)\n",
        "# x_line = np.linspace(0, 10, 100)\n",
        "# y_line = -2.1*x_line + 20\n",
        "PADDING = 0.01\n",
        "rect1 = create_patch_rectangle((1.2, 2.4, 2.8, .9), COLORS[0])\n",
        "rect2 = create_patch_rectangle((1.4, 2.1, 2.6, 1.1), COLORS[1])\n",
        "rect3 = create_patch_rectangle((1.2 + PADDING, 2.4 - PADDING*2,\n",
        "                                2.8 - PADDING, 2.1 + PADDING*2),\n",
        "                                COLORS[2], fill=True)\n",
        "ax.add_patch(rect1)\n",
        "ax.add_patch(rect2)\n",
        "ax.add_patch(rect3)\n",
        "\n",
        "ax.text(x=2.0,\n",
        "         y=2.2,\n",
        "         s=chr(949) + '/4',\n",
        "         fontdict=dict(color='red',size=15),\n",
        "         bbox=dict(facecolor='white',alpha=0))\n",
        "\n",
        "# ax.plot(x_line, y_line, 'g', label='y=wx+b')"
      ],
      "execution_count": 2,
      "outputs": [
        {
          "output_type": "execute_result",
          "data": {
            "text/plain": [
              "Text(2.0, 2.2, 'ε/4')"
            ]
          },
          "metadata": {},
          "execution_count": 2
        },
        {
          "output_type": "display_data",
          "data": {
            "image/png": "[encoded data removed]",
            "text/plain": [
              "<Figure size 432x288 with 1 Axes>"
            ]
          },
          "metadata": {
            "needs_background": "light"
          }
        }
      ]
    },
    {
      "cell_type": "markdown",
      "metadata": {
        "id": "I-vsXO_vmtPx"
      },
      "source": [
        "## Example\n",
        "If we use a rectangle hypothesis model to learn a concept with 99% correctness ($\\epsilon = 0.01) with a probability of 95% (\\delta = 0.05), what is the minimum number of training samples?\n",
        "\n",
        "Plugging the numbers in the above formula, give us:\n",
        "\n",
        "$$ \\frac{4}{\\epsilon}\\ln\\frac{4}{\\delta} = \\frac{4}{0.01}\\ln\\frac{4}{0.05} = 1752.8 $$"
      ]
    },
    {
      "cell_type": "markdown",
      "metadata": {
        "id": "zguyso0to2g7"
      },
      "source": [
        "In other words, you need at least 1753 training samples."
      ]
    },
    {
      "cell_type": "code",
      "metadata": {
        "colab": {
          "base_uri": "https://localhost:8080/"
        },
        "id": "FwHgvPeznwip",
        "outputId": "8fb08874-9b7a-49ff-91e0-69f3f6e8676a"
      },
      "source": [
        "epsilon = 0.01\n",
        "delta = 0.05\n",
        "\n",
        "4/epsilon * math.log(4/delta)"
      ],
      "execution_count": 17,
      "outputs": [
        {
          "output_type": "execute_result",
          "data": {
            "text/plain": [
              "1752.8106538695524"
            ]
          },
          "metadata": {},
          "execution_count": 17
        }
      ]
    },
    {
      "cell_type": "markdown",
      "metadata": {
        "id": "v2DKhyP0mhgp"
      },
      "source": [
        "# Appendix\n"
      ]
    },
    {
      "cell_type": "markdown",
      "metadata": {
        "id": "TGKzDofVmkYo"
      },
      "source": [
        "## How to print Greek alphabets in Python"
      ]
    },
    {
      "cell_type": "code",
      "metadata": {
        "id": "1fmC8XhAQihQ",
        "colab": {
          "base_uri": "https://localhost:8080/"
        },
        "outputId": "2ab8597b-ba76-4c2b-8b02-b136ddedb017"
      },
      "source": [
        "greek_letterz=[(chr(code), code) for code in range(945,970)]\n",
        "\n",
        "print(greek_letterz)"
      ],
      "execution_count": 14,
      "outputs": [
        {
          "output_type": "stream",
          "name": "stdout",
          "text": [
            "[('α', 945), ('β', 946), ('γ', 947), ('δ', 948), ('ε', 949), ('ζ', 950), ('η', 951), ('θ', 952), ('ι', 953), ('κ', 954), ('λ', 955), ('μ', 956), ('ν', 957), ('ξ', 958), ('ο', 959), ('π', 960), ('ρ', 961), ('ς', 962), ('σ', 963), ('τ', 964), ('υ', 965), ('φ', 966), ('χ', 967), ('ψ', 968), ('ω', 969)]\n"
          ]
        }
      ]
    }
  ]
}