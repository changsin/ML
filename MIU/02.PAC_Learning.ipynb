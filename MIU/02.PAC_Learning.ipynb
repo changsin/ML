{
  "nbformat": 4,
  "nbformat_minor": 0,
  "metadata": {
    "colab": {
      "name": "02.PAC_Learning.ipynb",
      "provenance": [],
      "collapsed_sections": [],
      "toc_visible": true,
      "include_colab_link": true
    },
    "kernelspec": {
      "display_name": "Python 3",
      "name": "python3"
    },
    "accelerator": "GPU"
  },
  "cells": [
    {
      "cell_type": "markdown",
      "metadata": {
        "id": "view-in-github",
        "colab_type": "text"
      },
      "source": [
        "<a href=\"https://colab.research.google.com/github/changsin/ML/blob/main/MIU/02.PAC_Learning.ipynb\" target=\"_parent\"><img src=\"https://colab.research.google.com/assets/colab-badge.svg\" alt=\"Open In Colab\"/></a>"
      ]
    },
    {
      "cell_type": "markdown",
      "metadata": {
        "id": "SQXhiZhJTcDQ"
      },
      "source": [
        "# PAC Learning\n",
        "\n",
        "PAC stands for 'Probably Approximately Correct'. PAC gives you the confidence and the correctness for the hypothesis."
      ]
    },
    {
      "cell_type": "code",
      "metadata": {
        "id": "UZyBwtm-YPdt",
        "outputId": "529e4358-ab1f-4825-a854-598149691fc6",
        "colab": {
          "base_uri": "https://localhost:8080/"
        }
      },
      "source": [
        "import math\n",
        "\n",
        "math.e\n",
        "\n",
        "\n",
        "x = 4\n",
        "\n",
        "x"
      ],
      "execution_count": 3,
      "outputs": [
        {
          "output_type": "execute_result",
          "data": {
            "text/plain": [
              "4"
            ]
          },
          "metadata": {},
          "execution_count": 3
        }
      ]
    },
    {
      "cell_type": "code",
      "metadata": {
        "id": "Ck9RyUioY_GC",
        "outputId": "571af887-0446-4fe7-ebd1-8ee0527cc97a",
        "colab": {
          "base_uri": "https://localhost:8080/"
        }
      },
      "source": [
        "1 - x"
      ],
      "execution_count": 4,
      "outputs": [
        {
          "output_type": "execute_result",
          "data": {
            "text/plain": [
              "-3"
            ]
          },
          "metadata": {},
          "execution_count": 4
        }
      ]
    },
    {
      "cell_type": "code",
      "metadata": {
        "id": "G6VrC1KnZDE_",
        "outputId": "b14f0d89-fa13-47d9-f004-88dadc273cf5",
        "colab": {
          "base_uri": "https://localhost:8080/"
        }
      },
      "source": [
        "math.exp(-x)"
      ],
      "execution_count": 9,
      "outputs": [
        {
          "output_type": "execute_result",
          "data": {
            "text/plain": [
              "0.01831563888873418"
            ]
          },
          "metadata": {},
          "execution_count": 9
        }
      ]
    },
    {
      "cell_type": "code",
      "metadata": {
        "id": "T8QqASPls8qu"
      },
      "source": [
        "import matplotlib.patches as patches\n",
        "\n",
        "COLORS = [(0, 255/255, 0), (255/255, 255/255, 0), (255/255, 0, 0)]\n",
        "\n",
        "def create_patch_rectangle(y, color, fill=False):\n",
        "  width = (y[2] - y[0])\n",
        "  height = (y[3] - y[1])\n",
        "  return patches.Rectangle((y[0], y[1]),\n",
        "                           width, height,\n",
        "                           edgecolor=color,\n",
        "                           facecolor='grey', fill=fill, alpha=0.3)"
      ],
      "execution_count": 73,
      "outputs": []
    },
    {
      "cell_type": "code",
      "metadata": {
        "id": "C7EM_Ev1s9bS",
        "outputId": "b1c60e69-6846-45f2-e2e5-9db023341874",
        "colab": {
          "base_uri": "https://localhost:8080/",
          "height": 282
        }
      },
      "source": [
        "import numpy as np\n",
        "import matplotlib.pyplot as plt\n",
        "\n",
        "X = np.array([\n",
        "      # negative\n",
        "      [1.,    1.2],\n",
        "      [1.2,   .7],\n",
        "      [2.,    .8],    \n",
        "      [3.,    .85],\n",
        "      [3.1,   .5],\n",
        "      [2.9,   2.],\n",
        "      [1.7,    .2],    \n",
        "      [2.,    2.8],\n",
        "\n",
        "      # positive\n",
        "      [1.5,   1.5],\n",
        "      [2,     1.2],\n",
        "      [2.5,   1.7],\n",
        "      [2.,    2.],\n",
        "      [1.5,   2.]\n",
        "    ])\n",
        "y = np.array([0, 0, 0, 0, 0, 0, 0, 0, 1, 1, 1, 1, 1])\n",
        "\n",
        "import numpy as np\n",
        "import matplotlib.pyplot as plt\n",
        "\n",
        "def plot_data(X, y):\n",
        "  positives = X[y == 1]\n",
        "  negatives = X[y == 0]\n",
        "\n",
        "  fig, ax = plt.subplots()\n",
        "  ax.plot(positives[:, 0], positives[:, 1], marker='+', linestyle='', ms=12, label='+')\n",
        "  ax.plot(negatives[:, 0], negatives[:, 1], marker='_', linestyle='', ms=12, label='-')\n",
        "  return ax\n",
        "\n",
        "# plt.scatter(X[:, 0], X[:, 1])\n",
        "\n",
        "ax = plot_data(X, y)\n",
        "# x_line = np.linspace(0, 10, 100)\n",
        "# y_line = -2.1*x_line + 20\n",
        "PADDING = 0.01\n",
        "rect1 = create_patch_rectangle((1.2, 2.4, 2.8, .9), COLORS[0])\n",
        "rect2 = create_patch_rectangle((1.4, 2.1, 2.6, 1.1), COLORS[1])\n",
        "rect3 = create_patch_rectangle((1.2 + PADDING, 2.4 - PADDING*2,\n",
        "                                2.8 - PADDING, 2.1 + PADDING*2),\n",
        "                                COLORS[2], fill=True)\n",
        "ax.add_patch(rect1)\n",
        "ax.add_patch(rect2)\n",
        "ax.add_patch(rect3)\n",
        "\n",
        "ax.text(x=2.0,\n",
        "         y=2.2,\n",
        "         s=chr(949) + '/4',\n",
        "         fontdict=dict(color='red',size=15),\n",
        "         bbox=dict(facecolor='white',alpha=0))\n",
        "\n",
        "# ax.plot(x_line, y_line, 'g', label='y=wx+b')"
      ],
      "execution_count": 74,
      "outputs": [
        {
          "output_type": "execute_result",
          "data": {
            "text/plain": [
              "Text(2.0, 2.2, 'ε/4')"
            ]
          },
          "metadata": {},
          "execution_count": 74
        },
        {
          "output_type": "display_data",
          "data": {
            "image/png": "[encoded data removed]",
            "text/plain": [
              "<Figure size 432x288 with 1 Axes>"
            ]
          },
          "metadata": {
            "needs_background": "light"
          }
        }
      ]
    },
    {
      "cell_type": "code",
      "metadata": {
        "id": "1fmC8XhAQihQ",
        "outputId": "d04da999-c49d-46bc-e629-4e44f47b02ee",
        "colab": {
          "base_uri": "https://localhost:8080/"
        }
      },
      "source": [
        "greek_letterz=[(chr(code), code) for code in range(945,970)]\n",
        "\n",
        "print(greek_letterz)"
      ],
      "execution_count": 43,
      "outputs": [
        {
          "output_type": "stream",
          "name": "stdout",
          "text": [
            "[('α', 945), ('β', 946), ('γ', 947), ('δ', 948), ('ε', 949), ('ζ', 950), ('η', 951), ('θ', 952), ('ι', 953), ('κ', 954), ('λ', 955), ('μ', 956), ('ν', 957), ('ξ', 958), ('ο', 959), ('π', 960), ('ρ', 961), ('ς', 962), ('σ', 963), ('τ', 964), ('υ', 965), ('φ', 966), ('χ', 967), ('ψ', 968), ('ω', 969)]\n"
          ]
        }
      ]
    },
    {
      "cell_type": "code",
      "metadata": {
        "id": "MoGBvI-JtRVP"
      },
      "source": [
        ""
      ],
      "execution_count": 11,
      "outputs": []
    }
  ]
}
