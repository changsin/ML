{
  "nbformat": 4,
  "nbformat_minor": 0,
  "metadata": {
    "colab": {
      "name": "04.linear_regression.ipynb",
      "provenance": [],
      "toc_visible": true,
      "authorship_tag": "ABX9TyO3tlFvcq8EF6zdDkM+eIgz",
      "include_colab_link": true
    },
    "kernelspec": {
      "name": "python3",
      "display_name": "Python 3"
    },
    "language_info": {
      "name": "python"
    }
  },
  "cells": [
    {
      "cell_type": "markdown",
      "metadata": {
        "id": "view-in-github",
        "colab_type": "text"
      },
      "source": [
        "<a href=\"https://colab.research.google.com/github/changsin/ML/blob/main/MIU/04.linear_regression.ipynb\" target=\"_parent\"><img src=\"https://colab.research.google.com/assets/colab-badge.svg\" alt=\"Open In Colab\"/></a>"
      ]
    },
    {
      "cell_type": "markdown",
      "metadata": {
        "id": "ZGXC7yKOxbBY"
      },
      "source": [
        "# Linear regression\n",
        "\n"
      ]
    },
    {
      "cell_type": "code",
      "metadata": {
        "id": "30hC8Y_UXs8C",
        "colab": {
          "base_uri": "https://localhost:8080/"
        },
        "outputId": "ba62f940-0390-41e0-b6d7-ffae8d4f153a"
      },
      "source": [
        "!git clone https://github.com/changsin/ML"
      ],
      "execution_count": null,
      "outputs": [
        {
          "output_type": "stream",
          "name": "stdout",
          "text": [
            "Cloning into 'ML'...\n",
            "remote: Enumerating objects: 50, done.\u001b[K\n",
            "remote: Counting objects: 100% (50/50), done.\u001b[K\n",
            "remote: Compressing objects: 100% (43/43), done.\u001b[K\n",
            "remote: Total 50 (delta 11), reused 0 (delta 0), pack-reused 0\u001b[K\n",
            "Unpacking objects: 100% (50/50), done.\n"
          ]
        }
      ]
    },
    {
      "cell_type": "markdown",
      "metadata": {
        "id": "qBVuhik7Btsv"
      },
      "source": [
        "# Sample dataset:\n",
        " [sklearn diabetes](https://scikit-learn.org/stable/datasets/toy_dataset.html)\n",
        "\n",
        "## X column attributes:\n",
        "1. age age in years\n",
        "2. sex\n",
        "3. bmi body mass index\n",
        "4. bp average blood pressure\n",
        "5. s1 tc, total serum cholesterol\n",
        "6. s2 ldl, low-density lipoproteins\n",
        "7. s3 hdl, high-density lipoproteins\n",
        "8. s4 tch, total cholesterol / HDL\n",
        "9. s5 ltg, possibly log of serum triglycerides level\n",
        "10. s6 glu, blood sugar level\n",
        "\n",
        "(mean centered and scaled by the standard deviation times n_samples (i.e. the sum of squares of each column totals 1).\n",
        "\n",
        "## y target value:\n",
        " quantitative measure of disease progression one year after baseline\n"
      ]
    },
    {
      "cell_type": "code",
      "metadata": {
        "id": "dPzcPJsB2op8",
        "colab": {
          "base_uri": "https://localhost:8080/"
        },
        "outputId": "7917853a-5a73-45f2-a5b8-8ad11faa7e50"
      },
      "source": [
        "from sklearn import datasets\n",
        "\n",
        "X, y = datasets.load_diabetes(return_X_y=True)\n",
        "X.shape"
      ],
      "execution_count": 1,
      "outputs": [
        {
          "output_type": "execute_result",
          "data": {
            "text/plain": [
              "(442, 10)"
            ]
          },
          "metadata": {},
          "execution_count": 1
        }
      ]
    },
    {
      "cell_type": "code",
      "metadata": {
        "id": "TUpS6TOZ_ToG",
        "colab": {
          "base_uri": "https://localhost:8080/",
          "height": 298
        },
        "outputId": "6b852597-e2b5-4a4a-fe94-a7bc676bc10c"
      },
      "source": [
        "import matplotlib.pyplot as plt\n",
        "\n",
        "def plot_data(X, y, limit=20):\n",
        "  fig, ax = plt.subplots()\n",
        "  ax.plot(X[:limit, 8]*100, y[:limit], marker='o', linestyle='', ms=12)\n",
        "  # ax.plot(negatives[:, 0], negatives[:, 1], marker='o', linestyle='', ms=12, label='-')\n",
        "\n",
        "  plt.legend()\n",
        "\n",
        "  return ax\n",
        "\n",
        "ax = plot_data(X, y)\n",
        "\n",
        "x_line = np.linspace(-10, 10, 100)\n",
        "y_line = 20*x_line + 150\n",
        "\n",
        "ax.plot(x_line, y_line, 'g', label='y=wx+b')"
      ],
      "execution_count": 46,
      "outputs": [
        {
          "output_type": "stream",
          "name": "stderr",
          "text": [
            "No handles with labels found to put in legend.\n"
          ]
        },
        {
          "output_type": "execute_result",
          "data": {
            "text/plain": [
              "[<matplotlib.lines.Line2D at 0x7f6b7f7d25d0>]"
            ]
          },
          "metadata": {},
          "execution_count": 46
        },
        {
          "output_type": "display_data",
          "data": {
            "image/png": "[encoded data removed]",
            "text/plain": [
              "<Figure size 432x288 with 1 Axes>"
            ]
          },
          "metadata": {
            "needs_background": "light"
          }
        }
      ]
    },
    {
      "cell_type": "code",
      "metadata": {
        "id": "U_iDd3TaCWpz"
      },
      "source": [
        ""
      ],
      "execution_count": null,
      "outputs": []
    }
  ]
}