{
  "nbformat": 4,
  "nbformat_minor": 0,
  "metadata": {
    "colab": {
      "name": "04.linear_regression.ipynb",
      "provenance": [],
      "toc_visible": true,
      "authorship_tag": "ABX9TyO5yj+TbnTWahGFCCOO3ReQ",
      "include_colab_link": true
    },
    "kernelspec": {
      "name": "python3",
      "display_name": "Python 3"
    },
    "language_info": {
      "name": "python"
    }
  },
  "cells": [
    {
      "cell_type": "markdown",
      "metadata": {
        "id": "view-in-github",
        "colab_type": "text"
      },
      "source": [
        "<a href=\"https://colab.research.google.com/github/changsin/ML/blob/main/MIU/04.linear_regression.ipynb\" target=\"_parent\"><img src=\"https://colab.research.google.com/assets/colab-badge.svg\" alt=\"Open In Colab\"/></a>"
      ]
    },
    {
      "cell_type": "markdown",
      "metadata": {
        "id": "ZGXC7yKOxbBY"
      },
      "source": [
        "# Linear regression\n",
        "Linear regression is a parametric method that follows a linear model: i.e., there is a linear relationship between variables.\n"
      ]
    },
    {
      "cell_type": "markdown",
      "metadata": {
        "id": "m8vekSZQYFB9"
      },
      "source": [
        "## Model\n",
        "The equation of the linear model is:\n",
        "\n",
        "$$ h_\\theta(x) = \\theta_0 + \\theta_1x $$\n",
        "\n",
        "- h: hypothesis\n",
        "- $\\theta_0, \\theta_1 $: parameters\n",
        "- x: input\n"
      ]
    },
    {
      "cell_type": "markdown",
      "metadata": {
        "id": "26Sd2y0iWlwd"
      },
      "source": [
        "## Cost function\n",
        "Following Andrew Ng's [Coursera Machine Learning](https://www.coursera.org/learn/machine-learning), here is the cost function we use a slightly modified MSE (Mean Squared Error) to compute the error:\n",
        "\n",
        "*(To display math expressions correctly, open the notebook in colab)\n",
        "\n",
        "$$ J(\\theta) = \\frac{1}{2m}\\sum\\limits_{t=1}^{m}(h_\\theta(x^{(i)}) - y^{(i)})^2 $$\n",
        "\n",
        "- $J(\\theta)$: Cost function\n",
        "- m: number  of samples\n",
        "- h: hypothesis\n",
        "- y: ground truth\n",
        "\n",
        "### Two things to note are:\n",
        "1. Note that the superscript i in ($x^{(i)}, y^{(i)}$) does not mean an exponential term , but an index.\n",
        "2. The denominator m is multiplied by 2 to make further calculations (i.e., taking derivatives) easy. It does not affect the result in computing the errors.\n",
        "\n"
      ]
    },
    {
      "cell_type": "markdown",
      "metadata": {
        "id": "V91X4QbmZ6cb"
      },
      "source": [
        "## Gradient Descent\n",
        "The goal of linear regression is to find the parameters $\\theta_0$ and $ \\theta_1$ that minimize the error.\n",
        "That amounts to taking partial derivatives of the quadratic error function in terms of the two parameter terms $\\theta_0$ and $ \\theta_1$. You can see why by plotting the error function. The convex shape tells us that there is a global minimum at the lowest point and partial derivatives would help us calculate how much we need to adjust the parameters on each iteration. \n"
      ]
    },
    {
      "cell_type": "code",
      "metadata": {
        "colab": {
          "base_uri": "https://localhost:8080/",
          "height": 282
        },
        "id": "oojG5rHiaQb9",
        "outputId": "aee97439-2fd0-4d9f-ce5c-6a5d72c78389"
      },
      "source": [
        "import numpy as np\n",
        "import matplotlib.pyplot as plt\n",
        "\n",
        "X = np.arange(-10, 11, 1)\n",
        "Y = X**2\n",
        "Y\n",
        "plt.plot(X, Y)"
      ],
      "execution_count": null,
      "outputs": [
        {
          "output_type": "execute_result",
          "data": {
            "text/plain": [
              "[<matplotlib.lines.Line2D at 0x7f6b7f5a9610>]"
            ]
          },
          "metadata": {},
          "execution_count": 61
        },
        {
          "output_type": "display_data",
          "data": {
            "image/png": "[encoded data removed]",
            "text/plain": [
              "<Figure size 432x288 with 1 Axes>"
            ]
          },
          "metadata": {
            "needs_background": "light"
          }
        }
      ]
    },
    {
      "cell_type": "markdown",
      "metadata": {
        "id": "NzM9wzjUcFVO"
      },
      "source": [
        "### Derivation of partial derivatives\n",
        "Taking partial derivatives on the cost function J:\n",
        "$$\n",
        "J(\\theta) = \\frac{1}{2m}\\sum\\limits_{t=1}^{m}(h_\\theta(x^{(i)}) - y^{(i)})^2 \n",
        "$$\n",
        "\n",
        "means:\n",
        "\n",
        "$$\n",
        "\\frac{\\delta}{\\delta\\theta_j} J(\\theta_0, \\theta_1) = \\frac{\\delta}{\\delta\\theta_j}[ \\frac{1}{2m}\\sum\\limits_{t=1}^{m}(h_\\theta(x^{(i)}) - y^{(i)})^2 ]\n",
        "$$\n",
        "\n",
        "Since $h_\\theta = \\theta_0 + \\theta_1x $, we can substitute h:\n",
        "\n",
        "$$\n",
        " = \\frac{\\delta}{\\delta\\theta_j}[ \\frac{1}{2m}\\sum\\limits_{t=1}^{m}(\\theta_0 + \\theta_1x^{(i)} - y^{(i)})^2 ]\n",
        "$$\n",
        "\n",
        "To take a partial derivative, you need to expand the term.\n",
        "\n",
        "$$\n",
        " (\\theta_0 + \\theta_1x^{(i)} - y^{(i)})^2 = \\theta_0^2 + (\\theta_1x^{(i)})^2 + (y^{(i)})^2 + 2\\theta_0 \\theta_1x^{(i)} - 2\\theta_0 y^{(i)} - 2\\theta_1x^{(i)} y^{(i)}\n",
        "$$"
      ]
    },
    {
      "cell_type": "markdown",
      "metadata": {
        "id": "p3-1jepmh885"
      },
      "source": [
        "Taking partial derivatives for $ \\theta_0 $ and $\\theta_1$, gives us:\n",
        "\n",
        "\n",
        "$$\n",
        "\\frac{\\delta}{\\delta\\theta_0}[ \n",
        "\\theta_0^2 + (\\theta_1x^{(i)})^2 + (y^{(i)})^2 + 2\\theta_0 \\theta_1x^{(i)} - 2\\theta_0 y^{(i)} - 2\\theta_1x^{(i)} y^{(i)}]\n",
        "$$\n",
        "\n",
        "$$\n",
        "= 2\\theta_0 + 2\\theta_1x^{(i)} - 2y^{(i)}\n",
        "$$\n",
        "$$\n",
        "= 2(\\theta_0 + \\theta_1x^{(i)} - y^{(i)}) = 2(h_\\theta x^{(i)} - y^{(i)})\n",
        "$$\n",
        "In other words,\n",
        "$$ \\frac{\\delta}{\\delta\\theta_0} J(\\theta) = \\frac{1}{m}\\sum\\limits_{i=1}^{m}(h_\\theta x^{(i)} - y^{(i)})\n",
        "$$"
      ]
    },
    {
      "cell_type": "markdown",
      "metadata": {
        "id": "ffFX6Y_2mnuH"
      },
      "source": [
        "\n",
        "Similarly, for $ \\theta_1$:\n",
        "$$\n",
        "\\frac{\\delta}{\\delta\\theta_1}[ \n",
        "\\theta_0^2 + (\\theta_1x^{(i)})^2 + (y^{(i)})^2 + 2\\theta_0 \\theta_1x^{(i)} - 2\\theta_0 y^{(i)} - 2\\theta_1x^{(i)} y^{(i)}]\n",
        "$$\n",
        "\n",
        "$$\n",
        "= 2\\theta_1x^{(i)} + 2\\theta_0x^{(i)} - 2x^{(i)}y^{(i)}\n",
        "$$\n",
        "\n",
        "$$\n",
        "= 2(\\theta_0 + \\theta_1x^{(i)} - y^{(i)})x^{(i)} = 2(h_\\theta(x^{(i)}) - y^{(i)})x^{(i)}\n",
        "$$\n",
        "\n",
        "In other words,\n",
        "\n",
        "$$ \\frac{\\delta}{\\delta\\theta_1} J(\\theta) = \\frac{1}{m}\\sum\\limits_{i=1}^{m}(h_\\theta(x^{(i)}) - y^{(i)})x^{(i)} $$\n"
      ]
    },
    {
      "cell_type": "markdown",
      "metadata": {
        "id": "c2cP0wh9pxnM"
      },
      "source": [
        "In summary,\n",
        "\n",
        "$$ \\frac{\\delta}{\\delta\\theta_0} J(\\theta_0, \\theta_1) = \\frac{1}{m}\\sum\\limits_{i=1}^{m}(h_\\theta(x^{(i)}) - y^{(i)}) $$\n",
        "\n",
        "and\n",
        "\n",
        "$$ \\frac{\\delta}{\\delta\\theta_1} J(\\theta_0, \\theta_1) = \\frac{1}{m}\\sum\\limits_{i=1}^{m}(h_\\theta(x^{(i)}) - y^{(i)})x^{(i)} $$"
      ]
    },
    {
      "cell_type": "markdown",
      "metadata": {
        "id": "_MxdeKNoq3Sg"
      },
      "source": [
        "In practice, we add a learning rate $\\alpha$ and update all $\\theta s$ simultaneously. \n",
        "\n",
        "$$ \\theta_j = \\theta_j - \\alpha \\frac{1}{m} \\sum_{i=1}^m \\left( h_\\theta(x^{(i)}) - y^{(i)}\\right)x_j^{(i)} \\qquad \\text{simultaneously update } \\theta_j \\text{ for all } j$$\n",
        "\n",
        "So this is the formula we will use to update the parameters."
      ]
    },
    {
      "cell_type": "code",
      "metadata": {
        "id": "30hC8Y_UXs8C",
        "colab": {
          "base_uri": "https://localhost:8080/"
        },
        "outputId": "ba62f940-0390-41e0-b6d7-ffae8d4f153a"
      },
      "source": [
        "!git clone https://github.com/changsin/ML"
      ],
      "execution_count": null,
      "outputs": [
        {
          "output_type": "stream",
          "name": "stdout",
          "text": [
            "Cloning into 'ML'...\n",
            "remote: Enumerating objects: 50, done.\u001b[K\n",
            "remote: Counting objects: 100% (50/50), done.\u001b[K\n",
            "remote: Compressing objects: 100% (43/43), done.\u001b[K\n",
            "remote: Total 50 (delta 11), reused 0 (delta 0), pack-reused 0\u001b[K\n",
            "Unpacking objects: 100% (50/50), done.\n"
          ]
        }
      ]
    },
    {
      "cell_type": "markdown",
      "metadata": {
        "id": "qBVuhik7Btsv"
      },
      "source": [
        "# Sample dataset:\n",
        " [sklearn diabetes](https://scikit-learn.org/stable/datasets/toy_dataset.html)\n",
        "\n",
        "## X column attributes:\n",
        "1. age age in years\n",
        "2. sex\n",
        "3. bmi body mass index\n",
        "4. bp average blood pressure\n",
        "5. s1 tc, total serum cholesterol\n",
        "6. s2 ldl, low-density lipoproteins\n",
        "7. s3 hdl, high-density lipoproteins\n",
        "8. s4 tch, total cholesterol / HDL\n",
        "9. s5 ltg, possibly log of serum triglycerides level\n",
        "10. s6 glu, blood sugar level\n",
        "\n",
        "(mean centered and scaled by the standard deviation times n_samples (i.e. the sum of squares of each column totals 1).\n",
        "\n",
        "## y target value:\n",
        " quantitative measure of disease progression one year after baseline\n"
      ]
    },
    {
      "cell_type": "code",
      "metadata": {
        "id": "dPzcPJsB2op8",
        "colab": {
          "base_uri": "https://localhost:8080/"
        },
        "outputId": "a8596c75-0bb2-4390-bfa8-164d4ac521f2"
      },
      "source": [
        "from sklearn import datasets\n",
        "\n",
        "X, y = datasets.load_diabetes(return_X_y=True)\n",
        "X.shape"
      ],
      "execution_count": 190,
      "outputs": [
        {
          "output_type": "execute_result",
          "data": {
            "text/plain": [
              "(442, 10)"
            ]
          },
          "metadata": {},
          "execution_count": 190
        }
      ]
    },
    {
      "cell_type": "code",
      "metadata": {
        "id": "OFxbYrVfzplf"
      },
      "source": [
        "# just use the first 20 items in the dataset\n",
        "PART_SIZE = 20\n",
        "\n",
        "# m = y.size\n",
        "m = PART_SIZE\n",
        "\n",
        "# Add a column of ones to X. The numpy function stack joins arrays along a given axis. \n",
        "# The first axis (axis=0) refers to rows (training examples) \n",
        "# and second axis (axis=1) refers to columns (features).\n",
        "X_part = np.stack([np.ones(m), X[:PART_SIZE, 8]*100], axis=1)\n",
        "y_part = y[:PART_SIZE]"
      ],
      "execution_count": 191,
      "outputs": []
    },
    {
      "cell_type": "code",
      "metadata": {
        "id": "TUpS6TOZ_ToG",
        "colab": {
          "base_uri": "https://localhost:8080/",
          "height": 265
        },
        "outputId": "bc739fe5-03cd-4545-c9a3-25efc44ff479"
      },
      "source": [
        "import matplotlib.pyplot as plt\n",
        "\n",
        "def plot_data(X, y, limit=20):\n",
        "  fig, ax = plt.subplots()\n",
        "  ax.plot(X, y, marker='o', linestyle='', ms=12, label='+')\n",
        "\n",
        "  return ax\n",
        "\n",
        "ax = plot_data(X_part[:, 1], y_part)\n",
        "\n",
        "x_line = np.linspace(-10, 10, 100)\n",
        "y_line = 10*x_line + 150\n",
        "\n",
        "# ax.plot(x_line, y_line, 'g', label='y=wx+b')"
      ],
      "execution_count": 208,
      "outputs": [
        {
          "output_type": "display_data",
          "data": {
            "image/png": "[encoded data removed]",
            "text/plain": [
              "<Figure size 432x288 with 1 Axes>"
            ]
          },
          "metadata": {
            "needs_background": "light"
          }
        }
      ]
    },
    {
      "cell_type": "code",
      "metadata": {
        "id": "U_iDd3TaCWpz"
      },
      "source": [
        "def computeCost(X, y, theta):\n",
        "    \"\"\"\n",
        "    Compute cost for linear regression. Computes the cost of using theta as the\n",
        "    parameter for linear regression to fit the data points in X and y.\n",
        "    \n",
        "    Parameters\n",
        "    ----------\n",
        "    X : array_like\n",
        "        The input dataset of shape (m x n+1), where m is the number of examples,\n",
        "        and n is the number of features. We assume a vector of one's already \n",
        "        appended to the features so we have n+1 columns.\n",
        "    \n",
        "    y : array_like\n",
        "        The values of the function at each data point. This is a vector of\n",
        "        shape (m, ).\n",
        "    \n",
        "    theta : array_like\n",
        "        The parameters for the regression function. This is a vector of \n",
        "        shape (n+1, ).\n",
        "    \n",
        "    Returns\n",
        "    -------\n",
        "    J : float\n",
        "        The value of the regression cost function.\n",
        "    \n",
        "    Instructions\n",
        "    ------------\n",
        "    Compute the cost of a particular choice of theta. \n",
        "    You should set J to the cost.\n",
        "    \"\"\"\n",
        "    \n",
        "    # initialize some useful values\n",
        "    m = y.size  # number of training examples\n",
        "    \n",
        "    # You need to return the following variables correctly\n",
        "    J = 0\n",
        "    \n",
        "    # ====================== YOUR CODE HERE =====================\n",
        "\n",
        "    J = (1/(2*m)) * sum((np.dot(X, theta) - y)**2);\n",
        "\n",
        "    # ===========================================================\n",
        "    return J"
      ],
      "execution_count": null,
      "outputs": []
    },
    {
      "cell_type": "code",
      "metadata": {
        "id": "ouXbIKgcy_Gg",
        "colab": {
          "base_uri": "https://localhost:8080/"
        },
        "outputId": "f78a69ba-c1de-4118-b26e-ba693be6839b"
      },
      "source": [
        "theta=np.array([0.0, 0.0])\n",
        "J = computeCost(X_part, y_part, theta=theta)\n",
        "print('With theta = [0, 0] \\nCost computed = %.2f' % J)\n",
        "print('Expected cost value (approximately) 11497.70\\n')"
      ],
      "execution_count": 201,
      "outputs": [
        {
          "output_type": "stream",
          "name": "stdout",
          "text": [
            "With theta = [0, 0] \n",
            "Cost computed = 11497.70\n",
            "Expected cost value (approximately) 11497.70\n",
            "\n"
          ]
        }
      ]
    },
    {
      "cell_type": "code",
      "metadata": {
        "id": "ucRtwKlZzN5j"
      },
      "source": [
        "def gradientDescent(X, y, theta, alpha, num_iters):\n",
        "    \"\"\"\n",
        "    Performs gradient descent to learn `theta`. Updates theta by taking `num_iters`\n",
        "    gradient steps with learning rate `alpha`.\n",
        "    \n",
        "    Parameters\n",
        "    ----------\n",
        "    X : array_like\n",
        "        The input dataset of shape (m x n+1).\n",
        "    \n",
        "    y : array_like\n",
        "        Value at given features. A vector of shape (m, ).\n",
        "    \n",
        "    theta : array_like\n",
        "        Initial values for the linear regression parameters. \n",
        "        A vector of shape (n+1, ).\n",
        "    \n",
        "    alpha : float\n",
        "        The learning rate.\n",
        "    \n",
        "    num_iters : int\n",
        "        The number of iterations for gradient descent. \n",
        "    \n",
        "    Returns\n",
        "    -------\n",
        "    theta : array_like\n",
        "        The learned linear regression parameters. A vector of shape (n+1, ).\n",
        "    \n",
        "    J_history : list\n",
        "        A python list for the values of the cost function after each iteration.\n",
        "    \n",
        "    Instructions\n",
        "    ------------\n",
        "    Peform a single gradient step on the parameter vector theta.\n",
        "\n",
        "    While debugging, it can be useful to print out the values of \n",
        "    the cost function (computeCost) and gradient here.\n",
        "    \"\"\"\n",
        "    # Initialize some useful values\n",
        "    m = y.shape[0]  # number of training examples\n",
        "    \n",
        "    # make a copy of theta, to avoid changing the original array, since numpy arrays\n",
        "    # are passed by reference to functions\n",
        "    theta = theta.copy()\n",
        "    \n",
        "    J_history = [] # Use a python list to save cost in every iteration\n",
        "    \n",
        "    for i in range(num_iters):\n",
        "        theta_zero, theta_one = theta\n",
        "        # ==================== YOUR CODE HERE =================================\n",
        "        \n",
        "        # theta = theta - (alpha/m) * np.sum((np.dot(X, theta)-y)[:, None]*X, axis=0)\n",
        "        # # J_history.insert(i, computeCost(X, y, theta))\n",
        "        # # print('Cost function: ', J_history[i])\n",
        "        h = np.dot(X, theta)\n",
        "        theta_zero = theta_zero - (alpha/m) * np.sum(h - y)\n",
        "        theta_one = theta_one - (alpha/m) * np.sum((h - y)[:, None] * X)\n",
        "\n",
        "        theta = [theta_zero, theta_one]\n",
        "\n",
        "        J = computeCost(X, y, theta)\n",
        "\n",
        "        print('cost: {:.2f} theta: {:.2f} {:.2f}'.format(J, theta_zero, theta_one))\n",
        "\n",
        "        # =====================================================================\n",
        "        \n",
        "        # save the cost J in every iteration\n",
        "        J_history.append([J, theta_zero, theta_one])\n",
        "    \n",
        "    return theta, J_history"
      ],
      "execution_count": 241,
      "outputs": []
    },
    {
      "cell_type": "code",
      "metadata": {
        "colab": {
          "base_uri": "https://localhost:8080/"
        },
        "id": "iXLqD561yD7g",
        "outputId": "a6eb7664-935b-4f38-ea7b-d53f003149aa"
      },
      "source": [
        "# initialize fitting parameters\n",
        "theta = np.zeros(2)\n",
        "\n",
        "# some gradient descent settings\n",
        "iterations = 300\n",
        "alpha = 0.01\n",
        "\n",
        "theta, J_history = gradientDescent(X_part, y_part, theta, alpha, iterations)\n",
        "print('Theta found by gradient descent: {:.4f}, {:.4f}'.format(*theta))"
      ],
      "execution_count": 242,
      "outputs": [
        {
          "output_type": "stream",
          "name": "stdout",
          "text": [
            "cost: 11294.96 theta: 1.41 1.58\n",
            "cost: 11126.65 theta: 2.83 2.87\n",
            "cost: 10974.88 theta: 4.25 3.91\n",
            "cost: 10829.37 theta: 5.66 4.76\n",
            "cost: 10684.50 theta: 7.07 5.45\n",
            "cost: 10537.53 theta: 8.48 6.01\n",
            "cost: 10387.40 theta: 9.88 6.47\n",
            "cost: 10233.99 theta: 11.27 6.85\n",
            "cost: 10077.70 theta: 12.65 7.15\n",
            "cost: 9919.16 theta: 14.02 7.40\n",
            "cost: 9759.07 theta: 15.38 7.61\n",
            "cost: 9598.14 theta: 16.73 7.78\n",
            "cost: 9436.99 theta: 18.06 7.92\n",
            "cost: 9276.20 theta: 19.39 8.03\n",
            "cost: 9116.24 theta: 20.70 8.13\n",
            "cost: 8957.50 theta: 22.00 8.21\n",
            "cost: 8800.31 theta: 23.29 8.28\n",
            "cost: 8644.94 theta: 24.57 8.34\n",
            "cost: 8491.57 theta: 25.84 8.38\n",
            "cost: 8340.37 theta: 27.09 8.43\n",
            "cost: 8191.46 theta: 28.33 8.46\n",
            "cost: 8044.93 theta: 29.56 8.49\n",
            "cost: 7900.83 theta: 30.78 8.52\n",
            "cost: 7759.21 theta: 31.98 8.55\n",
            "cost: 7620.08 theta: 33.17 8.57\n",
            "cost: 7483.45 theta: 34.36 8.59\n",
            "cost: 7349.32 theta: 35.53 8.61\n",
            "cost: 7217.67 theta: 36.69 8.63\n",
            "cost: 7088.49 theta: 37.83 8.64\n",
            "cost: 6961.76 theta: 38.97 8.66\n",
            "cost: 6837.44 theta: 40.09 8.67\n",
            "cost: 6715.49 theta: 41.21 8.69\n",
            "cost: 6595.90 theta: 42.31 8.70\n",
            "cost: 6478.62 theta: 43.40 8.71\n",
            "cost: 6363.60 theta: 44.48 8.72\n",
            "cost: 6250.83 theta: 45.55 8.74\n",
            "cost: 6140.25 theta: 46.61 8.75\n",
            "cost: 6031.82 theta: 47.66 8.76\n",
            "cost: 5925.52 theta: 48.70 8.77\n",
            "cost: 5821.29 theta: 49.73 8.78\n",
            "cost: 5719.10 theta: 50.75 8.79\n",
            "cost: 5618.92 theta: 51.76 8.80\n",
            "cost: 5520.70 theta: 52.76 8.81\n",
            "cost: 5424.40 theta: 53.75 8.82\n",
            "cost: 5330.00 theta: 54.73 8.83\n",
            "cost: 5237.45 theta: 55.70 8.84\n",
            "cost: 5146.71 theta: 56.66 8.85\n",
            "cost: 5057.76 theta: 57.61 8.86\n",
            "cost: 4970.55 theta: 58.55 8.87\n",
            "cost: 4885.06 theta: 59.48 8.88\n",
            "cost: 4801.24 theta: 60.40 8.89\n",
            "cost: 4719.08 theta: 61.31 8.90\n",
            "cost: 4638.52 theta: 62.22 8.91\n",
            "cost: 4559.56 theta: 63.11 8.92\n",
            "cost: 4482.14 theta: 64.00 8.93\n",
            "cost: 4406.24 theta: 64.88 8.94\n",
            "cost: 4331.84 theta: 65.75 8.95\n",
            "cost: 4258.90 theta: 66.61 8.96\n",
            "cost: 4187.39 theta: 67.46 8.97\n",
            "cost: 4117.29 theta: 68.30 8.98\n",
            "cost: 4048.56 theta: 69.14 8.98\n",
            "cost: 3981.19 theta: 69.97 8.99\n",
            "cost: 3915.14 theta: 70.79 9.00\n",
            "cost: 3850.39 theta: 71.60 9.01\n",
            "cost: 3786.91 theta: 72.40 9.02\n",
            "cost: 3724.68 theta: 73.19 9.03\n",
            "cost: 3663.67 theta: 73.98 9.03\n",
            "cost: 3603.87 theta: 74.76 9.04\n",
            "cost: 3545.23 theta: 75.53 9.05\n",
            "cost: 3487.75 theta: 76.30 9.06\n",
            "cost: 3431.40 theta: 77.05 9.07\n",
            "cost: 3376.16 theta: 77.80 9.07\n",
            "cost: 3322.01 theta: 78.54 9.08\n",
            "cost: 3268.92 theta: 79.28 9.09\n",
            "cost: 3216.87 theta: 80.00 9.10\n",
            "cost: 3165.84 theta: 80.72 9.10\n",
            "cost: 3115.82 theta: 81.44 9.11\n",
            "cost: 3066.78 theta: 82.14 9.12\n",
            "cost: 3018.71 theta: 82.84 9.13\n",
            "cost: 2971.58 theta: 83.53 9.13\n",
            "cost: 2925.38 theta: 84.22 9.14\n",
            "cost: 2880.08 theta: 84.90 9.15\n",
            "cost: 2835.68 theta: 85.57 9.15\n",
            "cost: 2792.15 theta: 86.23 9.16\n",
            "cost: 2749.47 theta: 86.89 9.17\n",
            "cost: 2707.64 theta: 87.54 9.17\n",
            "cost: 2666.62 theta: 88.19 9.18\n",
            "cost: 2626.41 theta: 88.83 9.19\n",
            "cost: 2587.00 theta: 89.46 9.19\n",
            "cost: 2548.35 theta: 90.08 9.20\n",
            "cost: 2510.47 theta: 90.70 9.21\n",
            "cost: 2473.33 theta: 91.32 9.21\n",
            "cost: 2436.93 theta: 91.93 9.22\n",
            "cost: 2401.23 theta: 92.53 9.23\n",
            "cost: 2366.24 theta: 93.12 9.23\n",
            "cost: 2331.94 theta: 93.72 9.24\n",
            "cost: 2298.31 theta: 94.30 9.24\n",
            "cost: 2265.34 theta: 94.88 9.25\n",
            "cost: 2233.02 theta: 95.45 9.26\n",
            "cost: 2201.34 theta: 96.02 9.26\n",
            "cost: 2170.28 theta: 96.58 9.27\n",
            "cost: 2139.83 theta: 97.14 9.27\n",
            "cost: 2109.97 theta: 97.69 9.28\n",
            "cost: 2080.71 theta: 98.23 9.28\n",
            "cost: 2052.02 theta: 98.77 9.29\n",
            "cost: 2023.89 theta: 99.31 9.29\n",
            "cost: 1996.32 theta: 99.83 9.30\n",
            "cost: 1969.29 theta: 100.36 9.31\n",
            "cost: 1942.79 theta: 100.88 9.31\n",
            "cost: 1916.81 theta: 101.39 9.32\n",
            "cost: 1891.34 theta: 101.90 9.32\n",
            "cost: 1866.38 theta: 102.40 9.33\n",
            "cost: 1841.90 theta: 102.90 9.33\n",
            "cost: 1817.90 theta: 103.39 9.34\n",
            "cost: 1794.38 theta: 103.88 9.34\n",
            "cost: 1771.32 theta: 104.37 9.35\n",
            "cost: 1748.71 theta: 104.85 9.35\n",
            "cost: 1726.55 theta: 105.32 9.36\n",
            "cost: 1704.82 theta: 105.79 9.36\n",
            "cost: 1683.52 theta: 106.26 9.37\n",
            "cost: 1662.64 theta: 106.72 9.37\n",
            "cost: 1642.16 theta: 107.17 9.38\n",
            "cost: 1622.09 theta: 107.62 9.38\n",
            "cost: 1602.42 theta: 108.07 9.39\n",
            "cost: 1583.13 theta: 108.51 9.39\n",
            "cost: 1564.22 theta: 108.95 9.39\n",
            "cost: 1545.69 theta: 109.38 9.40\n",
            "cost: 1527.51 theta: 109.81 9.40\n",
            "cost: 1509.70 theta: 110.24 9.41\n",
            "cost: 1492.23 theta: 110.66 9.41\n",
            "cost: 1475.11 theta: 111.08 9.42\n",
            "cost: 1458.33 theta: 111.49 9.42\n",
            "cost: 1441.87 theta: 111.90 9.42\n",
            "cost: 1425.74 theta: 112.30 9.43\n",
            "cost: 1409.92 theta: 112.70 9.43\n",
            "cost: 1394.42 theta: 113.10 9.44\n",
            "cost: 1379.22 theta: 113.49 9.44\n",
            "cost: 1364.32 theta: 113.88 9.45\n",
            "cost: 1349.71 theta: 114.27 9.45\n",
            "cost: 1335.39 theta: 114.65 9.45\n",
            "cost: 1321.36 theta: 115.03 9.46\n",
            "cost: 1307.59 theta: 115.40 9.46\n",
            "cost: 1294.10 theta: 115.77 9.46\n",
            "cost: 1280.87 theta: 116.14 9.47\n",
            "cost: 1267.91 theta: 116.50 9.47\n",
            "cost: 1255.19 theta: 116.86 9.48\n",
            "cost: 1242.73 theta: 117.22 9.48\n",
            "cost: 1230.52 theta: 117.57 9.48\n",
            "cost: 1218.54 theta: 117.92 9.49\n",
            "cost: 1206.80 theta: 118.26 9.49\n",
            "cost: 1195.29 theta: 118.60 9.49\n",
            "cost: 1184.00 theta: 118.94 9.50\n",
            "cost: 1172.94 theta: 119.28 9.50\n",
            "cost: 1162.09 theta: 119.61 9.50\n",
            "cost: 1151.46 theta: 119.94 9.51\n",
            "cost: 1141.04 theta: 120.26 9.51\n",
            "cost: 1130.82 theta: 120.59 9.51\n",
            "cost: 1120.80 theta: 120.90 9.52\n",
            "cost: 1110.98 theta: 121.22 9.52\n",
            "cost: 1101.36 theta: 121.53 9.52\n",
            "cost: 1091.92 theta: 121.84 9.53\n",
            "cost: 1082.67 theta: 122.15 9.53\n",
            "cost: 1073.59 theta: 122.45 9.53\n",
            "cost: 1064.70 theta: 122.75 9.54\n",
            "cost: 1055.98 theta: 123.05 9.54\n",
            "cost: 1047.44 theta: 123.34 9.54\n",
            "cost: 1039.06 theta: 123.64 9.55\n",
            "cost: 1030.85 theta: 123.92 9.55\n",
            "cost: 1022.80 theta: 124.21 9.55\n",
            "cost: 1014.90 theta: 124.49 9.55\n",
            "cost: 1007.16 theta: 124.77 9.56\n",
            "cost: 999.58 theta: 125.05 9.56\n",
            "cost: 992.14 theta: 125.33 9.56\n",
            "cost: 984.85 theta: 125.60 9.57\n",
            "cost: 977.70 theta: 125.87 9.57\n",
            "cost: 970.69 theta: 126.13 9.57\n",
            "cost: 963.82 theta: 126.40 9.57\n",
            "cost: 957.09 theta: 126.66 9.58\n",
            "cost: 950.49 theta: 126.92 9.58\n",
            "cost: 944.02 theta: 127.18 9.58\n",
            "cost: 937.67 theta: 127.43 9.59\n",
            "cost: 931.45 theta: 127.68 9.59\n",
            "cost: 925.35 theta: 127.93 9.59\n",
            "cost: 919.37 theta: 128.18 9.59\n",
            "cost: 913.51 theta: 128.42 9.60\n",
            "cost: 907.77 theta: 128.66 9.60\n",
            "cost: 902.14 theta: 128.90 9.60\n",
            "cost: 896.61 theta: 129.14 9.60\n",
            "cost: 891.20 theta: 129.37 9.61\n",
            "cost: 885.89 theta: 129.60 9.61\n",
            "cost: 880.69 theta: 129.83 9.61\n",
            "cost: 875.59 theta: 130.06 9.61\n",
            "cost: 870.59 theta: 130.29 9.61\n",
            "cost: 865.69 theta: 130.51 9.62\n",
            "cost: 860.88 theta: 130.73 9.62\n",
            "cost: 856.17 theta: 130.95 9.62\n",
            "cost: 851.56 theta: 131.17 9.62\n",
            "cost: 847.03 theta: 131.38 9.63\n",
            "cost: 842.59 theta: 131.59 9.63\n",
            "cost: 838.24 theta: 131.80 9.63\n",
            "cost: 833.97 theta: 132.01 9.63\n",
            "cost: 829.79 theta: 132.22 9.63\n",
            "cost: 825.69 theta: 132.42 9.64\n",
            "cost: 821.67 theta: 132.62 9.64\n",
            "cost: 817.73 theta: 132.82 9.64\n",
            "cost: 813.87 theta: 133.02 9.64\n",
            "cost: 810.08 theta: 133.22 9.64\n",
            "cost: 806.37 theta: 133.41 9.65\n",
            "cost: 802.73 theta: 133.60 9.65\n",
            "cost: 799.16 theta: 133.79 9.65\n",
            "cost: 795.67 theta: 133.98 9.65\n",
            "cost: 792.24 theta: 134.17 9.65\n",
            "cost: 788.88 theta: 134.35 9.66\n",
            "cost: 785.58 theta: 134.54 9.66\n",
            "cost: 782.35 theta: 134.72 9.66\n",
            "cost: 779.18 theta: 134.90 9.66\n",
            "cost: 776.08 theta: 135.07 9.66\n",
            "cost: 773.03 theta: 135.25 9.67\n",
            "cost: 770.05 theta: 135.42 9.67\n",
            "cost: 767.13 theta: 135.60 9.67\n",
            "cost: 764.26 theta: 135.77 9.67\n",
            "cost: 761.45 theta: 135.94 9.67\n",
            "cost: 758.69 theta: 136.10 9.67\n",
            "cost: 755.99 theta: 136.27 9.68\n",
            "cost: 753.34 theta: 136.43 9.68\n",
            "cost: 750.74 theta: 136.60 9.68\n",
            "cost: 748.20 theta: 136.76 9.68\n",
            "cost: 745.70 theta: 136.92 9.68\n",
            "cost: 743.25 theta: 137.07 9.68\n",
            "cost: 740.86 theta: 137.23 9.69\n",
            "cost: 738.51 theta: 137.38 9.69\n",
            "cost: 736.20 theta: 137.54 9.69\n",
            "cost: 733.94 theta: 137.69 9.69\n",
            "cost: 731.72 theta: 137.84 9.69\n",
            "cost: 729.55 theta: 137.99 9.69\n",
            "cost: 727.42 theta: 138.13 9.70\n",
            "cost: 725.34 theta: 138.28 9.70\n",
            "cost: 723.29 theta: 138.42 9.70\n",
            "cost: 721.28 theta: 138.57 9.70\n",
            "cost: 719.32 theta: 138.71 9.70\n",
            "cost: 717.39 theta: 138.85 9.70\n",
            "cost: 715.50 theta: 138.99 9.70\n",
            "cost: 713.65 theta: 139.12 9.71\n",
            "cost: 711.83 theta: 139.26 9.71\n",
            "cost: 710.05 theta: 139.39 9.71\n",
            "cost: 708.30 theta: 139.53 9.71\n",
            "cost: 706.59 theta: 139.66 9.71\n",
            "cost: 704.91 theta: 139.79 9.71\n",
            "cost: 703.27 theta: 139.92 9.71\n",
            "cost: 701.66 theta: 140.05 9.72\n",
            "cost: 700.08 theta: 140.17 9.72\n",
            "cost: 698.53 theta: 140.30 9.72\n",
            "cost: 697.01 theta: 140.42 9.72\n",
            "cost: 695.52 theta: 140.55 9.72\n",
            "cost: 694.06 theta: 140.67 9.72\n",
            "cost: 692.63 theta: 140.79 9.72\n",
            "cost: 691.22 theta: 140.91 9.72\n",
            "cost: 689.85 theta: 141.02 9.73\n",
            "cost: 688.50 theta: 141.14 9.73\n",
            "cost: 687.18 theta: 141.26 9.73\n",
            "cost: 685.88 theta: 141.37 9.73\n",
            "cost: 684.61 theta: 141.49 9.73\n",
            "cost: 683.36 theta: 141.60 9.73\n",
            "cost: 682.14 theta: 141.71 9.73\n",
            "cost: 680.95 theta: 141.82 9.73\n",
            "cost: 679.77 theta: 141.93 9.73\n",
            "cost: 678.62 theta: 142.04 9.74\n",
            "cost: 677.49 theta: 142.14 9.74\n",
            "cost: 676.39 theta: 142.25 9.74\n",
            "cost: 675.30 theta: 142.36 9.74\n",
            "cost: 674.24 theta: 142.46 9.74\n",
            "cost: 673.20 theta: 142.56 9.74\n",
            "cost: 672.18 theta: 142.66 9.74\n",
            "cost: 671.18 theta: 142.76 9.74\n",
            "cost: 670.20 theta: 142.86 9.74\n",
            "cost: 669.23 theta: 142.96 9.75\n",
            "cost: 668.29 theta: 143.06 9.75\n",
            "cost: 667.37 theta: 143.16 9.75\n",
            "cost: 666.46 theta: 143.25 9.75\n",
            "cost: 665.57 theta: 143.35 9.75\n",
            "cost: 664.70 theta: 143.44 9.75\n",
            "cost: 663.84 theta: 143.54 9.75\n",
            "cost: 663.01 theta: 143.63 9.75\n",
            "cost: 662.19 theta: 143.72 9.75\n",
            "cost: 661.38 theta: 143.81 9.75\n",
            "cost: 660.59 theta: 143.90 9.76\n",
            "cost: 659.82 theta: 143.99 9.76\n",
            "cost: 659.06 theta: 144.08 9.76\n",
            "cost: 658.32 theta: 144.16 9.76\n",
            "cost: 657.59 theta: 144.25 9.76\n",
            "cost: 656.87 theta: 144.33 9.76\n",
            "cost: 656.17 theta: 144.42 9.76\n",
            "cost: 655.49 theta: 144.50 9.76\n",
            "cost: 654.81 theta: 144.58 9.76\n",
            "cost: 654.15 theta: 144.67 9.76\n",
            "cost: 653.51 theta: 144.75 9.76\n",
            "cost: 652.87 theta: 144.83 9.76\n",
            "cost: 652.25 theta: 144.91 9.77\n",
            "cost: 651.64 theta: 144.99 9.77\n",
            "cost: 651.04 theta: 145.06 9.77\n",
            "Theta found by gradient descent: 145.0638, 9.7670\n"
          ]
        }
      ]
    },
    {
      "cell_type": "code",
      "metadata": {
        "colab": {
          "base_uri": "https://localhost:8080/",
          "height": 282
        },
        "id": "JXdCaIjmyFCH",
        "outputId": "cca89917-993a-406b-da02-84e44678f190"
      },
      "source": [
        "ax = plot_data(X_part[:, 1], y_part)\n",
        "\n",
        "x_line = np.linspace(-10, 10, 100)\n",
        "y_line = theta[1]*x_line + theta[0]\n",
        "\n",
        "ax.plot(x_line, y_line, 'g', label='y=wx+b')"
      ],
      "execution_count": 255,
      "outputs": [
        {
          "output_type": "execute_result",
          "data": {
            "text/plain": [
              "[<matplotlib.lines.Line2D at 0x7f04b1e11910>]"
            ]
          },
          "metadata": {},
          "execution_count": 255
        },
        {
          "output_type": "display_data",
          "data": {
            "image/png": "[encoded data removed]",
            "text/plain": [
              "<Figure size 432x288 with 1 Axes>"
            ]
          },
          "metadata": {
            "needs_background": "light"
          }
        }
      ]
    },
    {
      "cell_type": "code",
      "metadata": {
        "id": "QBrwhum53CKB"
      },
      "source": [
        "J_history = np.array(J_history)"
      ],
      "execution_count": 246,
      "outputs": []
    },
    {
      "cell_type": "code",
      "metadata": {
        "id": "I9JXaYKj0tLS",
        "outputId": "cae63d20-d3ae-4e4b-c1a7-43fbdafa3da6",
        "colab": {
          "base_uri": "https://localhost:8080/",
          "height": 265
        }
      },
      "source": [
        "ax1 = plot_data(range(len(J_history)), J_history[:, 0])"
      ],
      "execution_count": 250,
      "outputs": [
        {
          "output_type": "display_data",
          "data": {
            "image/png": "[encoded data removed]",
            "text/plain": [
              "<Figure size 432x288 with 1 Axes>"
            ]
          },
          "metadata": {
            "needs_background": "light"
          }
        }
      ]
    },
    {
      "cell_type": "code",
      "metadata": {
        "id": "uzcYYuUa3XH_",
        "outputId": "eb84a235-0441-4549-ee82-0c6785e3a500",
        "colab": {
          "base_uri": "https://localhost:8080/",
          "height": 282
        }
      },
      "source": [
        "ax1 = plot_data(range(len(J_history)), J_history[:, 1])\n",
        "\n",
        "ax1.plot(range(len(J_history)), J_history[:, 2], 'g', label='y=wx+b')"
      ],
      "execution_count": 253,
      "outputs": [
        {
          "output_type": "execute_result",
          "data": {
            "text/plain": [
              "[<matplotlib.lines.Line2D at 0x7f04b1eacc10>]"
            ]
          },
          "metadata": {},
          "execution_count": 253
        },
        {
          "output_type": "display_data",
          "data": {
            "image/png": "[encoded data removed]",
            "text/plain": [
              "<Figure size 432x288 with 1 Axes>"
            ]
          },
          "metadata": {
            "needs_background": "light"
          }
        }
      ]
    },
    {
      "cell_type": "code",
      "metadata": {
        "id": "8fO_6N4f4AW5",
        "outputId": "691ae1c2-7aad-43c4-8d73-72a982bbb5a9",
        "colab": {
          "base_uri": "https://localhost:8080/",
          "height": 265
        }
      },
      "source": [
        "ax1 = plot_data(range(len(J_history)), J_history[:, 2])"
      ],
      "execution_count": 254,
      "outputs": [
        {
          "output_type": "display_data",
          "data": {
            "image/png": "[encoded data removed]",
            "text/plain": [
              "<Figure size 432x288 with 1 Axes>"
            ]
          },
          "metadata": {
            "needs_background": "light"
          }
        }
      ]
    }
  ]
}