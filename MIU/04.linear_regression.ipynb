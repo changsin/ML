{
  "nbformat": 4,
  "nbformat_minor": 0,
  "metadata": {
    "colab": {
      "name": "04.linear_regression.ipynb",
      "provenance": [],
      "toc_visible": true,
      "authorship_tag": "ABX9TyN8orJt2JE55gsvSE0GRbCz",
      "include_colab_link": true
    },
    "kernelspec": {
      "name": "python3",
      "display_name": "Python 3"
    },
    "language_info": {
      "name": "python"
    }
  },
  "cells": [
    {
      "cell_type": "markdown",
      "metadata": {
        "id": "view-in-github",
        "colab_type": "text"
      },
      "source": [
        "<a href=\"https://colab.research.google.com/github/changsin/ML/blob/main/MIU/04.linear_regression.ipynb\" target=\"_parent\"><img src=\"https://colab.research.google.com/assets/colab-badge.svg\" alt=\"Open In Colab\"/></a>"
      ]
    },
    {
      "cell_type": "markdown",
      "metadata": {
        "id": "ZGXC7yKOxbBY"
      },
      "source": [
        "# Linear regression\n",
        "Linear regression is a parametric method that follows a linear model: i.e., there is a linear relationship between variables."
      ]
    },
    {
      "cell_type": "markdown",
      "metadata": {
        "id": "m8vekSZQYFB9"
      },
      "source": [
        "## Model\n",
        "The equation of the linear model is:\n",
        "\n",
        "$$ h_\\theta(x) = \\theta_0 + \\theta_1x $$\n",
        "\n",
        "- h: hypothesis\n",
        "- $\\theta_0, \\theta_1 $: parameters\n",
        "- x: input\n"
      ]
    },
    {
      "cell_type": "markdown",
      "metadata": {
        "id": "26Sd2y0iWlwd"
      },
      "source": [
        "## Cost function\n",
        "Following Andrew Ng's [Coursera Machine Learning](https://www.coursera.org/learn/machine-learning), here is the cost function we use a slightly modified MSE (Mean Squared Error) to compute the error:\n",
        "\n",
        "$$ J(\\theta) = \\frac{1}{2m}\\sum\\limits_{t=1}^{m}(h_\\theta(x^{(i)}) - y^{(i)})^2 $$\n",
        "\n",
        "- $J(\\theta)$: Cost function\n",
        "- m: number  of samples\n",
        "- h: hypothesis\n",
        "- y: ground truth\n",
        "\n",
        "### Two things to note are:\n",
        "1. Note that the superscript i in ($x^{(i)}, y^{(i)}$) does not mean an exponential term , but an index.\n",
        "2. The denominator m is multiplied by 2 to make further calculations (i.e., taking derivatives) easy. It does not affect the result in computing the errors.\n",
        "\n"
      ]
    },
    {
      "cell_type": "markdown",
      "metadata": {
        "id": "V91X4QbmZ6cb"
      },
      "source": [
        "## Gradient Descent\n",
        "The goal of linear regression is to find the parameters $\\theta_0$ and $ \\theta_1$ that minimize the error.\n",
        "That amounts to taking partial derivatives of the quadratic error function in terms of the two parameter terms $\\theta_0$ and $ \\theta_1$. You can see why by plotting the error function. The convex shape tells us that there is a global minimum at the lowest point and partial derivatives would help us calculate how much we need to adjust the parameters on each iteration. \n"
      ]
    },
    {
      "cell_type": "code",
      "metadata": {
        "colab": {
          "base_uri": "https://localhost:8080/",
          "height": 282
        },
        "id": "oojG5rHiaQb9",
        "outputId": "aee97439-2fd0-4d9f-ce5c-6a5d72c78389"
      },
      "source": [
        "import numpy as np\n",
        "import matplotlib.pyplot as plt\n",
        "\n",
        "X = np.arange(-10, 11, 1)\n",
        "Y = X**2\n",
        "Y\n",
        "plt.plot(X, Y)"
      ],
      "execution_count": 61,
      "outputs": [
        {
          "output_type": "execute_result",
          "data": {
            "text/plain": [
              "[<matplotlib.lines.Line2D at 0x7f6b7f5a9610>]"
            ]
          },
          "metadata": {},
          "execution_count": 61
        },
        {
          "output_type": "display_data",
          "data": {
            "image/png": "[encoded data removed]",
            "text/plain": [
              "<Figure size 432x288 with 1 Axes>"
            ]
          },
          "metadata": {
            "needs_background": "light"
          }
        }
      ]
    },
    {
      "cell_type": "markdown",
      "metadata": {
        "id": "NzM9wzjUcFVO"
      },
      "source": [
        "### Derivation of partial derivatives\n",
        "Taking partial derivatives on the cost function J:\n",
        "$$\n",
        "J(\\theta) = \\frac{1}{2m}\\sum\\limits_{t=1}^{m}(h_\\theta(x^{(i)}) - y^{(i)})^2 \n",
        "$$\n",
        "\n",
        "means:\n",
        "\n",
        "$$\n",
        "\\frac{\\delta}{\\delta\\theta_j} J(\\theta_0, \\theta_1) = \\frac{\\delta}{\\delta\\theta_j}[ \\frac{1}{2m}\\sum\\limits_{t=1}^{m}(h_\\theta(x^{(i)}) - y^{(i)})^2 ]\n",
        "$$\n",
        "\n",
        "Since $h_\\theta = \\theta_0 + \\theta_1x $, we can substitute h:\n",
        "\n",
        "$$\n",
        " = \\frac{\\delta}{\\delta\\theta_j}[ \\frac{1}{2m}\\sum\\limits_{t=1}^{m}(\\theta_0 + \\theta_1x^{(i)} - y^{(i)})^2 ]\n",
        "$$\n",
        "\n",
        "To take a partial derivative, you need to expand the term.\n",
        "\n",
        "$$\n",
        " (\\theta_0 + \\theta_1x^{(i)} - y^{(i)})^2 = \\theta_0^2 + (\\theta_1x^{(i)})^2 + (y^{(i)})^2 + 2\\theta_0 \\theta_1x^{(i)} - 2\\theta_0 y^{(i)} - 2\\theta_1x^{(i)} y^{(i)}\n",
        "$$"
      ]
    },
    {
      "cell_type": "markdown",
      "metadata": {
        "id": "p3-1jepmh885"
      },
      "source": [
        "Taking partial derivatives for $ \\theta_0 $ and $\\theta_1$, gives us:\n",
        "\n",
        "\n",
        "$$\n",
        "\\frac{\\delta}{\\delta\\theta_0}[ \n",
        "\\theta_0^2 + (\\theta_1x^{(i)})^2 + (y^{(i)})^2 + 2\\theta_0 \\theta_1x^{(i)} - 2\\theta_0 y^{(i)} - 2\\theta_1x^{(i)} y^{(i)}]\n",
        "$$\n",
        "\n",
        "$$\n",
        "= 2\\theta_0 + 2\\theta_1x^{(i)} - 2y^{(i)}\n",
        "$$\n",
        "$$\n",
        "= 2(\\theta_0 + \\theta_1x^{(i)} - y^{(i)}) = 2(h_\\theta x^{(i)} - y^{(i)})\n",
        "$$\n",
        "In other words,\n",
        "$$ \\frac{\\delta}{\\delta\\theta_0} J(\\theta) = \\frac{1}{m}\\sum\\limits_{i=1}^{m}(h_\\theta x^{(i)} - y^{(i)})\n",
        "$$"
      ]
    },
    {
      "cell_type": "markdown",
      "metadata": {
        "id": "ffFX6Y_2mnuH"
      },
      "source": [
        "\n",
        "Similarly, for $ \\theta_1$:\n",
        "$$\n",
        "\\frac{\\delta}{\\delta\\theta_1}[ \n",
        "\\theta_0^2 + (\\theta_1x^{(i)})^2 + (y^{(i)})^2 + 2\\theta_0 \\theta_1x^{(i)} - 2\\theta_0 y^{(i)} - 2\\theta_1x^{(i)} y^{(i)}]\n",
        "$$\n",
        "\n",
        "$$\n",
        "= 2\\theta_1x^{(i)} + 2\\theta_0x^{(i)} - 2x^{(i)}y^{(i)}\n",
        "$$\n",
        "\n",
        "$$\n",
        "= 2(\\theta_0 + \\theta_1x^{(i)} - y^{(i)})x^{(i)} = 2(h_\\theta(x^{(i)}) - y^{(i)})x^{(i)}\n",
        "$$\n",
        "\n",
        "In other words,\n",
        "\n",
        "$$ \\frac{\\delta}{\\delta\\theta_1} J(\\theta) = \\frac{1}{m}\\sum\\limits_{i=1}^{m}(h_\\theta(x^{(i)}) - y^{(i)})x^{(i)} $$\n"
      ]
    },
    {
      "cell_type": "markdown",
      "metadata": {
        "id": "c2cP0wh9pxnM"
      },
      "source": [
        "In summary,\n",
        "\n",
        "$$ \\frac{\\delta}{\\delta\\theta_0} J(\\theta_0, \\theta_1) = \\frac{1}{m}\\sum\\limits_{i=1}^{m}(h_\\theta(x^{(i)}) - y^{(i)}) $$\n",
        "\n",
        "$$ \\frac{\\delta}{\\delta\\theta_1} J(\\theta_0, \\theta_1) = \\frac{1}{m}\\sum\\limits_{i=1}^{m}(h_\\theta(x^{(i)}) - y^{(i)})x^{(i)} $$"
      ]
    },
    {
      "cell_type": "markdown",
      "metadata": {
        "id": "_MxdeKNoq3Sg"
      },
      "source": [
        "In practice, we add a learning rate $\\alpha$ and update all $\\theta s$ simultaneously. \n",
        "\n",
        "$$ \\theta_j = \\theta_j - \\alpha \\frac{1}{m} \\sum_{i=1}^m \\left( h_\\theta(x^{(i)}) - y^{(i)}\\right)x_j^{(i)} \\qquad \\text{simultaneously update } \\theta_j \\text{ for all } j$$\n",
        "\n",
        "So this is the formula we will use to update the parameters."
      ]
    },
    {
      "cell_type": "code",
      "metadata": {
        "id": "30hC8Y_UXs8C",
        "colab": {
          "base_uri": "https://localhost:8080/"
        },
        "outputId": "ba62f940-0390-41e0-b6d7-ffae8d4f153a"
      },
      "source": [
        "!git clone https://github.com/changsin/ML"
      ],
      "execution_count": null,
      "outputs": [
        {
          "output_type": "stream",
          "name": "stdout",
          "text": [
            "Cloning into 'ML'...\n",
            "remote: Enumerating objects: 50, done.\u001b[K\n",
            "remote: Counting objects: 100% (50/50), done.\u001b[K\n",
            "remote: Compressing objects: 100% (43/43), done.\u001b[K\n",
            "remote: Total 50 (delta 11), reused 0 (delta 0), pack-reused 0\u001b[K\n",
            "Unpacking objects: 100% (50/50), done.\n"
          ]
        }
      ]
    },
    {
      "cell_type": "markdown",
      "metadata": {
        "id": "qBVuhik7Btsv"
      },
      "source": [
        "# Sample dataset:\n",
        " [sklearn diabetes](https://scikit-learn.org/stable/datasets/toy_dataset.html)\n",
        "\n",
        "## X column attributes:\n",
        "1. age age in years\n",
        "2. sex\n",
        "3. bmi body mass index\n",
        "4. bp average blood pressure\n",
        "5. s1 tc, total serum cholesterol\n",
        "6. s2 ldl, low-density lipoproteins\n",
        "7. s3 hdl, high-density lipoproteins\n",
        "8. s4 tch, total cholesterol / HDL\n",
        "9. s5 ltg, possibly log of serum triglycerides level\n",
        "10. s6 glu, blood sugar level\n",
        "\n",
        "(mean centered and scaled by the standard deviation times n_samples (i.e. the sum of squares of each column totals 1).\n",
        "\n",
        "## y target value:\n",
        " quantitative measure of disease progression one year after baseline\n"
      ]
    },
    {
      "cell_type": "code",
      "metadata": {
        "id": "dPzcPJsB2op8",
        "colab": {
          "base_uri": "https://localhost:8080/"
        },
        "outputId": "7917853a-5a73-45f2-a5b8-8ad11faa7e50"
      },
      "source": [
        "from sklearn import datasets\n",
        "\n",
        "X, y = datasets.load_diabetes(return_X_y=True)\n",
        "X.shape"
      ],
      "execution_count": 1,
      "outputs": [
        {
          "output_type": "execute_result",
          "data": {
            "text/plain": [
              "(442, 10)"
            ]
          },
          "metadata": {},
          "execution_count": 1
        }
      ]
    },
    {
      "cell_type": "code",
      "metadata": {
        "id": "TUpS6TOZ_ToG",
        "colab": {
          "base_uri": "https://localhost:8080/",
          "height": 298
        },
        "outputId": "db67ff6a-dda5-4e8c-b732-122cedacbfcf"
      },
      "source": [
        "import matplotlib.pyplot as plt\n",
        "\n",
        "def plot_data(X, y, limit=20):\n",
        "  fig, ax = plt.subplots()\n",
        "  ax.plot(X[:limit, 8]*100, y[:limit], marker='o', linestyle='', ms=12)\n",
        "  # ax.plot(negatives[:, 0], negatives[:, 1], marker='o', linestyle='', ms=12, label='-')\n",
        "\n",
        "  plt.legend()\n",
        "\n",
        "  return ax\n",
        "\n",
        "ax = plot_data(X, y)\n",
        "\n",
        "x_line = np.linspace(-10, 10, 100)\n",
        "y_line = 15*x_line + 150\n",
        "\n",
        "ax.plot(x_line, y_line, 'g', label='y=wx+b')"
      ],
      "execution_count": 60,
      "outputs": [
        {
          "output_type": "stream",
          "name": "stderr",
          "text": [
            "No handles with labels found to put in legend.\n"
          ]
        },
        {
          "output_type": "execute_result",
          "data": {
            "text/plain": [
              "[<matplotlib.lines.Line2D at 0x7f6b7f636d10>]"
            ]
          },
          "metadata": {},
          "execution_count": 60
        },
        {
          "output_type": "display_data",
          "data": {
            "image/png": "[encoded data removed]",
            "text/plain": [
              "<Figure size 432x288 with 1 Axes>"
            ]
          },
          "metadata": {
            "needs_background": "light"
          }
        }
      ]
    },
    {
      "cell_type": "code",
      "metadata": {
        "id": "U_iDd3TaCWpz"
      },
      "source": [
        ""
      ],
      "execution_count": null,
      "outputs": []
    }
  ]
}