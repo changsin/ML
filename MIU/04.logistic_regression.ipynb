{
  "nbformat": 4,
  "nbformat_minor": 0,
  "metadata": {
    "colab": {
      "name": "04.logistic_regression.ipynb",
      "provenance": [],
      "toc_visible": true,
      "authorship_tag": "ABX9TyPUJ5pR8WRG6GhJoVgR+aL1",
      "include_colab_link": true
    },
    "kernelspec": {
      "name": "python3",
      "display_name": "Python 3"
    },
    "language_info": {
      "name": "python"
    }
  },
  "cells": [
    {
      "cell_type": "markdown",
      "metadata": {
        "id": "view-in-github",
        "colab_type": "text"
      },
      "source": [
        "<a href=\"https://colab.research.google.com/github/changsin/ML/blob/main/MIU/04.logistic_regression.ipynb\" target=\"_parent\"><img src=\"https://colab.research.google.com/assets/colab-badge.svg\" alt=\"Open In Colab\"/></a>"
      ]
    },
    {
      "cell_type": "markdown",
      "metadata": {
        "id": "ZGXC7yKOxbBY"
      },
      "source": [
        "# Logistic regression\n",
        "\n"
      ]
    },
    {
      "cell_type": "markdown",
      "metadata": {
        "id": "qBVuhik7Btsv"
      },
      "source": [
        "# Sample dataset:\n",
        " [sklearn diabetes](https://scikit-learn.org/stable/datasets/toy_dataset.html)\n",
        "\n",
        "Features are computed from a digitized image of a fine needle aspirate (FNA) of a breast mass. They describe characteristics of the cell nuclei present in the image.\n",
        "\n",
        "## X column attributes:\n",
        "1. radius (mean of distances from center to points on the perimeter)\n",
        "2. texture (standard deviation of gray-scale values)\n",
        "3. perimeter\n",
        "4. area\n",
        "5. smoothness (local variation in radius lengths)\n",
        "6. compactness (perimeter^2 / area - 1.0)\n",
        "7. concavity (severity of concave portions of the contour)\n",
        "8. concave points (number of concave portions of the contour)\n",
        "9. symmetry\n",
        "10. fractal dimension (“coastline approximation” - 1)\n",
        "\n",
        "(mean centered and scaled by the standard deviation times n_samples (i.e. the sum of squares of each column totals 1).\n",
        "\n",
        "## y target value:\n",
        "  1: malignant (212) 0: benign (357)"
      ]
    },
    {
      "cell_type": "code",
      "metadata": {
        "id": "30hC8Y_UXs8C",
        "colab": {
          "base_uri": "https://localhost:8080/"
        },
        "outputId": "ba62f940-0390-41e0-b6d7-ffae8d4f153a"
      },
      "source": [
        "!git clone https://github.com/changsin/ML"
      ],
      "execution_count": null,
      "outputs": [
        {
          "output_type": "stream",
          "name": "stdout",
          "text": [
            "Cloning into 'ML'...\n",
            "remote: Enumerating objects: 50, done.\u001b[K\n",
            "remote: Counting objects: 100% (50/50), done.\u001b[K\n",
            "remote: Compressing objects: 100% (43/43), done.\u001b[K\n",
            "remote: Total 50 (delta 11), reused 0 (delta 0), pack-reused 0\u001b[K\n",
            "Unpacking objects: 100% (50/50), done.\n"
          ]
        }
      ]
    },
    {
      "cell_type": "code",
      "metadata": {
        "id": "oKv0UvYDGJqB",
        "outputId": "49054c97-13e1-4a12-ff2f-dfb3d9d7b54c",
        "colab": {
          "base_uri": "https://localhost:8080/"
        }
      },
      "source": [
        "from sklearn import datasets\n",
        "\n",
        "X, y = datasets.load_breast_cancer(return_X_y=True)\n",
        "\n",
        "X.shape"
      ],
      "execution_count": 2,
      "outputs": [
        {
          "output_type": "execute_result",
          "data": {
            "text/plain": [
              "(569, 30)"
            ]
          },
          "metadata": {},
          "execution_count": 2
        }
      ]
    },
    {
      "cell_type": "code",
      "metadata": {
        "id": "mryv7ckaGmOo",
        "outputId": "fe4525a8-7456-4db9-e367-31d55ff56de0",
        "colab": {
          "base_uri": "https://localhost:8080/"
        }
      },
      "source": [
        "import numpy as np\n",
        "\n",
        "len(y[y == 1])"
      ],
      "execution_count": 10,
      "outputs": [
        {
          "output_type": "execute_result",
          "data": {
            "text/plain": [
              "357"
            ]
          },
          "metadata": {},
          "execution_count": 10
        }
      ]
    },
    {
      "cell_type": "code",
      "metadata": {
        "id": "jKDI4gYQJHEz",
        "outputId": "d94ae18e-c4fd-4988-e86d-b266231cb83f",
        "colab": {
          "base_uri": "https://localhost:8080/"
        }
      },
      "source": [
        "X[:, :2].shape"
      ],
      "execution_count": 13,
      "outputs": [
        {
          "output_type": "execute_result",
          "data": {
            "text/plain": [
              "(569, 2)"
            ]
          },
          "metadata": {},
          "execution_count": 13
        }
      ]
    },
    {
      "cell_type": "code",
      "metadata": {
        "id": "J1XwWS1ZFndp",
        "outputId": "d2d807f2-ed32-4adb-f559-e1fc61702094",
        "colab": {
          "base_uri": "https://localhost:8080/",
          "height": 265
        }
      },
      "source": [
        "import numpy as np\n",
        "import matplotlib.pyplot as plt\n",
        "\n",
        "def plot_data(X, y):\n",
        "  positives = X[y == 1]\n",
        "  negatives = X[y == 0]\n",
        "\n",
        "  fig, ax = plt.subplots()\n",
        "  ax.plot(positives[:, 0], positives[:, 1], marker='o', linestyle='', ms=12, label='+')\n",
        "  ax.plot(negatives[:, 0], negatives[:, 1], marker='o', linestyle='', ms=12, label='-')\n",
        "  return ax\n",
        "\n",
        "# plt.scatter(X[:, 0], X[:, 1])\n",
        "\n",
        "ax = plot_data(X[:, :2], y)"
      ],
      "execution_count": 14,
      "outputs": [
        {
          "output_type": "display_data",
          "data": {
            "image/png": "[encoded data removed]",
            "text/plain": [
              "<Figure size 432x288 with 1 Axes>"
            ]
          },
          "metadata": {
            "needs_background": "light"
          }
        }
      ]
    },
    {
      "cell_type": "code",
      "metadata": {
        "id": "XIHV8tihJwrJ",
        "outputId": "9cf8bbd4-eb45-467b-b265-b04254ef63b9",
        "colab": {
          "base_uri": "https://localhost:8080/"
        }
      },
      "source": [
        "\n",
        "from sklearn.linear_model import LogisticRegression\n",
        "\n",
        "model_logistic_regression = LogisticRegression()\n",
        "model_logistic_regression.fit(X[:, :2], y)"
      ],
      "execution_count": 17,
      "outputs": [
        {
          "output_type": "execute_result",
          "data": {
            "text/plain": [
              "LogisticRegression(C=1.0, class_weight=None, dual=False, fit_intercept=True,\n",
              "                   intercept_scaling=1, l1_ratio=None, max_iter=100,\n",
              "                   multi_class='auto', n_jobs=None, penalty='l2',\n",
              "                   random_state=None, solver='lbfgs', tol=0.0001, verbose=0,\n",
              "                   warm_start=False)"
            ]
          },
          "metadata": {},
          "execution_count": 17
        }
      ]
    },
    {
      "cell_type": "code",
      "metadata": {
        "id": "DHkQ21wcKEVy",
        "outputId": "8e03fdc4-b3e6-4102-c7f6-437cb2e48f36",
        "colab": {
          "base_uri": "https://localhost:8080/"
        }
      },
      "source": [
        "\n",
        "errors = np.sum(y != model_logistic_regression.predict(X[:, :2]))\n",
        "total = y.shape[0]\n",
        "accurate = total - errors\n",
        "print(\"Accuracy: {:.02f} ({}/{})\".format((total - errors)/total, accurate, total))"
      ],
      "execution_count": 25,
      "outputs": [
        {
          "output_type": "stream",
          "name": "stdout",
          "text": [
            "Accuracy: 0.89 (507/569)\n"
          ]
        }
      ]
    },
    {
      "cell_type": "code",
      "metadata": {
        "id": "nSRBFMVTKddx",
        "outputId": "f664eda5-3854-4133-a0c1-b0bddf18b5fd",
        "colab": {
          "base_uri": "https://localhost:8080/"
        }
      },
      "source": [
        "len(y)"
      ],
      "execution_count": 20,
      "outputs": [
        {
          "output_type": "execute_result",
          "data": {
            "text/plain": [
              "569"
            ]
          },
          "metadata": {},
          "execution_count": 20
        }
      ]
    },
    {
      "cell_type": "code",
      "metadata": {
        "id": "OTbUSL_A_NaI",
        "colab": {
          "base_uri": "https://localhost:8080/"
        },
        "outputId": "6e512bea-c993-4e9a-ec50-ef76bcea713e"
      },
      "source": [
        "# import numpy as np\n",
        "\n",
        "# # X = diabetes_data.data[:, np.newaxis, 2]\n",
        "# X, y = diabetes_data"
      ],
      "execution_count": null,
      "outputs": [
        {
          "output_type": "execute_result",
          "data": {
            "text/plain": [
              "(442, 1)"
            ]
          },
          "metadata": {},
          "execution_count": 11
        }
      ]
    },
    {
      "cell_type": "code",
      "metadata": {
        "id": "TUpS6TOZ_ToG",
        "colab": {
          "base_uri": "https://localhost:8080/"
        },
        "outputId": "09a76078-fe97-4fec-9111-0bc59f13c597"
      },
      "source": [
        "X"
      ],
      "execution_count": null,
      "outputs": [
        {
          "output_type": "execute_result",
          "data": {
            "text/plain": [
              "array([[ 0.03807591,  0.05068012,  0.06169621, ..., -0.00259226,\n",
              "         0.01990842, -0.01764613],\n",
              "       [-0.00188202, -0.04464164, -0.05147406, ..., -0.03949338,\n",
              "        -0.06832974, -0.09220405],\n",
              "       [ 0.08529891,  0.05068012,  0.04445121, ..., -0.00259226,\n",
              "         0.00286377, -0.02593034],\n",
              "       ...,\n",
              "       [ 0.04170844,  0.05068012, -0.01590626, ..., -0.01107952,\n",
              "        -0.04687948,  0.01549073],\n",
              "       [-0.04547248, -0.04464164,  0.03906215, ...,  0.02655962,\n",
              "         0.04452837, -0.02593034],\n",
              "       [-0.04547248, -0.04464164, -0.0730303 , ..., -0.03949338,\n",
              "        -0.00421986,  0.00306441]])"
            ]
          },
          "metadata": {},
          "execution_count": 17
        }
      ]
    },
    {
      "cell_type": "code",
      "metadata": {
        "id": "XJKHfnYpClaw",
        "colab": {
          "base_uri": "https://localhost:8080/"
        },
        "outputId": "2f2602cf-2d11-4844-de2d-d2cb44760a8c"
      },
      "source": [
        "X[:, 0]"
      ],
      "execution_count": null,
      "outputs": [
        {
          "output_type": "execute_result",
          "data": {
            "text/plain": [
              "-3.6396225400041895e-16"
            ]
          },
          "metadata": {},
          "execution_count": 23
        }
      ]
    },
    {
      "cell_type": "code",
      "metadata": {
        "id": "I610_f7GATSX",
        "colab": {
          "base_uri": "https://localhost:8080/"
        },
        "outputId": "a0b78887-5dcf-4335-f424-8af9d6c30f0c"
      },
      "source": [
        "X[:, 1]"
      ],
      "execution_count": null,
      "outputs": [
        {
          "output_type": "execute_result",
          "data": {
            "text/plain": [
              "array([ 0.05068012, -0.04464164,  0.05068012, -0.04464164, -0.04464164,\n",
              "       -0.04464164,  0.05068012,  0.05068012,  0.05068012, -0.04464164,\n",
              "       -0.04464164,  0.05068012, -0.04464164,  0.05068012, -0.04464164,\n",
              "        0.05068012, -0.04464164,  0.05068012, -0.04464164, -0.04464164,\n",
              "       -0.04464164,  0.05068012, -0.04464164,  0.05068012, -0.04464164,\n",
              "        0.05068012, -0.04464164, -0.04464164, -0.04464164,  0.05068012,\n",
              "       -0.04464164, -0.04464164,  0.05068012, -0.04464164, -0.04464164,\n",
              "        0.05068012, -0.04464164, -0.04464164,  0.05068012,  0.05068012,\n",
              "        0.05068012, -0.04464164,  0.05068012, -0.04464164,  0.05068012,\n",
              "        0.05068012, -0.04464164, -0.04464164,  0.05068012,  0.05068012,\n",
              "       -0.04464164,  0.05068012, -0.04464164, -0.04464164, -0.04464164,\n",
              "       -0.04464164, -0.04464164, -0.04464164, -0.04464164,  0.05068012,\n",
              "       -0.04464164,  0.05068012,  0.05068012, -0.04464164,  0.05068012,\n",
              "        0.05068012,  0.05068012,  0.05068012,  0.05068012, -0.04464164,\n",
              "       -0.04464164, -0.04464164,  0.05068012,  0.05068012,  0.05068012,\n",
              "        0.05068012,  0.05068012, -0.04464164, -0.04464164, -0.04464164,\n",
              "       -0.04464164,  0.05068012, -0.04464164, -0.04464164, -0.04464164,\n",
              "       -0.04464164,  0.05068012, -0.04464164,  0.05068012, -0.04464164,\n",
              "       -0.04464164, -0.04464164, -0.04464164, -0.04464164, -0.04464164,\n",
              "       -0.04464164,  0.05068012, -0.04464164,  0.05068012, -0.04464164,\n",
              "       -0.04464164,  0.05068012, -0.04464164,  0.05068012, -0.04464164,\n",
              "        0.05068012, -0.04464164, -0.04464164,  0.05068012,  0.05068012,\n",
              "        0.05068012, -0.04464164, -0.04464164,  0.05068012, -0.04464164,\n",
              "        0.05068012,  0.05068012, -0.04464164,  0.05068012, -0.04464164,\n",
              "       -0.04464164, -0.04464164,  0.05068012,  0.05068012, -0.04464164,\n",
              "        0.05068012, -0.04464164,  0.05068012, -0.04464164, -0.04464164,\n",
              "        0.05068012, -0.04464164,  0.05068012,  0.05068012, -0.04464164,\n",
              "       -0.04464164, -0.04464164, -0.04464164,  0.05068012, -0.04464164,\n",
              "        0.05068012, -0.04464164,  0.05068012, -0.04464164,  0.05068012,\n",
              "       -0.04464164,  0.05068012, -0.04464164,  0.05068012,  0.05068012,\n",
              "       -0.04464164, -0.04464164,  0.05068012,  0.05068012,  0.05068012,\n",
              "        0.05068012, -0.04464164,  0.05068012, -0.04464164, -0.04464164,\n",
              "       -0.04464164,  0.05068012, -0.04464164,  0.05068012, -0.04464164,\n",
              "       -0.04464164,  0.05068012, -0.04464164,  0.05068012, -0.04464164,\n",
              "        0.05068012, -0.04464164,  0.05068012,  0.05068012,  0.05068012,\n",
              "       -0.04464164,  0.05068012, -0.04464164, -0.04464164, -0.04464164,\n",
              "        0.05068012, -0.04464164,  0.05068012,  0.05068012, -0.04464164,\n",
              "        0.05068012,  0.05068012, -0.04464164, -0.04464164, -0.04464164,\n",
              "       -0.04464164,  0.05068012,  0.05068012,  0.05068012, -0.04464164,\n",
              "        0.05068012, -0.04464164,  0.05068012, -0.04464164, -0.04464164,\n",
              "       -0.04464164,  0.05068012,  0.05068012,  0.05068012,  0.05068012,\n",
              "       -0.04464164,  0.05068012, -0.04464164, -0.04464164,  0.05068012,\n",
              "       -0.04464164, -0.04464164, -0.04464164, -0.04464164, -0.04464164,\n",
              "        0.05068012,  0.05068012, -0.04464164, -0.04464164, -0.04464164,\n",
              "        0.05068012, -0.04464164,  0.05068012, -0.04464164, -0.04464164,\n",
              "        0.05068012,  0.05068012,  0.05068012, -0.04464164,  0.05068012,\n",
              "        0.05068012, -0.04464164,  0.05068012, -0.04464164, -0.04464164,\n",
              "        0.05068012, -0.04464164, -0.04464164,  0.05068012, -0.04464164,\n",
              "        0.05068012,  0.05068012,  0.05068012,  0.05068012,  0.05068012,\n",
              "       -0.04464164, -0.04464164, -0.04464164, -0.04464164, -0.04464164,\n",
              "       -0.04464164,  0.05068012, -0.04464164, -0.04464164,  0.05068012,\n",
              "       -0.04464164, -0.04464164,  0.05068012,  0.05068012, -0.04464164,\n",
              "       -0.04464164, -0.04464164,  0.05068012,  0.05068012,  0.05068012,\n",
              "        0.05068012,  0.05068012, -0.04464164,  0.05068012, -0.04464164,\n",
              "        0.05068012,  0.05068012, -0.04464164,  0.05068012, -0.04464164,\n",
              "        0.05068012, -0.04464164, -0.04464164,  0.05068012,  0.05068012,\n",
              "        0.05068012,  0.05068012, -0.04464164, -0.04464164,  0.05068012,\n",
              "       -0.04464164, -0.04464164, -0.04464164,  0.05068012,  0.05068012,\n",
              "        0.05068012, -0.04464164, -0.04464164, -0.04464164,  0.05068012,\n",
              "        0.05068012, -0.04464164, -0.04464164,  0.05068012,  0.05068012,\n",
              "       -0.04464164,  0.05068012, -0.04464164, -0.04464164,  0.05068012,\n",
              "        0.05068012,  0.05068012,  0.05068012, -0.04464164,  0.05068012,\n",
              "       -0.04464164, -0.04464164, -0.04464164,  0.05068012, -0.04464164,\n",
              "       -0.04464164,  0.05068012, -0.04464164, -0.04464164, -0.04464164,\n",
              "       -0.04464164, -0.04464164,  0.05068012,  0.05068012, -0.04464164,\n",
              "       -0.04464164,  0.05068012, -0.04464164, -0.04464164,  0.05068012,\n",
              "        0.05068012,  0.05068012, -0.04464164,  0.05068012,  0.05068012,\n",
              "       -0.04464164, -0.04464164,  0.05068012, -0.04464164, -0.04464164,\n",
              "       -0.04464164,  0.05068012,  0.05068012, -0.04464164, -0.04464164,\n",
              "        0.05068012,  0.05068012,  0.05068012, -0.04464164,  0.05068012,\n",
              "        0.05068012,  0.05068012,  0.05068012, -0.04464164,  0.05068012,\n",
              "        0.05068012,  0.05068012,  0.05068012, -0.04464164,  0.05068012,\n",
              "       -0.04464164, -0.04464164,  0.05068012,  0.05068012,  0.05068012,\n",
              "       -0.04464164,  0.05068012,  0.05068012,  0.05068012, -0.04464164,\n",
              "       -0.04464164,  0.05068012,  0.05068012, -0.04464164, -0.04464164,\n",
              "        0.05068012, -0.04464164,  0.05068012,  0.05068012, -0.04464164,\n",
              "       -0.04464164,  0.05068012, -0.04464164,  0.05068012,  0.05068012,\n",
              "        0.05068012, -0.04464164, -0.04464164,  0.05068012,  0.05068012,\n",
              "        0.05068012, -0.04464164,  0.05068012, -0.04464164, -0.04464164,\n",
              "       -0.04464164,  0.05068012, -0.04464164, -0.04464164,  0.05068012,\n",
              "       -0.04464164, -0.04464164,  0.05068012, -0.04464164, -0.04464164,\n",
              "        0.05068012, -0.04464164, -0.04464164, -0.04464164,  0.05068012,\n",
              "        0.05068012, -0.04464164, -0.04464164, -0.04464164,  0.05068012,\n",
              "       -0.04464164, -0.04464164, -0.04464164, -0.04464164, -0.04464164,\n",
              "       -0.04464164,  0.05068012,  0.05068012,  0.05068012,  0.05068012,\n",
              "       -0.04464164,  0.05068012,  0.05068012,  0.05068012, -0.04464164,\n",
              "       -0.04464164,  0.05068012, -0.04464164, -0.04464164, -0.04464164,\n",
              "       -0.04464164, -0.04464164,  0.05068012,  0.05068012,  0.05068012,\n",
              "       -0.04464164, -0.04464164])"
            ]
          },
          "metadata": {},
          "execution_count": 18
        }
      ]
    },
    {
      "cell_type": "code",
      "metadata": {
        "id": "U_iDd3TaCWpz"
      },
      "source": [
        ""
      ],
      "execution_count": null,
      "outputs": []
    }
  ]
}
