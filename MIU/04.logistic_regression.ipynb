{
  "nbformat": 4,
  "nbformat_minor": 0,
  "metadata": {
    "colab": {
      "name": "04.logistic_regression.ipynb",
      "provenance": [],
      "toc_visible": true,
      "authorship_tag": "ABX9TyPbCHktfucy6y6taEamLVs1",
      "include_colab_link": true
    },
    "kernelspec": {
      "name": "python3",
      "display_name": "Python 3"
    },
    "language_info": {
      "name": "python"
    }
  },
  "cells": [
    {
      "cell_type": "markdown",
      "metadata": {
        "id": "view-in-github",
        "colab_type": "text"
      },
      "source": [
        "<a href=\"https://colab.research.google.com/github/changsin/ML/blob/main/MIU/04.logistic_regression.ipynb\" target=\"_parent\"><img src=\"https://colab.research.google.com/assets/colab-badge.svg\" alt=\"Open In Colab\"/></a>"
      ]
    },
    {
      "cell_type": "markdown",
      "metadata": {
        "id": "ZGXC7yKOxbBY"
      },
      "source": [
        "# Logistic regression\n",
        "\n"
      ]
    },
    {
      "cell_type": "markdown",
      "metadata": {
        "id": "qBVuhik7Btsv"
      },
      "source": [
        "# Sample dataset:\n",
        " [sklearn diabetes](https://scikit-learn.org/stable/datasets/toy_dataset.html)\n",
        "\n",
        "Features are computed from a digitized image of a fine needle aspirate (FNA) of a breast mass. They describe characteristics of the cell nuclei present in the image.\n",
        "\n",
        "## X column attributes:\n",
        "1. radius (mean of distances from center to points on the perimeter)\n",
        "2. texture (standard deviation of gray-scale values)\n",
        "3. perimeter\n",
        "4. area\n",
        "5. smoothness (local variation in radius lengths)\n",
        "6. compactness (perimeter^2 / area - 1.0)\n",
        "7. concavity (severity of concave portions of the contour)\n",
        "8. concave points (number of concave portions of the contour)\n",
        "9. symmetry\n",
        "10. fractal dimension (“coastline approximation” - 1)\n",
        "\n",
        "(mean centered and scaled by the standard deviation times n_samples (i.e. the sum of squares of each column totals 1).\n",
        "\n",
        "## y target value:\n",
        "  1: malignant (212) 0: benign (357)"
      ]
    },
    {
      "cell_type": "code",
      "metadata": {
        "id": "30hC8Y_UXs8C",
        "colab": {
          "base_uri": "https://localhost:8080/"
        },
        "outputId": "ba62f940-0390-41e0-b6d7-ffae8d4f153a"
      },
      "source": [
        "!git clone https://github.com/changsin/ML"
      ],
      "execution_count": null,
      "outputs": [
        {
          "output_type": "stream",
          "name": "stdout",
          "text": [
            "Cloning into 'ML'...\n",
            "remote: Enumerating objects: 50, done.\u001b[K\n",
            "remote: Counting objects: 100% (50/50), done.\u001b[K\n",
            "remote: Compressing objects: 100% (43/43), done.\u001b[K\n",
            "remote: Total 50 (delta 11), reused 0 (delta 0), pack-reused 0\u001b[K\n",
            "Unpacking objects: 100% (50/50), done.\n"
          ]
        }
      ]
    },
    {
      "cell_type": "code",
      "metadata": {
        "id": "oKv0UvYDGJqB",
        "colab": {
          "base_uri": "https://localhost:8080/"
        },
        "outputId": "a89fa532-98a2-4643-a275-d3942c4d584b"
      },
      "source": [
        "from sklearn import datasets\n",
        "\n",
        "X, y = datasets.load_breast_cancer(return_X_y=True)\n",
        "\n",
        "X.shape"
      ],
      "execution_count": 2,
      "outputs": [
        {
          "output_type": "execute_result",
          "data": {
            "text/plain": [
              "(569, 30)"
            ]
          },
          "metadata": {},
          "execution_count": 2
        }
      ]
    },
    {
      "cell_type": "code",
      "metadata": {
        "id": "J1XwWS1ZFndp"
      },
      "source": [
        "import numpy as np\n",
        "import matplotlib.pyplot as plt\n",
        "\n",
        "def plot_data(X, y):\n",
        "  positives = X[y == 1]\n",
        "  negatives = X[y == 0]\n",
        "\n",
        "  fig, ax = plt.subplots()\n",
        "  ax.plot(positives[:, 0], positives[:, 1], marker='o', linestyle='', ms=12, label='+')\n",
        "  ax.plot(negatives[:, 0], negatives[:, 1], marker='o', linestyle='', ms=12, label='-')\n",
        "\n",
        "  plt.legend()\n",
        "\n",
        "  return ax"
      ],
      "execution_count": 3,
      "outputs": []
    },
    {
      "cell_type": "markdown",
      "metadata": {
        "id": "BpN7haki3ivB"
      },
      "source": [
        "## Plot tumor size vs. malignant"
      ]
    },
    {
      "cell_type": "code",
      "metadata": {
        "id": "b7JoTJUq3ewA",
        "outputId": "bb6f9a01-881e-4d3a-8f35-5c959e6eb21c",
        "colab": {
          "base_uri": "https://localhost:8080/",
          "height": 282
        }
      },
      "source": [
        "data = np.stack((X[:, 0], y), axis=1)\n",
        "\n",
        "plot_data(data, y)"
      ],
      "execution_count": 4,
      "outputs": [
        {
          "output_type": "execute_result",
          "data": {
            "text/plain": [
              "<matplotlib.axes._subplots.AxesSubplot at 0x7f089c7b0250>"
            ]
          },
          "metadata": {},
          "execution_count": 4
        },
        {
          "output_type": "display_data",
          "data": {
            "image/png": "[encoded data removed]",
            "text/plain": [
              "<Figure size 432x288 with 1 Axes>"
            ]
          },
          "metadata": {
            "needs_background": "light"
          }
        }
      ]
    },
    {
      "cell_type": "markdown",
      "metadata": {
        "id": "ZT-wF9Ih3rT7"
      },
      "source": [
        "## Plot tumor size and texture"
      ]
    },
    {
      "cell_type": "code",
      "metadata": {
        "id": "ORXgM1uI2-L5",
        "outputId": "482e381e-9ef8-4c1e-ccc7-160db28c0336",
        "colab": {
          "base_uri": "https://localhost:8080/",
          "height": 265
        }
      },
      "source": [
        "data = np.stack((X[:, 0], X[:, 1]), axis=1)\n",
        "\n",
        "ax = plot_data(data, y)"
      ],
      "execution_count": 5,
      "outputs": [
        {
          "output_type": "display_data",
          "data": {
            "image/png": "[encoded data removed]",
            "text/plain": [
              "<Figure size 432x288 with 1 Axes>"
            ]
          },
          "metadata": {
            "needs_background": "light"
          }
        }
      ]
    },
    {
      "cell_type": "code",
      "metadata": {
        "id": "XIHV8tihJwrJ",
        "colab": {
          "base_uri": "https://localhost:8080/"
        },
        "outputId": "a73379e2-bbc8-4265-d107-893827a003a5"
      },
      "source": [
        "\n",
        "from sklearn.linear_model import LogisticRegression\n",
        "\n",
        "model_logistic_regression = LogisticRegression()\n",
        "model_logistic_regression.fit(X[:, :2], y)"
      ],
      "execution_count": 6,
      "outputs": [
        {
          "output_type": "execute_result",
          "data": {
            "text/plain": [
              "LogisticRegression(C=1.0, class_weight=None, dual=False, fit_intercept=True,\n",
              "                   intercept_scaling=1, l1_ratio=None, max_iter=100,\n",
              "                   multi_class='auto', n_jobs=None, penalty='l2',\n",
              "                   random_state=None, solver='lbfgs', tol=0.0001, verbose=0,\n",
              "                   warm_start=False)"
            ]
          },
          "metadata": {},
          "execution_count": 6
        }
      ]
    },
    {
      "cell_type": "code",
      "metadata": {
        "id": "DHkQ21wcKEVy",
        "colab": {
          "base_uri": "https://localhost:8080/"
        },
        "outputId": "9c0c0c80-1fc9-4b8c-f816-95a60449e8df"
      },
      "source": [
        "\n",
        "errors = np.sum(y != model_logistic_regression.predict(X[:, :2]))\n",
        "total = y.shape[0]\n",
        "accurate = total - errors\n",
        "print(\"Accuracy: {:.02f} ({}/{})\".format((total - errors)/total, accurate, total))"
      ],
      "execution_count": 7,
      "outputs": [
        {
          "output_type": "stream",
          "name": "stdout",
          "text": [
            "Accuracy: 0.89 (507/569)\n"
          ]
        }
      ]
    },
    {
      "cell_type": "code",
      "metadata": {
        "id": "LF08Qayp_E2G"
      },
      "source": [
        ""
      ],
      "execution_count": null,
      "outputs": []
    }
  ]
}